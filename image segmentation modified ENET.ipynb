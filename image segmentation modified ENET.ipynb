{
 "cells": [
  {
   "cell_type": "code",
   "execution_count": 1,
   "id": "d66dd8ac",
   "metadata": {},
   "outputs": [],
   "source": [
    "import os\n",
    "import numpy as np\n",
    "import glob\n",
    "import cv2\n",
    "import random\n",
    "import pathlib\n",
    "import matplotlib.pyplot as plt\n",
    "from pprint import pprint\n",
    "import torchinfo\n",
    "import torch\n",
    "import torch.nn as nn\n",
    "import torch.optim as optim\n",
    "from torchvision.transforms import transforms \n",
    "from torch.utils.data import DataLoader\n",
    "from torch.utils.data import Dataset\n",
    "import torchvision\n",
    "from PIL import Image"
   ]
  },
  {
   "cell_type": "code",
   "execution_count": 2,
   "id": "e2ae671b",
   "metadata": {},
   "outputs": [],
   "source": [
    "from tqdm import tqdm"
   ]
  },
  {
   "cell_type": "code",
   "execution_count": 3,
   "id": "6957f664",
   "metadata": {},
   "outputs": [
    {
     "name": "stdout",
     "output_type": "stream",
     "text": [
      "cuda\n"
     ]
    }
   ],
   "source": [
    "device = 'cuda' if torch.cuda.is_available() else 'cpu'\n",
    "print(device)"
   ]
  },
  {
   "cell_type": "code",
   "execution_count": 4,
   "id": "bfa5e8a0",
   "metadata": {},
   "outputs": [
    {
     "name": "stdout",
     "output_type": "stream",
     "text": [
      "Mon Apr 11 11:05:04 2022       \n",
      "+-----------------------------------------------------------------------------+\n",
      "| NVIDIA-SMI 472.47       Driver Version: 472.47       CUDA Version: 11.4     |\n",
      "|-------------------------------+----------------------+----------------------+\n",
      "| GPU  Name            TCC/WDDM | Bus-Id        Disp.A | Volatile Uncorr. ECC |\n",
      "| Fan  Temp  Perf  Pwr:Usage/Cap|         Memory-Usage | GPU-Util  Compute M. |\n",
      "|                               |                      |               MIG M. |\n",
      "|===============================+======================+======================|\n",
      "|   0  NVIDIA GeForce ... WDDM  | 00000000:01:00.0 Off |                  N/A |\n",
      "| N/A   48C    P0    24W /  N/A |    121MiB /  6144MiB |      0%      Default |\n",
      "|                               |                      |                  N/A |\n",
      "+-------------------------------+----------------------+----------------------+\n",
      "                                                                               \n",
      "+-----------------------------------------------------------------------------+\n",
      "| Processes:                                                                  |\n",
      "|  GPU   GI   CI        PID   Type   Process name                  GPU Memory |\n",
      "|        ID   ID                                                   Usage      |\n",
      "|=============================================================================|\n",
      "|  No running processes found                                                 |\n",
      "+-----------------------------------------------------------------------------+\n"
     ]
    }
   ],
   "source": [
    "!nvidia-smi"
   ]
  },
  {
   "cell_type": "code",
   "execution_count": 5,
   "id": "6fbe0f39",
   "metadata": {},
   "outputs": [],
   "source": [
    "lr = 1e-4\n",
    "batch_size = 32\n",
    "img_height = 256\n",
    "img_width = 256\n",
    "pin_memory = True\n",
    "\n",
    "train_img_dir = r'C:/Users/utkar/Desktop/ML/pytorch/image segmentation/SkinCancerDataset/train/images'\n",
    "train_mask_dir = r'C:/Users/utkar/Desktop/ML/pytorch/image segmentation/SkinCancerDataset/train/mask'\n",
    "val_img_dir = r'C:/Users/utkar/Desktop/ML/pytorch/image segmentation/SkinCancerDataset/test/images'\n",
    "val_mask_dir = r'C:/Users/utkar/Desktop/ML/pytorch/image segmentation/SkinCancerDataset/test/mask'"
   ]
  },
  {
   "cell_type": "code",
   "execution_count": 6,
   "id": "e869e727",
   "metadata": {},
   "outputs": [],
   "source": [
    "# dataset source: https://www.kaggle.com/datasets/surajghuwalewala/ham1000-segmentation-and-classification\n",
    "\n",
    "class ISDataset(Dataset):\n",
    "    def __init__(self, img_dir, mask_dir, img_transform, mask_transform):\n",
    "        super(ISDataset, self)\n",
    "        self.img_dir = img_dir\n",
    "        self.mask_dir = mask_dir\n",
    "        self.img_transform = img_transform\n",
    "        self.mask_transform = mask_transform\n",
    "        self.img = os.listdir(img_dir)\n",
    "        \n",
    "    def __len__(self):\n",
    "        return len(self.img)\n",
    "    \n",
    "    def __getitem__(self, index):\n",
    "        img_path = os.path.join(self.img_dir, self.img[index])\n",
    "        mask_path = os.path.join(self.mask_dir, self.img[index].replace('.jpg', '_mask.png'))\n",
    "        img = np.array(Image.open(img_path).convert('RGB'))\n",
    "        mask = np.array(Image.open(mask_path).convert('L'))\n",
    "        \n",
    "        img = self.img_transform(img)\n",
    "        mask = self.mask_transform(mask)\n",
    "            \n",
    "        return img, mask"
   ]
  },
  {
   "cell_type": "code",
   "execution_count": 7,
   "id": "73a0c8f4",
   "metadata": {},
   "outputs": [],
   "source": [
    "img_transform = transforms.Compose([\n",
    "    transforms.ToTensor(),\n",
    "    transforms.Resize((256, 256)),\n",
    "    transforms.Normalize([0, 0, 0], [1, 1, 1]),\n",
    "])\n",
    "\n",
    "mask_transform = transforms.Compose([\n",
    "    transforms.ToTensor(),\n",
    "    transforms.Resize((256, 256)),\n",
    "    transforms.Normalize([0], [1]),\n",
    "])\n",
    "\n",
    "train_ds = ISDataset(\n",
    "    img_dir=train_img_dir,\n",
    "    mask_dir=train_mask_dir,\n",
    "    img_transform=img_transform,\n",
    "    mask_transform=mask_transform\n",
    ")\n",
    "\n",
    "val_ds = ISDataset(\n",
    "    img_dir=val_img_dir,\n",
    "    mask_dir=val_mask_dir,\n",
    "    img_transform=img_transform,\n",
    "    mask_transform=mask_transform\n",
    ")\n",
    "\n",
    "train_loader = DataLoader(\n",
    "    train_ds,\n",
    "    batch_size=batch_size,\n",
    "    pin_memory=pin_memory,\n",
    "    shuffle=True\n",
    ")\n",
    "\n",
    "val_loader = DataLoader(\n",
    "    val_ds,\n",
    "    batch_size=batch_size,\n",
    "    pin_memory=pin_memory,\n",
    "    shuffle=False\n",
    ")"
   ]
  },
  {
   "cell_type": "code",
   "execution_count": 8,
   "id": "0125fb57",
   "metadata": {},
   "outputs": [],
   "source": [
    "def bottleneck(in_c, out_c, regular=False, dilated=False, dilation=None, asymm=False, down_sampling=False, up_sampling=False):\n",
    "    if down_sampling:\n",
    "        conv = nn.Sequential(\n",
    "            nn.Conv2d(in_c, in_c//2, kernel_size=(2, 2), stride=2),\n",
    "            nn.BatchNorm2d(in_c//2),\n",
    "            nn.PReLU(),  \n",
    "            nn.Conv2d(in_c//2, in_c//2, kernel_size=(3, 3), padding=1),\n",
    "            nn.BatchNorm2d(in_c//2),\n",
    "            nn.PReLU(),\n",
    "            nn.Conv2d(in_c//2, in_c*(out_c//in_c-1), kernel_size=(1, 1)),\n",
    "            nn.BatchNorm2d(in_c*(out_c//in_c-1))\n",
    "        )\n",
    "        conv1 = nn.Sequential(nn.MaxPool2d(kernel_size=(2, 2), stride=(2, 2), return_indices=True))\n",
    "        \n",
    "        return conv, conv1\n",
    "        \n",
    "    if up_sampling:\n",
    "        conv = nn.Sequential(\n",
    "            nn.ConvTranspose2d(in_c, in_c//2, kernel_size=(2, 2), stride=(2, 2)),\n",
    "            nn.BatchNorm2d(in_c//2),\n",
    "            nn.PReLU(),\n",
    "            nn.Conv2d(in_c//2, in_c//2, kernel_size=(3, 3), padding=1),\n",
    "            nn.BatchNorm2d(in_c//2),\n",
    "            nn.PReLU(),\n",
    "            nn.Conv2d(in_c//2, out_c, kernel_size=(1, 1)),\n",
    "            nn.BatchNorm2d(out_c)\n",
    "        )\n",
    "        conv1 = nn.Sequential(nn.MaxUnpool2d(kernel_size=(2, 2), stride=(2, 2)))\n",
    "        return conv#, conv1\n",
    "        \n",
    "    elif regular:\n",
    "        conv = nn.Sequential(\n",
    "            nn.Conv2d(in_c, in_c//2, kernel_size=(1, 1)),\n",
    "            nn.BatchNorm2d(in_c//2),\n",
    "            nn.PReLU(),\n",
    "            nn.Conv2d(in_c//2, in_c//2, kernel_size=(3, 3), padding=1),\n",
    "            nn.BatchNorm2d(in_c//2),\n",
    "            nn.PReLU(),\n",
    "            nn.Conv2d(in_c//2, out_c, kernel_size=(1, 1)),\n",
    "            nn.BatchNorm2d(out_c)\n",
    "        )\n",
    "        return conv\n",
    "    elif dilated:\n",
    "        conv = nn.Sequential(\n",
    "            nn.Conv2d(in_c, in_c//2, kernel_size=(1, 1)),\n",
    "            nn.BatchNorm2d(in_c//2),\n",
    "            nn.PReLU(),\n",
    "            nn.Conv2d(in_c//2, in_c//2, kernel_size=(3, 3), dilation=dilation, padding=dilation),\n",
    "            nn.BatchNorm2d(in_c//2),\n",
    "            nn.PReLU(),\n",
    "            nn.Conv2d(in_c//2, out_c, kernel_size=(1, 1)),\n",
    "            nn.BatchNorm2d(out_c)\n",
    "        )\n",
    "        return conv\n",
    "        \n",
    "    elif asymm:\n",
    "        conv = nn.Sequential(\n",
    "            nn.Conv2d(in_c, in_c//2, kernel_size=(1, 1)),\n",
    "            nn.BatchNorm2d(in_c//2),\n",
    "            nn.PReLU(),\n",
    "            nn.Conv2d (in_c//2, in_c//2, (1, 5), bias = False, padding=(0, 2)),\n",
    "            nn.BatchNorm2d(in_c//2),\n",
    "            nn.PReLU(),\n",
    "            nn.Conv2d (in_c//2, in_c//2, (5, 1), bias = False, padding=(2, 0)),\n",
    "            nn.BatchNorm2d(in_c//2),\n",
    "            nn.PReLU(),\n",
    "            nn.Conv2d(in_c//2, out_c, kernel_size=(1, 1)),\n",
    "            nn.BatchNorm2d(out_c)\n",
    "        )\n",
    "        return conv\n"
   ]
  },
  {
   "cell_type": "code",
   "execution_count": 9,
   "id": "6bf01290",
   "metadata": {},
   "outputs": [],
   "source": [
    "def conv1x1(in_c, out_c):\n",
    "    conv = nn.Sequential(nn.Conv2d(in_c, out_c, kernel_size=(1, 1)))\n",
    "    return conv"
   ]
  },
  {
   "cell_type": "code",
   "execution_count": 10,
   "id": "95c3d886",
   "metadata": {},
   "outputs": [],
   "source": [
    "class ENET(nn.Module):\n",
    "    def __init__(self):\n",
    "        super(ENET, self).__init__()\n",
    "        \n",
    "        self.initial1 = nn.Conv2d(3, 13, kernel_size=(3, 3), stride=2, padding=1)\n",
    "        self.initial2 = nn.MaxPool2d(kernel_size=2, stride=2)\n",
    "        \n",
    "        self.bn10_1, self.bn10_2 = bottleneck(16, 64, down_sampling=True)   ### 2\n",
    "        self.conv1x1_10 = conv1x1(64, 64)\n",
    "        self.bn11 = bottleneck(64, 64, regular=True)\n",
    "        self.conv1x1_11 = conv1x1(128, 64)\n",
    "        self.bn12 = bottleneck(64, 64, regular=True)\n",
    "        self.conv1x1_12 = conv1x1(128, 64)\n",
    "        self.bn13 = bottleneck(64, 64, regular=True)\n",
    "        self.conv1x1_13 = conv1x1(128, 64)\n",
    "        self.bn14 = bottleneck(64, 64, regular=True)\n",
    "        self.conv1x1_14 = conv1x1(128, 64)\n",
    "        \n",
    "        self.bn20_1, self.bn20_2 = bottleneck(64, 128, down_sampling=True)  ### 2\n",
    "        self.conv1x1_20 = conv1x1(128, 128)\n",
    "        self.bn21 = bottleneck(128, 128, regular=True)\n",
    "        self.conv1x1_21 = conv1x1(256, 128)\n",
    "        self.bn22 = bottleneck(128, 128, dilated=True, dilation=2)\n",
    "        self.conv1x1_22 = conv1x1(256, 128)\n",
    "        self.bn23 = bottleneck(128, 128, asymm=True)\n",
    "        self.conv1x1_23 = conv1x1(256, 128)\n",
    "        self.bn24 = bottleneck(128, 128, dilated=True, dilation=4)\n",
    "        self.conv1x1_24 = conv1x1(256, 128)\n",
    "        self.bn25 = bottleneck(128, 128, regular=True)\n",
    "        self.conv1x1_25 = conv1x1(256, 128)\n",
    "        self.bn26 = bottleneck(128, 128, dilated=True, dilation=8)\n",
    "        self.conv1x1_26 = conv1x1(256, 128)\n",
    "        self.bn27 = bottleneck(128, 128, asymm=True)\n",
    "        self.conv1x1_27 = conv1x1(256, 128)\n",
    "        self.bn28 = bottleneck(128, 128, dilated=True, dilation=8)\n",
    "        self.conv1x1_28 = conv1x1(256, 128)\n",
    "\n",
    "        self.bn31 = bottleneck(128, 128, regular=True)\n",
    "        self.conv1x1_31 = conv1x1(256, 128)\n",
    "        self.bn32 = bottleneck(128, 128, dilated=True, dilation=2)\n",
    "        self.conv1x1_32 = conv1x1(256, 128)\n",
    "        self.bn33 = bottleneck(128, 128, asymm=True)\n",
    "        self.conv1x1_33 = conv1x1(256, 128)\n",
    "        self.bn34 = bottleneck(128, 128, dilated=True, dilation=4)\n",
    "        self.conv1x1_34 = conv1x1(256, 128)\n",
    "        self.bn35 = bottleneck(128, 128, regular=True)\n",
    "        self.conv1x1_35 = conv1x1(256, 128)\n",
    "        self.bn36 = bottleneck(128, 128, dilated=True, dilation=8)\n",
    "        self.conv1x1_36 = conv1x1(256, 128)\n",
    "        self.bn37 = bottleneck(128, 128, asymm=True)\n",
    "        self.conv1x1_37 = conv1x1(256, 128)\n",
    "        self.bn38 = bottleneck(128, 128, dilated=True, dilation=8)\n",
    "        self.conv1x1_38 = conv1x1(256, 128)\n",
    "        \n",
    "        self.bn40_1 = bottleneck(128, 64, up_sampling=True) # , self.bn40_2\n",
    "        self.conv1x1_40 = conv1x1(64, 64)\n",
    "        self.bn41 = bottleneck(64, 64, regular=True)\n",
    "        self.conv1x1_41 = conv1x1(128, 64)\n",
    "        self.bn42 = bottleneck(64, 64, regular=True)\n",
    "        self.conv1x1_42 = conv1x1(128, 64)\n",
    "        \n",
    "        self.bn50_1 = bottleneck(64, 16, up_sampling=True) # , self.bn50_2\n",
    "        self.conv1x1_50 = conv1x1(16, 16)\n",
    "        self.bn51 = bottleneck(16, 16, regular=True)\n",
    "        self.conv1x1_51 = conv1x1(32, 16)\n",
    "        \n",
    "        self.out = nn.ConvTranspose2d(16, 1, kernel_size=(2, 2), stride=(2, 2))\n",
    "        \n",
    "    def forward(self, img):\n",
    "        x_i1 = self.initial1(img)\n",
    "        x_i2 = self.initial2(img)\n",
    "        #print(x_i1.shape, x_i2.shape)\n",
    "        x_i = torch.concat([x_i1, x_i2], 1)\n",
    "        \n",
    "        x10_1 = self.bn10_1(x_i)\n",
    "        x10_2, indices_10 = self.bn10_2(x_i)      # maxpooling\n",
    "        #print(x10_2.shape, indices_10.shape)\n",
    "        x10 = self.conv1x1_10(torch.concat([x10_1, x10_2], 1))\n",
    "        x = self.bn11(x10)\n",
    "        x11 = self.conv1x1_11(torch.concat([x, x10], 1))\n",
    "        x = self.bn12(x11)\n",
    "        x12 = self.conv1x1_12(torch.concat([x, x11], 1))\n",
    "        x = self.bn13(x12)\n",
    "        x13 = self.conv1x1_13(torch.concat([x, x12], 1))\n",
    "        x = self.bn14(x13)\n",
    "        x14 = self.conv1x1_14(torch.concat([x, x13], 1))\n",
    "        \n",
    "        x20_1 = self.bn20_1(x14)\n",
    "        x20_2, indices_20 = self.bn20_2(x14)     # maxpooling\n",
    "        #print(indices_20.shape)\n",
    "        x20 = self.conv1x1_20(torch.concat([x20_1, x20_2], 1))\n",
    "        x = self.bn21(x20)\n",
    "        x21 = self.conv1x1_21(torch.concat([x, x20], 1))\n",
    "        x = self.bn22(x21)\n",
    "        #print(x.shape, x21.shape)\n",
    "        x22 = self.conv1x1_22(torch.concat([x, x21], 1))\n",
    "        x = self.bn23(x22)\n",
    "        #print(x.shape, x22.shape)\n",
    "        x23 = self.conv1x1_23(torch.concat([x, x22], 1))\n",
    "        x = self.bn24(x23)\n",
    "        x24 = self.conv1x1_24(torch.concat([x, x23], 1))\n",
    "        x = self.bn25(x24)\n",
    "        x25 = self.conv1x1_25(torch.concat([x, x24], 1))\n",
    "        x = self.bn26(x25)\n",
    "        x26 = self.conv1x1_26(torch.concat([x, x25], 1))\n",
    "        x = self.bn27(x26)\n",
    "        x27 = self.conv1x1_27(torch.concat([x, x26], 1))\n",
    "        x = self.bn28(x27)\n",
    "        x28 = self.conv1x1_28(torch.concat([x, x27], 1))\n",
    "        \n",
    "        x = self.bn31(x28)\n",
    "        x31 = self.conv1x1_31(torch.concat([x, x28], 1))\n",
    "        x = self.bn32(x31)\n",
    "        x32 = self.conv1x1_32(torch.concat([x, x31], 1))\n",
    "        x = self.bn33(x32)\n",
    "        x33 = self.conv1x1_33(torch.concat([x, x32], 1))\n",
    "        x = self.bn34(x33)\n",
    "        x34 = self.conv1x1_34(torch.concat([x, x33], 1))\n",
    "        x = self.bn35(x34)\n",
    "        x35 = self.conv1x1_35(torch.concat([x, x34], 1))\n",
    "        x = self.bn36(x35)\n",
    "        x36 = self.conv1x1_36(torch.concat([x, x35], 1))\n",
    "        x = self.bn37(x36)\n",
    "        x37 = self.conv1x1_37(torch.concat([x, x36], 1))\n",
    "        x = self.bn38(x37)\n",
    "        x38 = self.conv1x1_38(torch.concat([x, x37], 1))\n",
    "        \n",
    "        x40_1 = self.bn40_1(x38)\n",
    "        #print(x40_1.shape)\n",
    "        x40_1 = self.conv1x1_40(x40_1)\n",
    "        #print(indices_20)\n",
    "        #x40_2 = self.bn40_2(x38)   # add x38\n",
    "        #x40 = self.conv1x1_40(torch.concat([x40_1, x40_2], 1))\n",
    "        x = self.bn41(x40_1)\n",
    "        x41 = self.conv1x1_41(torch.concat([x, x40_1], 1))\n",
    "        x = self.bn42(x41)\n",
    "        x42 = self.conv1x1_42(torch.concat([x, x41], 1))\n",
    "        \n",
    "        x50_1 = self.bn50_1(x42)\n",
    "        #print(x50_1.shape, x42.shape)\n",
    "        x50_1 = self.conv1x1_50(x50_1)\n",
    "        #print(x50_1.shape)\n",
    "        #x50_2 = self.bn50_2(x42)\n",
    "        #x50 = self.conv1x1_50(torch.concat([x50_1, x50_2], 1))\n",
    "        x = self.bn51(x50_1)\n",
    "        x51 = self.conv1x1_51(torch.concat([x, x50_1], 1))\n",
    "        \n",
    "        x_out = self.out(x51)\n",
    "        return x_out\n",
    "        "
   ]
  },
  {
   "cell_type": "code",
   "execution_count": 11,
   "id": "0c736b8d",
   "metadata": {
    "scrolled": true
   },
   "outputs": [
    {
     "name": "stdout",
     "output_type": "stream",
     "text": [
      "ENET(\n",
      "  (initial1): Conv2d(3, 13, kernel_size=(3, 3), stride=(2, 2), padding=(1, 1))\n",
      "  (initial2): MaxPool2d(kernel_size=2, stride=2, padding=0, dilation=1, ceil_mode=False)\n",
      "  (bn10_1): Sequential(\n",
      "    (0): Conv2d(16, 8, kernel_size=(2, 2), stride=(2, 2))\n",
      "    (1): BatchNorm2d(8, eps=1e-05, momentum=0.1, affine=True, track_running_stats=True)\n",
      "    (2): PReLU(num_parameters=1)\n",
      "    (3): Conv2d(8, 8, kernel_size=(3, 3), stride=(1, 1), padding=(1, 1))\n",
      "    (4): BatchNorm2d(8, eps=1e-05, momentum=0.1, affine=True, track_running_stats=True)\n",
      "    (5): PReLU(num_parameters=1)\n",
      "    (6): Conv2d(8, 48, kernel_size=(1, 1), stride=(1, 1))\n",
      "    (7): BatchNorm2d(48, eps=1e-05, momentum=0.1, affine=True, track_running_stats=True)\n",
      "  )\n",
      "  (bn10_2): Sequential(\n",
      "    (0): MaxPool2d(kernel_size=(2, 2), stride=(2, 2), padding=0, dilation=1, ceil_mode=False)\n",
      "  )\n",
      "  (conv1x1_10): Sequential(\n",
      "    (0): Conv2d(64, 64, kernel_size=(1, 1), stride=(1, 1))\n",
      "  )\n",
      "  (bn11): Sequential(\n",
      "    (0): Conv2d(64, 32, kernel_size=(1, 1), stride=(1, 1))\n",
      "    (1): BatchNorm2d(32, eps=1e-05, momentum=0.1, affine=True, track_running_stats=True)\n",
      "    (2): PReLU(num_parameters=1)\n",
      "    (3): Conv2d(32, 32, kernel_size=(3, 3), stride=(1, 1), padding=(1, 1))\n",
      "    (4): BatchNorm2d(32, eps=1e-05, momentum=0.1, affine=True, track_running_stats=True)\n",
      "    (5): PReLU(num_parameters=1)\n",
      "    (6): Conv2d(32, 64, kernel_size=(1, 1), stride=(1, 1))\n",
      "    (7): BatchNorm2d(64, eps=1e-05, momentum=0.1, affine=True, track_running_stats=True)\n",
      "  )\n",
      "  (conv1x1_11): Sequential(\n",
      "    (0): Conv2d(128, 64, kernel_size=(1, 1), stride=(1, 1))\n",
      "  )\n",
      "  (bn12): Sequential(\n",
      "    (0): Conv2d(64, 32, kernel_size=(1, 1), stride=(1, 1))\n",
      "    (1): BatchNorm2d(32, eps=1e-05, momentum=0.1, affine=True, track_running_stats=True)\n",
      "    (2): PReLU(num_parameters=1)\n",
      "    (3): Conv2d(32, 32, kernel_size=(3, 3), stride=(1, 1), padding=(1, 1))\n",
      "    (4): BatchNorm2d(32, eps=1e-05, momentum=0.1, affine=True, track_running_stats=True)\n",
      "    (5): PReLU(num_parameters=1)\n",
      "    (6): Conv2d(32, 64, kernel_size=(1, 1), stride=(1, 1))\n",
      "    (7): BatchNorm2d(64, eps=1e-05, momentum=0.1, affine=True, track_running_stats=True)\n",
      "  )\n",
      "  (conv1x1_12): Sequential(\n",
      "    (0): Conv2d(128, 64, kernel_size=(1, 1), stride=(1, 1))\n",
      "  )\n",
      "  (bn13): Sequential(\n",
      "    (0): Conv2d(64, 32, kernel_size=(1, 1), stride=(1, 1))\n",
      "    (1): BatchNorm2d(32, eps=1e-05, momentum=0.1, affine=True, track_running_stats=True)\n",
      "    (2): PReLU(num_parameters=1)\n",
      "    (3): Conv2d(32, 32, kernel_size=(3, 3), stride=(1, 1), padding=(1, 1))\n",
      "    (4): BatchNorm2d(32, eps=1e-05, momentum=0.1, affine=True, track_running_stats=True)\n",
      "    (5): PReLU(num_parameters=1)\n",
      "    (6): Conv2d(32, 64, kernel_size=(1, 1), stride=(1, 1))\n",
      "    (7): BatchNorm2d(64, eps=1e-05, momentum=0.1, affine=True, track_running_stats=True)\n",
      "  )\n",
      "  (conv1x1_13): Sequential(\n",
      "    (0): Conv2d(128, 64, kernel_size=(1, 1), stride=(1, 1))\n",
      "  )\n",
      "  (bn14): Sequential(\n",
      "    (0): Conv2d(64, 32, kernel_size=(1, 1), stride=(1, 1))\n",
      "    (1): BatchNorm2d(32, eps=1e-05, momentum=0.1, affine=True, track_running_stats=True)\n",
      "    (2): PReLU(num_parameters=1)\n",
      "    (3): Conv2d(32, 32, kernel_size=(3, 3), stride=(1, 1), padding=(1, 1))\n",
      "    (4): BatchNorm2d(32, eps=1e-05, momentum=0.1, affine=True, track_running_stats=True)\n",
      "    (5): PReLU(num_parameters=1)\n",
      "    (6): Conv2d(32, 64, kernel_size=(1, 1), stride=(1, 1))\n",
      "    (7): BatchNorm2d(64, eps=1e-05, momentum=0.1, affine=True, track_running_stats=True)\n",
      "  )\n",
      "  (conv1x1_14): Sequential(\n",
      "    (0): Conv2d(128, 64, kernel_size=(1, 1), stride=(1, 1))\n",
      "  )\n",
      "  (bn20_1): Sequential(\n",
      "    (0): Conv2d(64, 32, kernel_size=(2, 2), stride=(2, 2))\n",
      "    (1): BatchNorm2d(32, eps=1e-05, momentum=0.1, affine=True, track_running_stats=True)\n",
      "    (2): PReLU(num_parameters=1)\n",
      "    (3): Conv2d(32, 32, kernel_size=(3, 3), stride=(1, 1), padding=(1, 1))\n",
      "    (4): BatchNorm2d(32, eps=1e-05, momentum=0.1, affine=True, track_running_stats=True)\n",
      "    (5): PReLU(num_parameters=1)\n",
      "    (6): Conv2d(32, 64, kernel_size=(1, 1), stride=(1, 1))\n",
      "    (7): BatchNorm2d(64, eps=1e-05, momentum=0.1, affine=True, track_running_stats=True)\n",
      "  )\n",
      "  (bn20_2): Sequential(\n",
      "    (0): MaxPool2d(kernel_size=(2, 2), stride=(2, 2), padding=0, dilation=1, ceil_mode=False)\n",
      "  )\n",
      "  (conv1x1_20): Sequential(\n",
      "    (0): Conv2d(128, 128, kernel_size=(1, 1), stride=(1, 1))\n",
      "  )\n",
      "  (bn21): Sequential(\n",
      "    (0): Conv2d(128, 64, kernel_size=(1, 1), stride=(1, 1))\n",
      "    (1): BatchNorm2d(64, eps=1e-05, momentum=0.1, affine=True, track_running_stats=True)\n",
      "    (2): PReLU(num_parameters=1)\n",
      "    (3): Conv2d(64, 64, kernel_size=(3, 3), stride=(1, 1), padding=(1, 1))\n",
      "    (4): BatchNorm2d(64, eps=1e-05, momentum=0.1, affine=True, track_running_stats=True)\n",
      "    (5): PReLU(num_parameters=1)\n",
      "    (6): Conv2d(64, 128, kernel_size=(1, 1), stride=(1, 1))\n",
      "    (7): BatchNorm2d(128, eps=1e-05, momentum=0.1, affine=True, track_running_stats=True)\n",
      "  )\n",
      "  (conv1x1_21): Sequential(\n",
      "    (0): Conv2d(256, 128, kernel_size=(1, 1), stride=(1, 1))\n",
      "  )\n",
      "  (bn22): Sequential(\n",
      "    (0): Conv2d(128, 64, kernel_size=(1, 1), stride=(1, 1))\n",
      "    (1): BatchNorm2d(64, eps=1e-05, momentum=0.1, affine=True, track_running_stats=True)\n",
      "    (2): PReLU(num_parameters=1)\n",
      "    (3): Conv2d(64, 64, kernel_size=(3, 3), stride=(1, 1), padding=(2, 2), dilation=(2, 2))\n",
      "    (4): BatchNorm2d(64, eps=1e-05, momentum=0.1, affine=True, track_running_stats=True)\n",
      "    (5): PReLU(num_parameters=1)\n",
      "    (6): Conv2d(64, 128, kernel_size=(1, 1), stride=(1, 1))\n",
      "    (7): BatchNorm2d(128, eps=1e-05, momentum=0.1, affine=True, track_running_stats=True)\n",
      "  )\n",
      "  (conv1x1_22): Sequential(\n",
      "    (0): Conv2d(256, 128, kernel_size=(1, 1), stride=(1, 1))\n",
      "  )\n",
      "  (bn23): Sequential(\n",
      "    (0): Conv2d(128, 64, kernel_size=(1, 1), stride=(1, 1))\n",
      "    (1): BatchNorm2d(64, eps=1e-05, momentum=0.1, affine=True, track_running_stats=True)\n",
      "    (2): PReLU(num_parameters=1)\n",
      "    (3): Conv2d(64, 64, kernel_size=(1, 5), stride=(1, 1), padding=(0, 2), bias=False)\n",
      "    (4): BatchNorm2d(64, eps=1e-05, momentum=0.1, affine=True, track_running_stats=True)\n",
      "    (5): PReLU(num_parameters=1)\n",
      "    (6): Conv2d(64, 64, kernel_size=(5, 1), stride=(1, 1), padding=(2, 0), bias=False)\n",
      "    (7): BatchNorm2d(64, eps=1e-05, momentum=0.1, affine=True, track_running_stats=True)\n",
      "    (8): PReLU(num_parameters=1)\n",
      "    (9): Conv2d(64, 128, kernel_size=(1, 1), stride=(1, 1))\n",
      "    (10): BatchNorm2d(128, eps=1e-05, momentum=0.1, affine=True, track_running_stats=True)\n",
      "  )\n",
      "  (conv1x1_23): Sequential(\n",
      "    (0): Conv2d(256, 128, kernel_size=(1, 1), stride=(1, 1))\n",
      "  )\n",
      "  (bn24): Sequential(\n",
      "    (0): Conv2d(128, 64, kernel_size=(1, 1), stride=(1, 1))\n",
      "    (1): BatchNorm2d(64, eps=1e-05, momentum=0.1, affine=True, track_running_stats=True)\n",
      "    (2): PReLU(num_parameters=1)\n",
      "    (3): Conv2d(64, 64, kernel_size=(3, 3), stride=(1, 1), padding=(4, 4), dilation=(4, 4))\n",
      "    (4): BatchNorm2d(64, eps=1e-05, momentum=0.1, affine=True, track_running_stats=True)\n",
      "    (5): PReLU(num_parameters=1)\n",
      "    (6): Conv2d(64, 128, kernel_size=(1, 1), stride=(1, 1))\n",
      "    (7): BatchNorm2d(128, eps=1e-05, momentum=0.1, affine=True, track_running_stats=True)\n",
      "  )\n",
      "  (conv1x1_24): Sequential(\n",
      "    (0): Conv2d(256, 128, kernel_size=(1, 1), stride=(1, 1))\n",
      "  )\n",
      "  (bn25): Sequential(\n",
      "    (0): Conv2d(128, 64, kernel_size=(1, 1), stride=(1, 1))\n",
      "    (1): BatchNorm2d(64, eps=1e-05, momentum=0.1, affine=True, track_running_stats=True)\n",
      "    (2): PReLU(num_parameters=1)\n",
      "    (3): Conv2d(64, 64, kernel_size=(3, 3), stride=(1, 1), padding=(1, 1))\n",
      "    (4): BatchNorm2d(64, eps=1e-05, momentum=0.1, affine=True, track_running_stats=True)\n",
      "    (5): PReLU(num_parameters=1)\n",
      "    (6): Conv2d(64, 128, kernel_size=(1, 1), stride=(1, 1))\n",
      "    (7): BatchNorm2d(128, eps=1e-05, momentum=0.1, affine=True, track_running_stats=True)\n",
      "  )\n",
      "  (conv1x1_25): Sequential(\n",
      "    (0): Conv2d(256, 128, kernel_size=(1, 1), stride=(1, 1))\n",
      "  )\n",
      "  (bn26): Sequential(\n",
      "    (0): Conv2d(128, 64, kernel_size=(1, 1), stride=(1, 1))\n",
      "    (1): BatchNorm2d(64, eps=1e-05, momentum=0.1, affine=True, track_running_stats=True)\n",
      "    (2): PReLU(num_parameters=1)\n",
      "    (3): Conv2d(64, 64, kernel_size=(3, 3), stride=(1, 1), padding=(8, 8), dilation=(8, 8))\n",
      "    (4): BatchNorm2d(64, eps=1e-05, momentum=0.1, affine=True, track_running_stats=True)\n",
      "    (5): PReLU(num_parameters=1)\n",
      "    (6): Conv2d(64, 128, kernel_size=(1, 1), stride=(1, 1))\n",
      "    (7): BatchNorm2d(128, eps=1e-05, momentum=0.1, affine=True, track_running_stats=True)\n",
      "  )\n",
      "  (conv1x1_26): Sequential(\n",
      "    (0): Conv2d(256, 128, kernel_size=(1, 1), stride=(1, 1))\n",
      "  )\n",
      "  (bn27): Sequential(\n",
      "    (0): Conv2d(128, 64, kernel_size=(1, 1), stride=(1, 1))\n",
      "    (1): BatchNorm2d(64, eps=1e-05, momentum=0.1, affine=True, track_running_stats=True)\n",
      "    (2): PReLU(num_parameters=1)\n",
      "    (3): Conv2d(64, 64, kernel_size=(1, 5), stride=(1, 1), padding=(0, 2), bias=False)\n",
      "    (4): BatchNorm2d(64, eps=1e-05, momentum=0.1, affine=True, track_running_stats=True)\n",
      "    (5): PReLU(num_parameters=1)\n",
      "    (6): Conv2d(64, 64, kernel_size=(5, 1), stride=(1, 1), padding=(2, 0), bias=False)\n",
      "    (7): BatchNorm2d(64, eps=1e-05, momentum=0.1, affine=True, track_running_stats=True)\n",
      "    (8): PReLU(num_parameters=1)\n",
      "    (9): Conv2d(64, 128, kernel_size=(1, 1), stride=(1, 1))\n",
      "    (10): BatchNorm2d(128, eps=1e-05, momentum=0.1, affine=True, track_running_stats=True)\n",
      "  )\n",
      "  (conv1x1_27): Sequential(\n",
      "    (0): Conv2d(256, 128, kernel_size=(1, 1), stride=(1, 1))\n",
      "  )\n",
      "  (bn28): Sequential(\n",
      "    (0): Conv2d(128, 64, kernel_size=(1, 1), stride=(1, 1))\n",
      "    (1): BatchNorm2d(64, eps=1e-05, momentum=0.1, affine=True, track_running_stats=True)\n",
      "    (2): PReLU(num_parameters=1)\n",
      "    (3): Conv2d(64, 64, kernel_size=(3, 3), stride=(1, 1), padding=(8, 8), dilation=(8, 8))\n",
      "    (4): BatchNorm2d(64, eps=1e-05, momentum=0.1, affine=True, track_running_stats=True)\n",
      "    (5): PReLU(num_parameters=1)\n",
      "    (6): Conv2d(64, 128, kernel_size=(1, 1), stride=(1, 1))\n",
      "    (7): BatchNorm2d(128, eps=1e-05, momentum=0.1, affine=True, track_running_stats=True)\n",
      "  )\n",
      "  (conv1x1_28): Sequential(\n",
      "    (0): Conv2d(256, 128, kernel_size=(1, 1), stride=(1, 1))\n",
      "  )\n",
      "  (bn31): Sequential(\n",
      "    (0): Conv2d(128, 64, kernel_size=(1, 1), stride=(1, 1))\n",
      "    (1): BatchNorm2d(64, eps=1e-05, momentum=0.1, affine=True, track_running_stats=True)\n",
      "    (2): PReLU(num_parameters=1)\n",
      "    (3): Conv2d(64, 64, kernel_size=(3, 3), stride=(1, 1), padding=(1, 1))\n",
      "    (4): BatchNorm2d(64, eps=1e-05, momentum=0.1, affine=True, track_running_stats=True)\n",
      "    (5): PReLU(num_parameters=1)\n",
      "    (6): Conv2d(64, 128, kernel_size=(1, 1), stride=(1, 1))\n",
      "    (7): BatchNorm2d(128, eps=1e-05, momentum=0.1, affine=True, track_running_stats=True)\n",
      "  )\n",
      "  (conv1x1_31): Sequential(\n",
      "    (0): Conv2d(256, 128, kernel_size=(1, 1), stride=(1, 1))\n",
      "  )\n",
      "  (bn32): Sequential(\n",
      "    (0): Conv2d(128, 64, kernel_size=(1, 1), stride=(1, 1))\n",
      "    (1): BatchNorm2d(64, eps=1e-05, momentum=0.1, affine=True, track_running_stats=True)\n",
      "    (2): PReLU(num_parameters=1)\n",
      "    (3): Conv2d(64, 64, kernel_size=(3, 3), stride=(1, 1), padding=(2, 2), dilation=(2, 2))\n",
      "    (4): BatchNorm2d(64, eps=1e-05, momentum=0.1, affine=True, track_running_stats=True)\n",
      "    (5): PReLU(num_parameters=1)\n",
      "    (6): Conv2d(64, 128, kernel_size=(1, 1), stride=(1, 1))\n",
      "    (7): BatchNorm2d(128, eps=1e-05, momentum=0.1, affine=True, track_running_stats=True)\n",
      "  )\n",
      "  (conv1x1_32): Sequential(\n",
      "    (0): Conv2d(256, 128, kernel_size=(1, 1), stride=(1, 1))\n",
      "  )\n",
      "  (bn33): Sequential(\n",
      "    (0): Conv2d(128, 64, kernel_size=(1, 1), stride=(1, 1))\n",
      "    (1): BatchNorm2d(64, eps=1e-05, momentum=0.1, affine=True, track_running_stats=True)\n",
      "    (2): PReLU(num_parameters=1)\n",
      "    (3): Conv2d(64, 64, kernel_size=(1, 5), stride=(1, 1), padding=(0, 2), bias=False)\n",
      "    (4): BatchNorm2d(64, eps=1e-05, momentum=0.1, affine=True, track_running_stats=True)\n",
      "    (5): PReLU(num_parameters=1)\n",
      "    (6): Conv2d(64, 64, kernel_size=(5, 1), stride=(1, 1), padding=(2, 0), bias=False)\n",
      "    (7): BatchNorm2d(64, eps=1e-05, momentum=0.1, affine=True, track_running_stats=True)\n",
      "    (8): PReLU(num_parameters=1)\n",
      "    (9): Conv2d(64, 128, kernel_size=(1, 1), stride=(1, 1))\n",
      "    (10): BatchNorm2d(128, eps=1e-05, momentum=0.1, affine=True, track_running_stats=True)\n",
      "  )\n",
      "  (conv1x1_33): Sequential(\n",
      "    (0): Conv2d(256, 128, kernel_size=(1, 1), stride=(1, 1))\n",
      "  )\n",
      "  (bn34): Sequential(\n",
      "    (0): Conv2d(128, 64, kernel_size=(1, 1), stride=(1, 1))\n",
      "    (1): BatchNorm2d(64, eps=1e-05, momentum=0.1, affine=True, track_running_stats=True)\n",
      "    (2): PReLU(num_parameters=1)\n",
      "    (3): Conv2d(64, 64, kernel_size=(3, 3), stride=(1, 1), padding=(4, 4), dilation=(4, 4))\n",
      "    (4): BatchNorm2d(64, eps=1e-05, momentum=0.1, affine=True, track_running_stats=True)\n",
      "    (5): PReLU(num_parameters=1)\n",
      "    (6): Conv2d(64, 128, kernel_size=(1, 1), stride=(1, 1))\n",
      "    (7): BatchNorm2d(128, eps=1e-05, momentum=0.1, affine=True, track_running_stats=True)\n",
      "  )\n",
      "  (conv1x1_34): Sequential(\n",
      "    (0): Conv2d(256, 128, kernel_size=(1, 1), stride=(1, 1))\n",
      "  )\n",
      "  (bn35): Sequential(\n",
      "    (0): Conv2d(128, 64, kernel_size=(1, 1), stride=(1, 1))\n",
      "    (1): BatchNorm2d(64, eps=1e-05, momentum=0.1, affine=True, track_running_stats=True)\n",
      "    (2): PReLU(num_parameters=1)\n",
      "    (3): Conv2d(64, 64, kernel_size=(3, 3), stride=(1, 1), padding=(1, 1))\n",
      "    (4): BatchNorm2d(64, eps=1e-05, momentum=0.1, affine=True, track_running_stats=True)\n",
      "    (5): PReLU(num_parameters=1)\n",
      "    (6): Conv2d(64, 128, kernel_size=(1, 1), stride=(1, 1))\n",
      "    (7): BatchNorm2d(128, eps=1e-05, momentum=0.1, affine=True, track_running_stats=True)\n",
      "  )\n",
      "  (conv1x1_35): Sequential(\n",
      "    (0): Conv2d(256, 128, kernel_size=(1, 1), stride=(1, 1))\n",
      "  )\n",
      "  (bn36): Sequential(\n",
      "    (0): Conv2d(128, 64, kernel_size=(1, 1), stride=(1, 1))\n",
      "    (1): BatchNorm2d(64, eps=1e-05, momentum=0.1, affine=True, track_running_stats=True)\n",
      "    (2): PReLU(num_parameters=1)\n",
      "    (3): Conv2d(64, 64, kernel_size=(3, 3), stride=(1, 1), padding=(8, 8), dilation=(8, 8))\n",
      "    (4): BatchNorm2d(64, eps=1e-05, momentum=0.1, affine=True, track_running_stats=True)\n",
      "    (5): PReLU(num_parameters=1)\n",
      "    (6): Conv2d(64, 128, kernel_size=(1, 1), stride=(1, 1))\n",
      "    (7): BatchNorm2d(128, eps=1e-05, momentum=0.1, affine=True, track_running_stats=True)\n",
      "  )\n",
      "  (conv1x1_36): Sequential(\n",
      "    (0): Conv2d(256, 128, kernel_size=(1, 1), stride=(1, 1))\n",
      "  )\n",
      "  (bn37): Sequential(\n",
      "    (0): Conv2d(128, 64, kernel_size=(1, 1), stride=(1, 1))\n",
      "    (1): BatchNorm2d(64, eps=1e-05, momentum=0.1, affine=True, track_running_stats=True)\n",
      "    (2): PReLU(num_parameters=1)\n",
      "    (3): Conv2d(64, 64, kernel_size=(1, 5), stride=(1, 1), padding=(0, 2), bias=False)\n",
      "    (4): BatchNorm2d(64, eps=1e-05, momentum=0.1, affine=True, track_running_stats=True)\n",
      "    (5): PReLU(num_parameters=1)\n",
      "    (6): Conv2d(64, 64, kernel_size=(5, 1), stride=(1, 1), padding=(2, 0), bias=False)\n",
      "    (7): BatchNorm2d(64, eps=1e-05, momentum=0.1, affine=True, track_running_stats=True)\n",
      "    (8): PReLU(num_parameters=1)\n",
      "    (9): Conv2d(64, 128, kernel_size=(1, 1), stride=(1, 1))\n",
      "    (10): BatchNorm2d(128, eps=1e-05, momentum=0.1, affine=True, track_running_stats=True)\n",
      "  )\n",
      "  (conv1x1_37): Sequential(\n",
      "    (0): Conv2d(256, 128, kernel_size=(1, 1), stride=(1, 1))\n",
      "  )\n",
      "  (bn38): Sequential(\n",
      "    (0): Conv2d(128, 64, kernel_size=(1, 1), stride=(1, 1))\n",
      "    (1): BatchNorm2d(64, eps=1e-05, momentum=0.1, affine=True, track_running_stats=True)\n",
      "    (2): PReLU(num_parameters=1)\n",
      "    (3): Conv2d(64, 64, kernel_size=(3, 3), stride=(1, 1), padding=(8, 8), dilation=(8, 8))\n",
      "    (4): BatchNorm2d(64, eps=1e-05, momentum=0.1, affine=True, track_running_stats=True)\n",
      "    (5): PReLU(num_parameters=1)\n",
      "    (6): Conv2d(64, 128, kernel_size=(1, 1), stride=(1, 1))\n",
      "    (7): BatchNorm2d(128, eps=1e-05, momentum=0.1, affine=True, track_running_stats=True)\n",
      "  )\n",
      "  (conv1x1_38): Sequential(\n",
      "    (0): Conv2d(256, 128, kernel_size=(1, 1), stride=(1, 1))\n",
      "  )\n",
      "  (bn40_1): Sequential(\n",
      "    (0): ConvTranspose2d(128, 64, kernel_size=(2, 2), stride=(2, 2))\n",
      "    (1): BatchNorm2d(64, eps=1e-05, momentum=0.1, affine=True, track_running_stats=True)\n",
      "    (2): PReLU(num_parameters=1)\n",
      "    (3): Conv2d(64, 64, kernel_size=(3, 3), stride=(1, 1), padding=(1, 1))\n",
      "    (4): BatchNorm2d(64, eps=1e-05, momentum=0.1, affine=True, track_running_stats=True)\n",
      "    (5): PReLU(num_parameters=1)\n",
      "    (6): Conv2d(64, 64, kernel_size=(1, 1), stride=(1, 1))\n",
      "    (7): BatchNorm2d(64, eps=1e-05, momentum=0.1, affine=True, track_running_stats=True)\n",
      "  )\n",
      "  (conv1x1_40): Sequential(\n",
      "    (0): Conv2d(64, 64, kernel_size=(1, 1), stride=(1, 1))\n",
      "  )\n",
      "  (bn41): Sequential(\n",
      "    (0): Conv2d(64, 32, kernel_size=(1, 1), stride=(1, 1))\n",
      "    (1): BatchNorm2d(32, eps=1e-05, momentum=0.1, affine=True, track_running_stats=True)\n",
      "    (2): PReLU(num_parameters=1)\n",
      "    (3): Conv2d(32, 32, kernel_size=(3, 3), stride=(1, 1), padding=(1, 1))\n",
      "    (4): BatchNorm2d(32, eps=1e-05, momentum=0.1, affine=True, track_running_stats=True)\n",
      "    (5): PReLU(num_parameters=1)\n",
      "    (6): Conv2d(32, 64, kernel_size=(1, 1), stride=(1, 1))\n",
      "    (7): BatchNorm2d(64, eps=1e-05, momentum=0.1, affine=True, track_running_stats=True)\n",
      "  )\n",
      "  (conv1x1_41): Sequential(\n",
      "    (0): Conv2d(128, 64, kernel_size=(1, 1), stride=(1, 1))\n",
      "  )\n",
      "  (bn42): Sequential(\n",
      "    (0): Conv2d(64, 32, kernel_size=(1, 1), stride=(1, 1))\n",
      "    (1): BatchNorm2d(32, eps=1e-05, momentum=0.1, affine=True, track_running_stats=True)\n",
      "    (2): PReLU(num_parameters=1)\n",
      "    (3): Conv2d(32, 32, kernel_size=(3, 3), stride=(1, 1), padding=(1, 1))\n",
      "    (4): BatchNorm2d(32, eps=1e-05, momentum=0.1, affine=True, track_running_stats=True)\n",
      "    (5): PReLU(num_parameters=1)\n",
      "    (6): Conv2d(32, 64, kernel_size=(1, 1), stride=(1, 1))\n",
      "    (7): BatchNorm2d(64, eps=1e-05, momentum=0.1, affine=True, track_running_stats=True)\n",
      "  )\n",
      "  (conv1x1_42): Sequential(\n",
      "    (0): Conv2d(128, 64, kernel_size=(1, 1), stride=(1, 1))\n",
      "  )\n",
      "  (bn50_1): Sequential(\n",
      "    (0): ConvTranspose2d(64, 32, kernel_size=(2, 2), stride=(2, 2))\n",
      "    (1): BatchNorm2d(32, eps=1e-05, momentum=0.1, affine=True, track_running_stats=True)\n",
      "    (2): PReLU(num_parameters=1)\n",
      "    (3): Conv2d(32, 32, kernel_size=(3, 3), stride=(1, 1), padding=(1, 1))\n",
      "    (4): BatchNorm2d(32, eps=1e-05, momentum=0.1, affine=True, track_running_stats=True)\n",
      "    (5): PReLU(num_parameters=1)\n",
      "    (6): Conv2d(32, 16, kernel_size=(1, 1), stride=(1, 1))\n",
      "    (7): BatchNorm2d(16, eps=1e-05, momentum=0.1, affine=True, track_running_stats=True)\n",
      "  )\n",
      "  (conv1x1_50): Sequential(\n",
      "    (0): Conv2d(16, 16, kernel_size=(1, 1), stride=(1, 1))\n",
      "  )\n",
      "  (bn51): Sequential(\n",
      "    (0): Conv2d(16, 8, kernel_size=(1, 1), stride=(1, 1))\n",
      "    (1): BatchNorm2d(8, eps=1e-05, momentum=0.1, affine=True, track_running_stats=True)\n",
      "    (2): PReLU(num_parameters=1)\n",
      "    (3): Conv2d(8, 8, kernel_size=(3, 3), stride=(1, 1), padding=(1, 1))\n",
      "    (4): BatchNorm2d(8, eps=1e-05, momentum=0.1, affine=True, track_running_stats=True)\n",
      "    (5): PReLU(num_parameters=1)\n",
      "    (6): Conv2d(8, 16, kernel_size=(1, 1), stride=(1, 1))\n",
      "    (7): BatchNorm2d(16, eps=1e-05, momentum=0.1, affine=True, track_running_stats=True)\n",
      "  )\n",
      "  (conv1x1_51): Sequential(\n",
      "    (0): Conv2d(32, 16, kernel_size=(1, 1), stride=(1, 1))\n",
      "  )\n",
      "  (out): ConvTranspose2d(16, 1, kernel_size=(2, 2), stride=(2, 2))\n",
      ")\n"
     ]
    }
   ],
   "source": [
    "model = ENET()\n",
    "print(model)"
   ]
  },
  {
   "cell_type": "code",
   "execution_count": 12,
   "id": "0656d27d",
   "metadata": {
    "scrolled": true
   },
   "outputs": [
    {
     "name": "stdout",
     "output_type": "stream",
     "text": [
      "==========================================================================================\n",
      "Layer (type:depth-idx)                   Output Shape              Param #\n",
      "==========================================================================================\n",
      "ENET                                     --                        --\n",
      "├─Conv2d: 1-1                            [1, 13, 128, 128]         364\n",
      "├─MaxPool2d: 1-2                         [1, 3, 128, 128]          --\n",
      "├─Sequential: 1-3                        [1, 48, 64, 64]           --\n",
      "│    └─Conv2d: 2-1                       [1, 8, 64, 64]            520\n",
      "│    └─BatchNorm2d: 2-2                  [1, 8, 64, 64]            16\n",
      "│    └─PReLU: 2-3                        [1, 8, 64, 64]            1\n",
      "│    └─Conv2d: 2-4                       [1, 8, 64, 64]            584\n",
      "│    └─BatchNorm2d: 2-5                  [1, 8, 64, 64]            16\n",
      "│    └─PReLU: 2-6                        [1, 8, 64, 64]            1\n",
      "│    └─Conv2d: 2-7                       [1, 48, 64, 64]           432\n",
      "│    └─BatchNorm2d: 2-8                  [1, 48, 64, 64]           96\n",
      "├─Sequential: 1-4                        [1, 16, 64, 64]           --\n",
      "│    └─MaxPool2d: 2-9                    [1, 16, 64, 64]           --\n",
      "├─Sequential: 1-5                        [1, 64, 64, 64]           --\n",
      "│    └─Conv2d: 2-10                      [1, 64, 64, 64]           4,160\n",
      "├─Sequential: 1-6                        [1, 64, 64, 64]           --\n",
      "│    └─Conv2d: 2-11                      [1, 32, 64, 64]           2,080\n",
      "│    └─BatchNorm2d: 2-12                 [1, 32, 64, 64]           64\n",
      "│    └─PReLU: 2-13                       [1, 32, 64, 64]           1\n",
      "│    └─Conv2d: 2-14                      [1, 32, 64, 64]           9,248\n",
      "│    └─BatchNorm2d: 2-15                 [1, 32, 64, 64]           64\n",
      "│    └─PReLU: 2-16                       [1, 32, 64, 64]           1\n",
      "│    └─Conv2d: 2-17                      [1, 64, 64, 64]           2,112\n",
      "│    └─BatchNorm2d: 2-18                 [1, 64, 64, 64]           128\n",
      "├─Sequential: 1-7                        [1, 64, 64, 64]           --\n",
      "│    └─Conv2d: 2-19                      [1, 64, 64, 64]           8,256\n",
      "├─Sequential: 1-8                        [1, 64, 64, 64]           --\n",
      "│    └─Conv2d: 2-20                      [1, 32, 64, 64]           2,080\n",
      "│    └─BatchNorm2d: 2-21                 [1, 32, 64, 64]           64\n",
      "│    └─PReLU: 2-22                       [1, 32, 64, 64]           1\n",
      "│    └─Conv2d: 2-23                      [1, 32, 64, 64]           9,248\n",
      "│    └─BatchNorm2d: 2-24                 [1, 32, 64, 64]           64\n",
      "│    └─PReLU: 2-25                       [1, 32, 64, 64]           1\n",
      "│    └─Conv2d: 2-26                      [1, 64, 64, 64]           2,112\n",
      "│    └─BatchNorm2d: 2-27                 [1, 64, 64, 64]           128\n",
      "├─Sequential: 1-9                        [1, 64, 64, 64]           --\n",
      "│    └─Conv2d: 2-28                      [1, 64, 64, 64]           8,256\n",
      "├─Sequential: 1-10                       [1, 64, 64, 64]           --\n",
      "│    └─Conv2d: 2-29                      [1, 32, 64, 64]           2,080\n",
      "│    └─BatchNorm2d: 2-30                 [1, 32, 64, 64]           64\n",
      "│    └─PReLU: 2-31                       [1, 32, 64, 64]           1\n",
      "│    └─Conv2d: 2-32                      [1, 32, 64, 64]           9,248\n",
      "│    └─BatchNorm2d: 2-33                 [1, 32, 64, 64]           64\n",
      "│    └─PReLU: 2-34                       [1, 32, 64, 64]           1\n",
      "│    └─Conv2d: 2-35                      [1, 64, 64, 64]           2,112\n",
      "│    └─BatchNorm2d: 2-36                 [1, 64, 64, 64]           128\n",
      "├─Sequential: 1-11                       [1, 64, 64, 64]           --\n",
      "│    └─Conv2d: 2-37                      [1, 64, 64, 64]           8,256\n",
      "├─Sequential: 1-12                       [1, 64, 64, 64]           --\n",
      "│    └─Conv2d: 2-38                      [1, 32, 64, 64]           2,080\n",
      "│    └─BatchNorm2d: 2-39                 [1, 32, 64, 64]           64\n",
      "│    └─PReLU: 2-40                       [1, 32, 64, 64]           1\n",
      "│    └─Conv2d: 2-41                      [1, 32, 64, 64]           9,248\n",
      "│    └─BatchNorm2d: 2-42                 [1, 32, 64, 64]           64\n",
      "│    └─PReLU: 2-43                       [1, 32, 64, 64]           1\n",
      "│    └─Conv2d: 2-44                      [1, 64, 64, 64]           2,112\n",
      "│    └─BatchNorm2d: 2-45                 [1, 64, 64, 64]           128\n",
      "├─Sequential: 1-13                       [1, 64, 64, 64]           --\n",
      "│    └─Conv2d: 2-46                      [1, 64, 64, 64]           8,256\n",
      "├─Sequential: 1-14                       [1, 64, 32, 32]           --\n",
      "│    └─Conv2d: 2-47                      [1, 32, 32, 32]           8,224\n",
      "│    └─BatchNorm2d: 2-48                 [1, 32, 32, 32]           64\n",
      "│    └─PReLU: 2-49                       [1, 32, 32, 32]           1\n",
      "│    └─Conv2d: 2-50                      [1, 32, 32, 32]           9,248\n",
      "│    └─BatchNorm2d: 2-51                 [1, 32, 32, 32]           64\n",
      "│    └─PReLU: 2-52                       [1, 32, 32, 32]           1\n",
      "│    └─Conv2d: 2-53                      [1, 64, 32, 32]           2,112\n",
      "│    └─BatchNorm2d: 2-54                 [1, 64, 32, 32]           128\n",
      "├─Sequential: 1-15                       [1, 64, 32, 32]           --\n",
      "│    └─MaxPool2d: 2-55                   [1, 64, 32, 32]           --\n",
      "├─Sequential: 1-16                       [1, 128, 32, 32]          --\n",
      "│    └─Conv2d: 2-56                      [1, 128, 32, 32]          16,512\n",
      "├─Sequential: 1-17                       [1, 128, 32, 32]          --\n",
      "│    └─Conv2d: 2-57                      [1, 64, 32, 32]           8,256\n",
      "│    └─BatchNorm2d: 2-58                 [1, 64, 32, 32]           128\n",
      "│    └─PReLU: 2-59                       [1, 64, 32, 32]           1\n",
      "│    └─Conv2d: 2-60                      [1, 64, 32, 32]           36,928\n",
      "│    └─BatchNorm2d: 2-61                 [1, 64, 32, 32]           128\n",
      "│    └─PReLU: 2-62                       [1, 64, 32, 32]           1\n",
      "│    └─Conv2d: 2-63                      [1, 128, 32, 32]          8,320\n",
      "│    └─BatchNorm2d: 2-64                 [1, 128, 32, 32]          256\n",
      "├─Sequential: 1-18                       [1, 128, 32, 32]          --\n",
      "│    └─Conv2d: 2-65                      [1, 128, 32, 32]          32,896\n",
      "├─Sequential: 1-19                       [1, 128, 32, 32]          --\n",
      "│    └─Conv2d: 2-66                      [1, 64, 32, 32]           8,256\n",
      "│    └─BatchNorm2d: 2-67                 [1, 64, 32, 32]           128\n",
      "│    └─PReLU: 2-68                       [1, 64, 32, 32]           1\n",
      "│    └─Conv2d: 2-69                      [1, 64, 32, 32]           36,928\n",
      "│    └─BatchNorm2d: 2-70                 [1, 64, 32, 32]           128\n",
      "│    └─PReLU: 2-71                       [1, 64, 32, 32]           1\n",
      "│    └─Conv2d: 2-72                      [1, 128, 32, 32]          8,320\n",
      "│    └─BatchNorm2d: 2-73                 [1, 128, 32, 32]          256\n",
      "├─Sequential: 1-20                       [1, 128, 32, 32]          --\n",
      "│    └─Conv2d: 2-74                      [1, 128, 32, 32]          32,896\n",
      "├─Sequential: 1-21                       [1, 128, 32, 32]          --\n",
      "│    └─Conv2d: 2-75                      [1, 64, 32, 32]           8,256\n",
      "│    └─BatchNorm2d: 2-76                 [1, 64, 32, 32]           128\n",
      "│    └─PReLU: 2-77                       [1, 64, 32, 32]           1\n",
      "│    └─Conv2d: 2-78                      [1, 64, 32, 32]           20,480\n",
      "│    └─BatchNorm2d: 2-79                 [1, 64, 32, 32]           128\n",
      "│    └─PReLU: 2-80                       [1, 64, 32, 32]           1\n",
      "│    └─Conv2d: 2-81                      [1, 64, 32, 32]           20,480\n",
      "│    └─BatchNorm2d: 2-82                 [1, 64, 32, 32]           128\n",
      "│    └─PReLU: 2-83                       [1, 64, 32, 32]           1\n",
      "│    └─Conv2d: 2-84                      [1, 128, 32, 32]          8,320\n",
      "│    └─BatchNorm2d: 2-85                 [1, 128, 32, 32]          256\n",
      "├─Sequential: 1-22                       [1, 128, 32, 32]          --\n",
      "│    └─Conv2d: 2-86                      [1, 128, 32, 32]          32,896\n",
      "├─Sequential: 1-23                       [1, 128, 32, 32]          --\n",
      "│    └─Conv2d: 2-87                      [1, 64, 32, 32]           8,256\n",
      "│    └─BatchNorm2d: 2-88                 [1, 64, 32, 32]           128\n",
      "│    └─PReLU: 2-89                       [1, 64, 32, 32]           1\n",
      "│    └─Conv2d: 2-90                      [1, 64, 32, 32]           36,928\n",
      "│    └─BatchNorm2d: 2-91                 [1, 64, 32, 32]           128\n",
      "│    └─PReLU: 2-92                       [1, 64, 32, 32]           1\n",
      "│    └─Conv2d: 2-93                      [1, 128, 32, 32]          8,320\n",
      "│    └─BatchNorm2d: 2-94                 [1, 128, 32, 32]          256\n",
      "├─Sequential: 1-24                       [1, 128, 32, 32]          --\n",
      "│    └─Conv2d: 2-95                      [1, 128, 32, 32]          32,896\n",
      "├─Sequential: 1-25                       [1, 128, 32, 32]          --\n",
      "│    └─Conv2d: 2-96                      [1, 64, 32, 32]           8,256\n",
      "│    └─BatchNorm2d: 2-97                 [1, 64, 32, 32]           128\n",
      "│    └─PReLU: 2-98                       [1, 64, 32, 32]           1\n",
      "│    └─Conv2d: 2-99                      [1, 64, 32, 32]           36,928\n",
      "│    └─BatchNorm2d: 2-100                [1, 64, 32, 32]           128\n",
      "│    └─PReLU: 2-101                      [1, 64, 32, 32]           1\n",
      "│    └─Conv2d: 2-102                     [1, 128, 32, 32]          8,320\n",
      "│    └─BatchNorm2d: 2-103                [1, 128, 32, 32]          256\n",
      "├─Sequential: 1-26                       [1, 128, 32, 32]          --\n",
      "│    └─Conv2d: 2-104                     [1, 128, 32, 32]          32,896\n",
      "├─Sequential: 1-27                       [1, 128, 32, 32]          --\n",
      "│    └─Conv2d: 2-105                     [1, 64, 32, 32]           8,256\n",
      "│    └─BatchNorm2d: 2-106                [1, 64, 32, 32]           128\n",
      "│    └─PReLU: 2-107                      [1, 64, 32, 32]           1\n",
      "│    └─Conv2d: 2-108                     [1, 64, 32, 32]           36,928\n",
      "│    └─BatchNorm2d: 2-109                [1, 64, 32, 32]           128\n",
      "│    └─PReLU: 2-110                      [1, 64, 32, 32]           1\n",
      "│    └─Conv2d: 2-111                     [1, 128, 32, 32]          8,320\n",
      "│    └─BatchNorm2d: 2-112                [1, 128, 32, 32]          256\n",
      "├─Sequential: 1-28                       [1, 128, 32, 32]          --\n",
      "│    └─Conv2d: 2-113                     [1, 128, 32, 32]          32,896\n",
      "├─Sequential: 1-29                       [1, 128, 32, 32]          --\n",
      "│    └─Conv2d: 2-114                     [1, 64, 32, 32]           8,256\n",
      "│    └─BatchNorm2d: 2-115                [1, 64, 32, 32]           128\n",
      "│    └─PReLU: 2-116                      [1, 64, 32, 32]           1\n",
      "│    └─Conv2d: 2-117                     [1, 64, 32, 32]           20,480\n",
      "│    └─BatchNorm2d: 2-118                [1, 64, 32, 32]           128\n",
      "│    └─PReLU: 2-119                      [1, 64, 32, 32]           1\n",
      "│    └─Conv2d: 2-120                     [1, 64, 32, 32]           20,480\n",
      "│    └─BatchNorm2d: 2-121                [1, 64, 32, 32]           128\n",
      "│    └─PReLU: 2-122                      [1, 64, 32, 32]           1\n",
      "│    └─Conv2d: 2-123                     [1, 128, 32, 32]          8,320\n",
      "│    └─BatchNorm2d: 2-124                [1, 128, 32, 32]          256\n",
      "├─Sequential: 1-30                       [1, 128, 32, 32]          --\n",
      "│    └─Conv2d: 2-125                     [1, 128, 32, 32]          32,896\n",
      "├─Sequential: 1-31                       [1, 128, 32, 32]          --\n",
      "│    └─Conv2d: 2-126                     [1, 64, 32, 32]           8,256\n",
      "│    └─BatchNorm2d: 2-127                [1, 64, 32, 32]           128\n",
      "│    └─PReLU: 2-128                      [1, 64, 32, 32]           1\n",
      "│    └─Conv2d: 2-129                     [1, 64, 32, 32]           36,928\n",
      "│    └─BatchNorm2d: 2-130                [1, 64, 32, 32]           128\n",
      "│    └─PReLU: 2-131                      [1, 64, 32, 32]           1\n",
      "│    └─Conv2d: 2-132                     [1, 128, 32, 32]          8,320\n",
      "│    └─BatchNorm2d: 2-133                [1, 128, 32, 32]          256\n",
      "├─Sequential: 1-32                       [1, 128, 32, 32]          --\n",
      "│    └─Conv2d: 2-134                     [1, 128, 32, 32]          32,896\n",
      "├─Sequential: 1-33                       [1, 128, 32, 32]          --\n",
      "│    └─Conv2d: 2-135                     [1, 64, 32, 32]           8,256\n",
      "│    └─BatchNorm2d: 2-136                [1, 64, 32, 32]           128\n",
      "│    └─PReLU: 2-137                      [1, 64, 32, 32]           1\n",
      "│    └─Conv2d: 2-138                     [1, 64, 32, 32]           36,928\n",
      "│    └─BatchNorm2d: 2-139                [1, 64, 32, 32]           128\n",
      "│    └─PReLU: 2-140                      [1, 64, 32, 32]           1\n",
      "│    └─Conv2d: 2-141                     [1, 128, 32, 32]          8,320\n",
      "│    └─BatchNorm2d: 2-142                [1, 128, 32, 32]          256\n",
      "├─Sequential: 1-34                       [1, 128, 32, 32]          --\n",
      "│    └─Conv2d: 2-143                     [1, 128, 32, 32]          32,896\n",
      "├─Sequential: 1-35                       [1, 128, 32, 32]          --\n",
      "│    └─Conv2d: 2-144                     [1, 64, 32, 32]           8,256\n",
      "│    └─BatchNorm2d: 2-145                [1, 64, 32, 32]           128\n",
      "│    └─PReLU: 2-146                      [1, 64, 32, 32]           1\n",
      "│    └─Conv2d: 2-147                     [1, 64, 32, 32]           36,928\n",
      "│    └─BatchNorm2d: 2-148                [1, 64, 32, 32]           128\n",
      "│    └─PReLU: 2-149                      [1, 64, 32, 32]           1\n",
      "│    └─Conv2d: 2-150                     [1, 128, 32, 32]          8,320\n",
      "│    └─BatchNorm2d: 2-151                [1, 128, 32, 32]          256\n",
      "├─Sequential: 1-36                       [1, 128, 32, 32]          --\n",
      "│    └─Conv2d: 2-152                     [1, 128, 32, 32]          32,896\n",
      "├─Sequential: 1-37                       [1, 128, 32, 32]          --\n",
      "│    └─Conv2d: 2-153                     [1, 64, 32, 32]           8,256\n",
      "│    └─BatchNorm2d: 2-154                [1, 64, 32, 32]           128\n",
      "│    └─PReLU: 2-155                      [1, 64, 32, 32]           1\n",
      "│    └─Conv2d: 2-156                     [1, 64, 32, 32]           20,480\n",
      "│    └─BatchNorm2d: 2-157                [1, 64, 32, 32]           128\n",
      "│    └─PReLU: 2-158                      [1, 64, 32, 32]           1\n",
      "│    └─Conv2d: 2-159                     [1, 64, 32, 32]           20,480\n",
      "│    └─BatchNorm2d: 2-160                [1, 64, 32, 32]           128\n",
      "│    └─PReLU: 2-161                      [1, 64, 32, 32]           1\n",
      "│    └─Conv2d: 2-162                     [1, 128, 32, 32]          8,320\n",
      "│    └─BatchNorm2d: 2-163                [1, 128, 32, 32]          256\n",
      "├─Sequential: 1-38                       [1, 128, 32, 32]          --\n",
      "│    └─Conv2d: 2-164                     [1, 128, 32, 32]          32,896\n",
      "├─Sequential: 1-39                       [1, 128, 32, 32]          --\n",
      "│    └─Conv2d: 2-165                     [1, 64, 32, 32]           8,256\n",
      "│    └─BatchNorm2d: 2-166                [1, 64, 32, 32]           128\n",
      "│    └─PReLU: 2-167                      [1, 64, 32, 32]           1\n",
      "│    └─Conv2d: 2-168                     [1, 64, 32, 32]           36,928\n",
      "│    └─BatchNorm2d: 2-169                [1, 64, 32, 32]           128\n",
      "│    └─PReLU: 2-170                      [1, 64, 32, 32]           1\n",
      "│    └─Conv2d: 2-171                     [1, 128, 32, 32]          8,320\n",
      "│    └─BatchNorm2d: 2-172                [1, 128, 32, 32]          256\n",
      "├─Sequential: 1-40                       [1, 128, 32, 32]          --\n",
      "│    └─Conv2d: 2-173                     [1, 128, 32, 32]          32,896\n",
      "├─Sequential: 1-41                       [1, 128, 32, 32]          --\n",
      "│    └─Conv2d: 2-174                     [1, 64, 32, 32]           8,256\n",
      "│    └─BatchNorm2d: 2-175                [1, 64, 32, 32]           128\n",
      "│    └─PReLU: 2-176                      [1, 64, 32, 32]           1\n",
      "│    └─Conv2d: 2-177                     [1, 64, 32, 32]           36,928\n",
      "│    └─BatchNorm2d: 2-178                [1, 64, 32, 32]           128\n",
      "│    └─PReLU: 2-179                      [1, 64, 32, 32]           1\n",
      "│    └─Conv2d: 2-180                     [1, 128, 32, 32]          8,320\n",
      "│    └─BatchNorm2d: 2-181                [1, 128, 32, 32]          256\n",
      "├─Sequential: 1-42                       [1, 128, 32, 32]          --\n",
      "│    └─Conv2d: 2-182                     [1, 128, 32, 32]          32,896\n",
      "├─Sequential: 1-43                       [1, 128, 32, 32]          --\n",
      "│    └─Conv2d: 2-183                     [1, 64, 32, 32]           8,256\n",
      "│    └─BatchNorm2d: 2-184                [1, 64, 32, 32]           128\n",
      "│    └─PReLU: 2-185                      [1, 64, 32, 32]           1\n",
      "│    └─Conv2d: 2-186                     [1, 64, 32, 32]           36,928\n",
      "│    └─BatchNorm2d: 2-187                [1, 64, 32, 32]           128\n",
      "│    └─PReLU: 2-188                      [1, 64, 32, 32]           1\n",
      "│    └─Conv2d: 2-189                     [1, 128, 32, 32]          8,320\n",
      "│    └─BatchNorm2d: 2-190                [1, 128, 32, 32]          256\n",
      "├─Sequential: 1-44                       [1, 128, 32, 32]          --\n",
      "│    └─Conv2d: 2-191                     [1, 128, 32, 32]          32,896\n",
      "├─Sequential: 1-45                       [1, 128, 32, 32]          --\n",
      "│    └─Conv2d: 2-192                     [1, 64, 32, 32]           8,256\n",
      "│    └─BatchNorm2d: 2-193                [1, 64, 32, 32]           128\n",
      "│    └─PReLU: 2-194                      [1, 64, 32, 32]           1\n",
      "│    └─Conv2d: 2-195                     [1, 64, 32, 32]           20,480\n",
      "│    └─BatchNorm2d: 2-196                [1, 64, 32, 32]           128\n",
      "│    └─PReLU: 2-197                      [1, 64, 32, 32]           1\n",
      "│    └─Conv2d: 2-198                     [1, 64, 32, 32]           20,480\n",
      "│    └─BatchNorm2d: 2-199                [1, 64, 32, 32]           128\n",
      "│    └─PReLU: 2-200                      [1, 64, 32, 32]           1\n",
      "│    └─Conv2d: 2-201                     [1, 128, 32, 32]          8,320\n",
      "│    └─BatchNorm2d: 2-202                [1, 128, 32, 32]          256\n",
      "├─Sequential: 1-46                       [1, 128, 32, 32]          --\n",
      "│    └─Conv2d: 2-203                     [1, 128, 32, 32]          32,896\n",
      "├─Sequential: 1-47                       [1, 128, 32, 32]          --\n",
      "│    └─Conv2d: 2-204                     [1, 64, 32, 32]           8,256\n",
      "│    └─BatchNorm2d: 2-205                [1, 64, 32, 32]           128\n",
      "│    └─PReLU: 2-206                      [1, 64, 32, 32]           1\n",
      "│    └─Conv2d: 2-207                     [1, 64, 32, 32]           36,928\n",
      "│    └─BatchNorm2d: 2-208                [1, 64, 32, 32]           128\n",
      "│    └─PReLU: 2-209                      [1, 64, 32, 32]           1\n",
      "│    └─Conv2d: 2-210                     [1, 128, 32, 32]          8,320\n",
      "│    └─BatchNorm2d: 2-211                [1, 128, 32, 32]          256\n",
      "├─Sequential: 1-48                       [1, 128, 32, 32]          --\n",
      "│    └─Conv2d: 2-212                     [1, 128, 32, 32]          32,896\n",
      "├─Sequential: 1-49                       [1, 64, 64, 64]           --\n",
      "│    └─ConvTranspose2d: 2-213            [1, 64, 64, 64]           32,832\n",
      "│    └─BatchNorm2d: 2-214                [1, 64, 64, 64]           128\n",
      "│    └─PReLU: 2-215                      [1, 64, 64, 64]           1\n",
      "│    └─Conv2d: 2-216                     [1, 64, 64, 64]           36,928\n",
      "│    └─BatchNorm2d: 2-217                [1, 64, 64, 64]           128\n",
      "│    └─PReLU: 2-218                      [1, 64, 64, 64]           1\n",
      "│    └─Conv2d: 2-219                     [1, 64, 64, 64]           4,160\n",
      "│    └─BatchNorm2d: 2-220                [1, 64, 64, 64]           128\n",
      "├─Sequential: 1-50                       [1, 64, 64, 64]           --\n",
      "│    └─Conv2d: 2-221                     [1, 64, 64, 64]           4,160\n",
      "├─Sequential: 1-51                       [1, 64, 64, 64]           --\n",
      "│    └─Conv2d: 2-222                     [1, 32, 64, 64]           2,080\n",
      "│    └─BatchNorm2d: 2-223                [1, 32, 64, 64]           64\n",
      "│    └─PReLU: 2-224                      [1, 32, 64, 64]           1\n",
      "│    └─Conv2d: 2-225                     [1, 32, 64, 64]           9,248\n",
      "│    └─BatchNorm2d: 2-226                [1, 32, 64, 64]           64\n",
      "│    └─PReLU: 2-227                      [1, 32, 64, 64]           1\n",
      "│    └─Conv2d: 2-228                     [1, 64, 64, 64]           2,112\n",
      "│    └─BatchNorm2d: 2-229                [1, 64, 64, 64]           128\n",
      "├─Sequential: 1-52                       [1, 64, 64, 64]           --\n",
      "│    └─Conv2d: 2-230                     [1, 64, 64, 64]           8,256\n",
      "├─Sequential: 1-53                       [1, 64, 64, 64]           --\n",
      "│    └─Conv2d: 2-231                     [1, 32, 64, 64]           2,080\n",
      "│    └─BatchNorm2d: 2-232                [1, 32, 64, 64]           64\n",
      "│    └─PReLU: 2-233                      [1, 32, 64, 64]           1\n",
      "│    └─Conv2d: 2-234                     [1, 32, 64, 64]           9,248\n",
      "│    └─BatchNorm2d: 2-235                [1, 32, 64, 64]           64\n",
      "│    └─PReLU: 2-236                      [1, 32, 64, 64]           1\n",
      "│    └─Conv2d: 2-237                     [1, 64, 64, 64]           2,112\n",
      "│    └─BatchNorm2d: 2-238                [1, 64, 64, 64]           128\n",
      "├─Sequential: 1-54                       [1, 64, 64, 64]           --\n",
      "│    └─Conv2d: 2-239                     [1, 64, 64, 64]           8,256\n",
      "├─Sequential: 1-55                       [1, 16, 128, 128]         --\n",
      "│    └─ConvTranspose2d: 2-240            [1, 32, 128, 128]         8,224\n",
      "│    └─BatchNorm2d: 2-241                [1, 32, 128, 128]         64\n",
      "│    └─PReLU: 2-242                      [1, 32, 128, 128]         1\n",
      "│    └─Conv2d: 2-243                     [1, 32, 128, 128]         9,248\n",
      "│    └─BatchNorm2d: 2-244                [1, 32, 128, 128]         64\n",
      "│    └─PReLU: 2-245                      [1, 32, 128, 128]         1\n",
      "│    └─Conv2d: 2-246                     [1, 16, 128, 128]         528\n",
      "│    └─BatchNorm2d: 2-247                [1, 16, 128, 128]         32\n",
      "├─Sequential: 1-56                       [1, 16, 128, 128]         --\n",
      "│    └─Conv2d: 2-248                     [1, 16, 128, 128]         272\n",
      "├─Sequential: 1-57                       [1, 16, 128, 128]         --\n",
      "│    └─Conv2d: 2-249                     [1, 8, 128, 128]          136\n",
      "│    └─BatchNorm2d: 2-250                [1, 8, 128, 128]          16\n",
      "│    └─PReLU: 2-251                      [1, 8, 128, 128]          1\n",
      "│    └─Conv2d: 2-252                     [1, 8, 128, 128]          584\n",
      "│    └─BatchNorm2d: 2-253                [1, 8, 128, 128]          16\n",
      "│    └─PReLU: 2-254                      [1, 8, 128, 128]          1\n",
      "│    └─Conv2d: 2-255                     [1, 16, 128, 128]         144\n",
      "│    └─BatchNorm2d: 2-256                [1, 16, 128, 128]         32\n",
      "├─Sequential: 1-58                       [1, 16, 128, 128]         --\n",
      "│    └─Conv2d: 2-257                     [1, 16, 128, 128]         528\n",
      "├─ConvTranspose2d: 1-59                  [1, 1, 256, 256]          65\n",
      "==========================================================================================\n",
      "Total params: 1,679,959\n",
      "Trainable params: 1,679,959\n",
      "Non-trainable params: 0\n",
      "Total mult-adds (G): 2.68\n",
      "==========================================================================================\n",
      "Input size (MB): 0.79\n",
      "Forward/backward pass size (MB): 258.08\n",
      "Params size (MB): 6.72\n",
      "Estimated Total Size (MB): 265.59\n",
      "==========================================================================================\n"
     ]
    },
    {
     "name": "stderr",
     "output_type": "stream",
     "text": [
      "C:\\Users\\utkar\\miniconda3\\envs\\torch\\lib\\site-packages\\torch\\nn\\functional.py:749: UserWarning: Note that order of the arguments: ceil_mode and return_indices will changeto match the args list in nn.MaxPool2d in a future release.\n",
      "  warnings.warn(\"Note that order of the arguments: ceil_mode and return_indices will change\"\n"
     ]
    }
   ],
   "source": [
    "pprint(torchinfo.summary(model, input_size=(1, 3, 256, 256)))"
   ]
  },
  {
   "cell_type": "code",
   "execution_count": 13,
   "id": "c0f1180a",
   "metadata": {},
   "outputs": [
    {
     "name": "stdout",
     "output_type": "stream",
     "text": [
      "torch.Size([1, 1, 512, 512])\n"
     ]
    }
   ],
   "source": [
    "x = torch.rand((1, 3, 512, 512))\n",
    "y = model(x.to(device))\n",
    "print(y.shape)"
   ]
  },
  {
   "cell_type": "code",
   "execution_count": 14,
   "id": "fcfcaedc",
   "metadata": {},
   "outputs": [],
   "source": [
    "loss_fn = nn.BCEWithLogitsLoss()\n",
    "optimizer = optim.Adam(model.parameters(), lr=lr)"
   ]
  },
  {
   "cell_type": "code",
   "execution_count": 15,
   "id": "712b0193",
   "metadata": {},
   "outputs": [],
   "source": [
    "def check_acc(loader, model, device='cuda'):\n",
    "    num_correct = 0\n",
    "    num_pixels = 0\n",
    "    dice_score = 0\n",
    "    model.eval()\n",
    "    \n",
    "    with torch.no_grad():\n",
    "        for x, y in loader:\n",
    "            x = x.to(device)\n",
    "            y = y.to(device)\n",
    "            preds = torch.sigmoid(model(x))\n",
    "            preds = (preds > 0.5).float()\n",
    "            num_correct += (preds == y).sum()\n",
    "            num_pixels += torch.numel(preds)   # returns product of the values in tensor\n",
    "            dice_score += (2*(preds*y).sum())/((preds + y).sum()+1e-8)\n",
    "            \n",
    "    print(\n",
    "        f\"Got {num_correct}/{num_pixels} with acc {num_correct/num_pixels*100:.2f}\"\n",
    "    )\n",
    "    print(f\"Dice score: {dice_score/len(loader)}\")\n",
    "    model.train()\n",
    "            "
   ]
  },
  {
   "cell_type": "code",
   "execution_count": 16,
   "id": "4f2edecd",
   "metadata": {},
   "outputs": [],
   "source": [
    "scaler = torch.cuda.amp.GradScaler()   # to avoid vanishing gradient problem"
   ]
  },
  {
   "cell_type": "code",
   "execution_count": 17,
   "id": "8fb82f7e",
   "metadata": {
    "scrolled": true
   },
   "outputs": [
    {
     "name": "stderr",
     "output_type": "stream",
     "text": [
      "  0%|▎                                                                   | 1/251 [00:22<1:34:53, 22.77s/it, loss=0.734]"
     ]
    },
    {
     "name": "stdout",
     "output_type": "stream",
     "text": [
      "Got 49531419/131072000 with acc 37.79\n",
      "Dice score: 0.38559120893478394\n"
     ]
    },
    {
     "name": "stderr",
     "output_type": "stream",
     "text": [
      "  1%|▌                                                                   | 2/251 [00:45<1:35:07, 22.92s/it, loss=0.729]"
     ]
    },
    {
     "name": "stdout",
     "output_type": "stream",
     "text": [
      "Got 49531419/131072000 with acc 37.79\n",
      "Dice score: 0.38559120893478394\n"
     ]
    },
    {
     "name": "stderr",
     "output_type": "stream",
     "text": [
      "  1%|▊                                                                   | 3/251 [01:08<1:34:43, 22.92s/it, loss=0.726]"
     ]
    },
    {
     "name": "stdout",
     "output_type": "stream",
     "text": [
      "Got 57694416/131072000 with acc 44.02\n",
      "Dice score: 0.3674197793006897\n"
     ]
    },
    {
     "name": "stderr",
     "output_type": "stream",
     "text": [
      "  2%|█                                                                   | 4/251 [01:31<1:34:24, 22.93s/it, loss=0.719]"
     ]
    },
    {
     "name": "stdout",
     "output_type": "stream",
     "text": [
      "Got 65253656/131072000 with acc 49.78\n",
      "Dice score: 0.3413020372390747\n"
     ]
    },
    {
     "name": "stderr",
     "output_type": "stream",
     "text": [
      "  2%|█▎                                                                  | 5/251 [01:54<1:33:09, 22.72s/it, loss=0.723]"
     ]
    },
    {
     "name": "stdout",
     "output_type": "stream",
     "text": [
      "Got 65253656/131072000 with acc 49.78\n",
      "Dice score: 0.3413020372390747\n"
     ]
    },
    {
     "name": "stderr",
     "output_type": "stream",
     "text": [
      "  2%|█▋                                                                  | 6/251 [02:15<1:31:13, 22.34s/it, loss=0.717]"
     ]
    },
    {
     "name": "stdout",
     "output_type": "stream",
     "text": [
      "Got 65130414/131072000 with acc 49.69\n",
      "Dice score: 0.3409131169319153\n"
     ]
    },
    {
     "name": "stderr",
     "output_type": "stream",
     "text": [
      "  3%|█▉                                                                  | 7/251 [02:37<1:29:36, 22.04s/it, loss=0.712]"
     ]
    },
    {
     "name": "stdout",
     "output_type": "stream",
     "text": [
      "Got 65009154/131072000 with acc 49.60\n",
      "Dice score: 0.3405318260192871\n"
     ]
    },
    {
     "name": "stderr",
     "output_type": "stream",
     "text": [
      "  3%|██▏                                                                 | 8/251 [02:59<1:29:33, 22.11s/it, loss=0.702]"
     ]
    },
    {
     "name": "stdout",
     "output_type": "stream",
     "text": [
      "Got 64893288/131072000 with acc 49.51\n",
      "Dice score: 0.34017878770828247\n"
     ]
    },
    {
     "name": "stderr",
     "output_type": "stream",
     "text": [
      "  4%|██▍                                                                 | 9/251 [03:21<1:29:48, 22.26s/it, loss=0.687]"
     ]
    },
    {
     "name": "stdout",
     "output_type": "stream",
     "text": [
      "Got 61320995/131072000 with acc 46.78\n",
      "Dice score: 0.3548605740070343\n"
     ]
    },
    {
     "name": "stderr",
     "output_type": "stream",
     "text": [
      "  4%|██▋                                                                | 10/251 [03:45<1:30:57, 22.64s/it, loss=0.693]"
     ]
    },
    {
     "name": "stdout",
     "output_type": "stream",
     "text": [
      "Got 59581981/131072000 with acc 45.46\n",
      "Dice score: 0.3615741431713104\n"
     ]
    },
    {
     "name": "stderr",
     "output_type": "stream",
     "text": [
      "  4%|██▉                                                                | 11/251 [04:08<1:30:34, 22.64s/it, loss=0.682]"
     ]
    },
    {
     "name": "stdout",
     "output_type": "stream",
     "text": [
      "Got 57632488/131072000 with acc 43.97\n",
      "Dice score: 0.36723822355270386\n"
     ]
    },
    {
     "name": "stderr",
     "output_type": "stream",
     "text": [
      "  5%|███▏                                                               | 12/251 [04:30<1:30:09, 22.63s/it, loss=0.663]"
     ]
    },
    {
     "name": "stdout",
     "output_type": "stream",
     "text": [
      "Got 57632488/131072000 with acc 43.97\n",
      "Dice score: 0.36723822355270386\n"
     ]
    },
    {
     "name": "stderr",
     "output_type": "stream",
     "text": [
      "  5%|███▌                                                                | 13/251 [04:53<1:29:30, 22.56s/it, loss=0.67]"
     ]
    },
    {
     "name": "stdout",
     "output_type": "stream",
     "text": [
      "Got 57573862/131072000 with acc 43.93\n",
      "Dice score: 0.36707112193107605\n"
     ]
    },
    {
     "name": "stderr",
     "output_type": "stream",
     "text": [
      "  6%|███▋                                                               | 14/251 [05:15<1:28:42, 22.46s/it, loss=0.668]"
     ]
    },
    {
     "name": "stdout",
     "output_type": "stream",
     "text": [
      "Got 57513271/131072000 with acc 43.88\n",
      "Dice score: 0.36689820885658264\n"
     ]
    },
    {
     "name": "stderr",
     "output_type": "stream",
     "text": [
      "  6%|████                                                               | 15/251 [05:37<1:28:05, 22.40s/it, loss=0.651]"
     ]
    },
    {
     "name": "stdout",
     "output_type": "stream",
     "text": [
      "Got 57509325/131072000 with acc 43.88\n",
      "Dice score: 0.3668859899044037\n"
     ]
    },
    {
     "name": "stderr",
     "output_type": "stream",
     "text": [
      "  6%|████▎                                                              | 16/251 [05:59<1:27:42, 22.39s/it, loss=0.652]"
     ]
    },
    {
     "name": "stdout",
     "output_type": "stream",
     "text": [
      "Got 57511297/131072000 with acc 43.88\n",
      "Dice score: 0.3668920695781708\n"
     ]
    },
    {
     "name": "stderr",
     "output_type": "stream",
     "text": [
      "  7%|████▌                                                              | 17/251 [06:22<1:27:13, 22.37s/it, loss=0.643]"
     ]
    },
    {
     "name": "stdout",
     "output_type": "stream",
     "text": [
      "Got 57397128/131072000 with acc 43.79\n",
      "Dice score: 0.3665745258331299\n"
     ]
    },
    {
     "name": "stderr",
     "output_type": "stream",
     "text": [
      "  7%|████▊                                                              | 18/251 [06:44<1:26:32, 22.29s/it, loss=0.634]"
     ]
    },
    {
     "name": "stdout",
     "output_type": "stream",
     "text": [
      "Got 57397130/131072000 with acc 43.79\n",
      "Dice score: 0.3665745258331299\n"
     ]
    },
    {
     "name": "stderr",
     "output_type": "stream",
     "text": [
      "  8%|█████                                                              | 19/251 [07:05<1:25:06, 22.01s/it, loss=0.642]"
     ]
    },
    {
     "name": "stdout",
     "output_type": "stream",
     "text": [
      "Got 57454757/131072000 with acc 43.83\n",
      "Dice score: 0.3667328655719757\n"
     ]
    },
    {
     "name": "stderr",
     "output_type": "stream",
     "text": [
      "  8%|█████▎                                                             | 20/251 [07:26<1:23:55, 21.80s/it, loss=0.621]"
     ]
    },
    {
     "name": "stdout",
     "output_type": "stream",
     "text": [
      "Got 57510414/131072000 with acc 43.88\n",
      "Dice score: 0.36688530445098877\n"
     ]
    },
    {
     "name": "stderr",
     "output_type": "stream",
     "text": [
      "  8%|█████▌                                                             | 21/251 [07:48<1:23:01, 21.66s/it, loss=0.627]"
     ]
    },
    {
     "name": "stdout",
     "output_type": "stream",
     "text": [
      "Got 61174028/131072000 with acc 46.67\n",
      "Dice score: 0.354435533285141\n"
     ]
    },
    {
     "name": "stderr",
     "output_type": "stream",
     "text": [
      "  9%|█████▊                                                             | 22/251 [08:09<1:22:20, 21.57s/it, loss=0.627]"
     ]
    },
    {
     "name": "stdout",
     "output_type": "stream",
     "text": [
      "Got 66920630/131072000 with acc 51.06\n",
      "Dice score: 0.33698537945747375\n"
     ]
    },
    {
     "name": "stderr",
     "output_type": "stream",
     "text": [
      "  9%|██████▏                                                             | 23/251 [08:31<1:22:09, 21.62s/it, loss=0.62]"
     ]
    },
    {
     "name": "stdout",
     "output_type": "stream",
     "text": [
      "Got 75069655/131072000 with acc 57.27\n",
      "Dice score: 0.2884885370731354\n"
     ]
    },
    {
     "name": "stderr",
     "output_type": "stream",
     "text": [
      " 10%|██████▍                                                            | 24/251 [08:54<1:23:57, 22.19s/it, loss=0.602]"
     ]
    },
    {
     "name": "stdout",
     "output_type": "stream",
     "text": [
      "Got 75588024/131072000 with acc 57.67\n",
      "Dice score: 0.2782757580280304\n"
     ]
    },
    {
     "name": "stderr",
     "output_type": "stream",
     "text": [
      " 10%|██████▋                                                            | 25/251 [09:18<1:24:56, 22.55s/it, loss=0.608]"
     ]
    },
    {
     "name": "stdout",
     "output_type": "stream",
     "text": [
      "Got 79169036/131072000 with acc 60.40\n",
      "Dice score: 0.2623019516468048\n"
     ]
    },
    {
     "name": "stderr",
     "output_type": "stream",
     "text": [
      " 10%|██████▉                                                            | 26/251 [09:40<1:24:34, 22.55s/it, loss=0.606]"
     ]
    },
    {
     "name": "stdout",
     "output_type": "stream",
     "text": [
      "Got 79403388/131072000 with acc 60.58\n",
      "Dice score: 0.24998901784420013\n"
     ]
    },
    {
     "name": "stderr",
     "output_type": "stream",
     "text": [
      " 11%|███████▏                                                           | 27/251 [10:03<1:24:16, 22.57s/it, loss=0.606]"
     ]
    },
    {
     "name": "stdout",
     "output_type": "stream",
     "text": [
      "Got 79093198/131072000 with acc 60.34\n",
      "Dice score: 0.2517838776111603\n"
     ]
    },
    {
     "name": "stderr",
     "output_type": "stream",
     "text": [
      " 11%|███████▍                                                           | 28/251 [10:25<1:23:28, 22.46s/it, loss=0.616]"
     ]
    },
    {
     "name": "stdout",
     "output_type": "stream",
     "text": [
      "Got 79531850/131072000 with acc 60.68\n",
      "Dice score: 0.25439584255218506\n"
     ]
    },
    {
     "name": "stderr",
     "output_type": "stream",
     "text": [
      " 12%|███████▋                                                           | 29/251 [10:48<1:23:06, 22.46s/it, loss=0.598]"
     ]
    },
    {
     "name": "stdout",
     "output_type": "stream",
     "text": [
      "Got 80048935/131072000 with acc 61.07\n",
      "Dice score: 0.25371792912483215\n"
     ]
    },
    {
     "name": "stderr",
     "output_type": "stream",
     "text": [
      " 12%|████████                                                           | 30/251 [11:10<1:23:03, 22.55s/it, loss=0.585]"
     ]
    },
    {
     "name": "stdout",
     "output_type": "stream",
     "text": [
      "Got 82491406/131072000 with acc 62.94\n",
      "Dice score: 0.25575318932533264\n"
     ]
    },
    {
     "name": "stderr",
     "output_type": "stream",
     "text": [
      " 12%|████████▍                                                           | 31/251 [11:33<1:22:43, 22.56s/it, loss=0.59]"
     ]
    },
    {
     "name": "stdout",
     "output_type": "stream",
     "text": [
      "Got 84261863/131072000 with acc 64.29\n",
      "Dice score: 0.24927958846092224\n"
     ]
    },
    {
     "name": "stderr",
     "output_type": "stream",
     "text": [
      " 13%|████████▌                                                          | 32/251 [11:56<1:22:22, 22.57s/it, loss=0.587]"
     ]
    },
    {
     "name": "stdout",
     "output_type": "stream",
     "text": [
      "Got 85156399/131072000 with acc 64.97\n",
      "Dice score: 0.24173952639102936\n"
     ]
    },
    {
     "name": "stderr",
     "output_type": "stream",
     "text": [
      " 13%|████████▉                                                           | 33/251 [12:18<1:21:54, 22.54s/it, loss=0.59]"
     ]
    },
    {
     "name": "stdout",
     "output_type": "stream",
     "text": [
      "Got 85795857/131072000 with acc 65.46\n",
      "Dice score: 0.24990740418434143\n"
     ]
    },
    {
     "name": "stderr",
     "output_type": "stream",
     "text": [
      " 14%|█████████                                                          | 34/251 [12:41<1:21:34, 22.56s/it, loss=0.585]"
     ]
    },
    {
     "name": "stdout",
     "output_type": "stream",
     "text": [
      "Got 86053280/131072000 with acc 65.65\n",
      "Dice score: 0.2497563660144806\n"
     ]
    },
    {
     "name": "stderr",
     "output_type": "stream",
     "text": [
      " 14%|█████████▍                                                          | 35/251 [13:03<1:21:04, 22.52s/it, loss=0.57]"
     ]
    },
    {
     "name": "stdout",
     "output_type": "stream",
     "text": [
      "Got 86624393/131072000 with acc 66.09\n",
      "Dice score: 0.24692215025424957\n"
     ]
    },
    {
     "name": "stderr",
     "output_type": "stream",
     "text": [
      " 14%|█████████▌                                                         | 36/251 [13:25<1:20:24, 22.44s/it, loss=0.578]"
     ]
    },
    {
     "name": "stdout",
     "output_type": "stream",
     "text": [
      "Got 86412100/131072000 with acc 65.93\n",
      "Dice score: 0.21140998601913452\n"
     ]
    },
    {
     "name": "stderr",
     "output_type": "stream",
     "text": [
      " 15%|█████████▉                                                         | 37/251 [13:48<1:20:05, 22.45s/it, loss=0.591]"
     ]
    },
    {
     "name": "stdout",
     "output_type": "stream",
     "text": [
      "Got 87484820/131072000 with acc 66.75\n",
      "Dice score: 0.20381000638008118\n"
     ]
    },
    {
     "name": "stderr",
     "output_type": "stream",
     "text": [
      " 15%|██████████▏                                                        | 38/251 [14:10<1:19:48, 22.48s/it, loss=0.564]"
     ]
    },
    {
     "name": "stdout",
     "output_type": "stream",
     "text": [
      "Got 91091266/131072000 with acc 69.50\n",
      "Dice score: 0.25989803671836853\n"
     ]
    },
    {
     "name": "stderr",
     "output_type": "stream",
     "text": [
      " 16%|██████████▍                                                        | 39/251 [14:33<1:19:37, 22.54s/it, loss=0.551]"
     ]
    },
    {
     "name": "stdout",
     "output_type": "stream",
     "text": [
      "Got 93657846/131072000 with acc 71.46\n",
      "Dice score: 0.31143075227737427\n"
     ]
    },
    {
     "name": "stderr",
     "output_type": "stream",
     "text": [
      " 16%|██████████▋                                                        | 40/251 [14:57<1:20:42, 22.95s/it, loss=0.558]"
     ]
    },
    {
     "name": "stdout",
     "output_type": "stream",
     "text": [
      "Got 96053143/131072000 with acc 73.28\n",
      "Dice score: 0.36814171075820923\n"
     ]
    },
    {
     "name": "stderr",
     "output_type": "stream",
     "text": [
      " 16%|██████████▉                                                        | 41/251 [15:19<1:19:40, 22.76s/it, loss=0.561]"
     ]
    },
    {
     "name": "stdout",
     "output_type": "stream",
     "text": [
      "Got 98675597/131072000 with acc 75.28\n",
      "Dice score: 0.44220414757728577\n"
     ]
    },
    {
     "name": "stderr",
     "output_type": "stream",
     "text": [
      " 17%|███████████▏                                                       | 42/251 [15:42<1:18:56, 22.66s/it, loss=0.553]"
     ]
    },
    {
     "name": "stdout",
     "output_type": "stream",
     "text": [
      "Got 100573361/131072000 with acc 76.73\n",
      "Dice score: 0.4894620180130005\n"
     ]
    },
    {
     "name": "stderr",
     "output_type": "stream",
     "text": [
      " 17%|███████████▍                                                       | 43/251 [16:04<1:18:19, 22.59s/it, loss=0.548]"
     ]
    },
    {
     "name": "stdout",
     "output_type": "stream",
     "text": [
      "Got 102662665/131072000 with acc 78.33\n",
      "Dice score: 0.5502177476882935\n"
     ]
    },
    {
     "name": "stderr",
     "output_type": "stream",
     "text": [
      " 18%|███████████▋                                                       | 44/251 [16:27<1:18:05, 22.64s/it, loss=0.549]"
     ]
    },
    {
     "name": "stdout",
     "output_type": "stream",
     "text": [
      "Got 103963382/131072000 with acc 79.32\n",
      "Dice score: 0.5938805341720581\n"
     ]
    },
    {
     "name": "stderr",
     "output_type": "stream",
     "text": [
      " 18%|████████████                                                       | 45/251 [16:49<1:17:39, 22.62s/it, loss=0.559]"
     ]
    },
    {
     "name": "stdout",
     "output_type": "stream",
     "text": [
      "Got 104935900/131072000 with acc 80.06\n",
      "Dice score: 0.6290479302406311\n"
     ]
    },
    {
     "name": "stderr",
     "output_type": "stream",
     "text": [
      " 18%|████████████▎                                                      | 46/251 [17:11<1:16:38, 22.43s/it, loss=0.539]"
     ]
    },
    {
     "name": "stdout",
     "output_type": "stream",
     "text": [
      "Got 105458953/131072000 with acc 80.46\n",
      "Dice score: 0.65093594789505\n"
     ]
    },
    {
     "name": "stderr",
     "output_type": "stream",
     "text": [
      " 19%|████████████▌                                                      | 47/251 [17:33<1:15:24, 22.18s/it, loss=0.547]"
     ]
    },
    {
     "name": "stdout",
     "output_type": "stream",
     "text": [
      "Got 106667647/131072000 with acc 81.38\n",
      "Dice score: 0.6679933071136475\n"
     ]
    },
    {
     "name": "stderr",
     "output_type": "stream",
     "text": [
      " 19%|████████████▊                                                      | 48/251 [17:56<1:15:41, 22.37s/it, loss=0.543]"
     ]
    },
    {
     "name": "stdout",
     "output_type": "stream",
     "text": [
      "Got 107606574/131072000 with acc 82.10\n",
      "Dice score: 0.6841394305229187\n"
     ]
    },
    {
     "name": "stderr",
     "output_type": "stream",
     "text": [
      " 20%|█████████████▎                                                      | 49/251 [18:18<1:15:12, 22.34s/it, loss=0.52]"
     ]
    },
    {
     "name": "stdout",
     "output_type": "stream",
     "text": [
      "Got 110379825/131072000 with acc 84.21\n",
      "Dice score: 0.7098130583763123\n"
     ]
    },
    {
     "name": "stderr",
     "output_type": "stream",
     "text": [
      " 20%|█████████████▎                                                     | 50/251 [18:41<1:15:05, 22.41s/it, loss=0.526]"
     ]
    },
    {
     "name": "stdout",
     "output_type": "stream",
     "text": [
      "Got 112443169/131072000 with acc 85.79\n",
      "Dice score: 0.7271370887756348\n"
     ]
    },
    {
     "name": "stderr",
     "output_type": "stream",
     "text": [
      " 20%|█████████████▌                                                     | 51/251 [19:03<1:14:49, 22.45s/it, loss=0.514]"
     ]
    },
    {
     "name": "stdout",
     "output_type": "stream",
     "text": [
      "Got 113328677/131072000 with acc 86.46\n",
      "Dice score: 0.7366968989372253\n"
     ]
    },
    {
     "name": "stderr",
     "output_type": "stream",
     "text": [
      " 21%|█████████████▉                                                     | 52/251 [19:26<1:14:25, 22.44s/it, loss=0.507]"
     ]
    },
    {
     "name": "stdout",
     "output_type": "stream",
     "text": [
      "Got 113657452/131072000 with acc 86.71\n",
      "Dice score: 0.7408319711685181\n"
     ]
    },
    {
     "name": "stderr",
     "output_type": "stream",
     "text": [
      " 21%|██████████████▏                                                    | 53/251 [19:48<1:13:56, 22.41s/it, loss=0.513]"
     ]
    },
    {
     "name": "stdout",
     "output_type": "stream",
     "text": [
      "Got 113636976/131072000 with acc 86.70\n",
      "Dice score: 0.743497371673584\n"
     ]
    },
    {
     "name": "stderr",
     "output_type": "stream",
     "text": [
      " 22%|██████████████▍                                                    | 54/251 [20:10<1:13:38, 22.43s/it, loss=0.506]"
     ]
    },
    {
     "name": "stdout",
     "output_type": "stream",
     "text": [
      "Got 113980125/131072000 with acc 86.96\n",
      "Dice score: 0.7519309520721436\n"
     ]
    },
    {
     "name": "stderr",
     "output_type": "stream",
     "text": [
      " 22%|██████████████▉                                                     | 55/251 [20:33<1:13:14, 22.42s/it, loss=0.51]"
     ]
    },
    {
     "name": "stdout",
     "output_type": "stream",
     "text": [
      "Got 115012369/131072000 with acc 87.75\n",
      "Dice score: 0.769959568977356\n"
     ]
    },
    {
     "name": "stderr",
     "output_type": "stream",
     "text": [
      " 22%|██████████████▉                                                    | 56/251 [20:56<1:13:05, 22.49s/it, loss=0.491]"
     ]
    },
    {
     "name": "stdout",
     "output_type": "stream",
     "text": [
      "Got 115598609/131072000 with acc 88.19\n",
      "Dice score: 0.779775083065033\n"
     ]
    },
    {
     "name": "stderr",
     "output_type": "stream",
     "text": [
      " 23%|███████████████▍                                                    | 57/251 [21:18<1:12:44, 22.50s/it, loss=0.51]"
     ]
    },
    {
     "name": "stdout",
     "output_type": "stream",
     "text": [
      "Got 115402459/131072000 with acc 88.05\n",
      "Dice score: 0.7828419208526611\n"
     ]
    },
    {
     "name": "stderr",
     "output_type": "stream",
     "text": [
      " 23%|███████████████▍                                                   | 58/251 [21:40<1:12:02, 22.39s/it, loss=0.525]"
     ]
    },
    {
     "name": "stdout",
     "output_type": "stream",
     "text": [
      "Got 115574409/131072000 with acc 88.18\n",
      "Dice score: 0.7876369953155518\n"
     ]
    },
    {
     "name": "stderr",
     "output_type": "stream",
     "text": [
      " 24%|███████████████▋                                                   | 59/251 [22:03<1:11:45, 22.42s/it, loss=0.501]"
     ]
    },
    {
     "name": "stdout",
     "output_type": "stream",
     "text": [
      "Got 115147684/131072000 with acc 87.85\n",
      "Dice score: 0.7847288250923157\n"
     ]
    },
    {
     "name": "stderr",
     "output_type": "stream",
     "text": [
      " 24%|████████████████▎                                                   | 60/251 [22:25<1:11:32, 22.48s/it, loss=0.49]"
     ]
    },
    {
     "name": "stdout",
     "output_type": "stream",
     "text": [
      "Got 114526958/131072000 with acc 87.38\n",
      "Dice score: 0.7794653177261353\n"
     ]
    },
    {
     "name": "stderr",
     "output_type": "stream",
     "text": [
      " 24%|████████████████▎                                                  | 61/251 [22:48<1:11:18, 22.52s/it, loss=0.507]"
     ]
    },
    {
     "name": "stdout",
     "output_type": "stream",
     "text": [
      "Got 114091692/131072000 with acc 87.05\n",
      "Dice score: 0.776411235332489\n"
     ]
    },
    {
     "name": "stderr",
     "output_type": "stream",
     "text": [
      " 25%|████████████████▌                                                  | 62/251 [23:10<1:10:53, 22.51s/it, loss=0.471]"
     ]
    },
    {
     "name": "stdout",
     "output_type": "stream",
     "text": [
      "Got 113333316/131072000 with acc 86.47\n",
      "Dice score: 0.7704505920410156\n"
     ]
    },
    {
     "name": "stderr",
     "output_type": "stream",
     "text": [
      " 25%|████████████████▊                                                  | 63/251 [23:33<1:10:38, 22.54s/it, loss=0.519]"
     ]
    },
    {
     "name": "stdout",
     "output_type": "stream",
     "text": [
      "Got 113248806/131072000 with acc 86.40\n",
      "Dice score: 0.7719754576683044\n"
     ]
    },
    {
     "name": "stderr",
     "output_type": "stream",
     "text": [
      " 25%|█████████████████                                                  | 64/251 [23:55<1:10:09, 22.51s/it, loss=0.477]"
     ]
    },
    {
     "name": "stdout",
     "output_type": "stream",
     "text": [
      "Got 114194670/131072000 with acc 87.12\n",
      "Dice score: 0.7823662757873535\n"
     ]
    },
    {
     "name": "stderr",
     "output_type": "stream",
     "text": [
      " 26%|█████████████████▎                                                 | 65/251 [24:18<1:09:50, 22.53s/it, loss=0.464]"
     ]
    },
    {
     "name": "stdout",
     "output_type": "stream",
     "text": [
      "Got 115106770/131072000 with acc 87.82\n",
      "Dice score: 0.7922403216362\n"
     ]
    },
    {
     "name": "stderr",
     "output_type": "stream",
     "text": [
      " 26%|█████████████████▌                                                 | 66/251 [24:40<1:09:20, 22.49s/it, loss=0.462]"
     ]
    },
    {
     "name": "stdout",
     "output_type": "stream",
     "text": [
      "Got 115864305/131072000 with acc 88.40\n",
      "Dice score: 0.8009593486785889\n"
     ]
    },
    {
     "name": "stderr",
     "output_type": "stream",
     "text": [
      " 27%|█████████████████▉                                                 | 67/251 [25:04<1:09:45, 22.75s/it, loss=0.462]"
     ]
    },
    {
     "name": "stdout",
     "output_type": "stream",
     "text": [
      "Got 116366888/131072000 with acc 88.78\n",
      "Dice score: 0.8063446283340454\n"
     ]
    },
    {
     "name": "stderr",
     "output_type": "stream",
     "text": [
      " 27%|██████████████████▏                                                | 68/251 [25:28<1:10:45, 23.20s/it, loss=0.446]"
     ]
    },
    {
     "name": "stdout",
     "output_type": "stream",
     "text": [
      "Got 116875890/131072000 with acc 89.17\n",
      "Dice score: 0.8123995065689087\n"
     ]
    },
    {
     "name": "stderr",
     "output_type": "stream",
     "text": [
      " 27%|██████████████████▍                                                | 69/251 [25:50<1:08:57, 22.73s/it, loss=0.448]"
     ]
    },
    {
     "name": "stdout",
     "output_type": "stream",
     "text": [
      "Got 117094681/131072000 with acc 89.34\n",
      "Dice score: 0.8166186213493347\n"
     ]
    },
    {
     "name": "stderr",
     "output_type": "stream",
     "text": [
      " 28%|██████████████████▋                                                | 70/251 [26:12<1:07:53, 22.50s/it, loss=0.444]"
     ]
    },
    {
     "name": "stdout",
     "output_type": "stream",
     "text": [
      "Got 117737917/131072000 with acc 89.83\n",
      "Dice score: 0.8232452869415283\n"
     ]
    },
    {
     "name": "stderr",
     "output_type": "stream",
     "text": [
      " 28%|███████████████████▏                                                | 71/251 [26:33<1:06:26, 22.15s/it, loss=0.46]"
     ]
    },
    {
     "name": "stdout",
     "output_type": "stream",
     "text": [
      "Got 117897606/131072000 with acc 89.95\n",
      "Dice score: 0.8252347707748413\n"
     ]
    },
    {
     "name": "stderr",
     "output_type": "stream",
     "text": [
      " 29%|███████████████████▏                                               | 72/251 [26:54<1:05:21, 21.91s/it, loss=0.458]"
     ]
    },
    {
     "name": "stdout",
     "output_type": "stream",
     "text": [
      "Got 116630639/131072000 with acc 88.98\n",
      "Dice score: 0.8145315647125244\n"
     ]
    },
    {
     "name": "stderr",
     "output_type": "stream",
     "text": [
      " 29%|███████████████████▍                                               | 73/251 [27:16<1:04:36, 21.78s/it, loss=0.459]"
     ]
    },
    {
     "name": "stdout",
     "output_type": "stream",
     "text": [
      "Got 114215555/131072000 with acc 87.14\n",
      "Dice score: 0.7921639680862427\n"
     ]
    },
    {
     "name": "stderr",
     "output_type": "stream",
     "text": [
      " 29%|███████████████████▊                                               | 74/251 [27:37<1:04:09, 21.75s/it, loss=0.468]"
     ]
    },
    {
     "name": "stdout",
     "output_type": "stream",
     "text": [
      "Got 114111996/131072000 with acc 87.06\n",
      "Dice score: 0.7901590466499329\n"
     ]
    },
    {
     "name": "stderr",
     "output_type": "stream",
     "text": [
      " 30%|████████████████████                                               | 75/251 [28:00<1:04:07, 21.86s/it, loss=0.428]"
     ]
    },
    {
     "name": "stdout",
     "output_type": "stream",
     "text": [
      "Got 114961517/131072000 with acc 87.71\n",
      "Dice score: 0.7966973185539246\n"
     ]
    },
    {
     "name": "stderr",
     "output_type": "stream",
     "text": [
      " 30%|████████████████████▎                                              | 76/251 [28:21<1:03:09, 21.66s/it, loss=0.447]"
     ]
    },
    {
     "name": "stdout",
     "output_type": "stream",
     "text": [
      "Got 116213553/131072000 with acc 88.66\n",
      "Dice score: 0.8076851963996887\n"
     ]
    },
    {
     "name": "stderr",
     "output_type": "stream",
     "text": [
      " 31%|████████████████████▌                                              | 77/251 [28:42<1:02:29, 21.55s/it, loss=0.421]"
     ]
    },
    {
     "name": "stdout",
     "output_type": "stream",
     "text": [
      "Got 116813508/131072000 with acc 89.12\n",
      "Dice score: 0.8133424520492554\n"
     ]
    },
    {
     "name": "stderr",
     "output_type": "stream",
     "text": [
      " 31%|████████████████████▊                                              | 78/251 [29:03<1:01:59, 21.50s/it, loss=0.428]"
     ]
    },
    {
     "name": "stdout",
     "output_type": "stream",
     "text": [
      "Got 117689998/131072000 with acc 89.79\n",
      "Dice score: 0.8216671347618103\n"
     ]
    },
    {
     "name": "stderr",
     "output_type": "stream",
     "text": [
      " 31%|█████████████████████                                              | 79/251 [29:24<1:01:05, 21.31s/it, loss=0.439]"
     ]
    },
    {
     "name": "stdout",
     "output_type": "stream",
     "text": [
      "Got 118446689/131072000 with acc 90.37\n",
      "Dice score: 0.8297658562660217\n"
     ]
    },
    {
     "name": "stderr",
     "output_type": "stream",
     "text": [
      " 32%|█████████████████████▋                                              | 80/251 [29:46<1:00:43, 21.30s/it, loss=0.42]"
     ]
    },
    {
     "name": "stdout",
     "output_type": "stream",
     "text": [
      "Got 118586935/131072000 with acc 90.47\n",
      "Dice score: 0.8316893577575684\n"
     ]
    },
    {
     "name": "stderr",
     "output_type": "stream",
     "text": [
      " 32%|█████████████████████▌                                             | 81/251 [30:07<1:00:39, 21.41s/it, loss=0.419]"
     ]
    },
    {
     "name": "stdout",
     "output_type": "stream",
     "text": [
      "Got 117895822/131072000 with acc 89.95\n",
      "Dice score: 0.8253592848777771\n"
     ]
    },
    {
     "name": "stderr",
     "output_type": "stream",
     "text": [
      " 33%|█████████████████████▉                                             | 82/251 [30:29<1:00:20, 21.42s/it, loss=0.432]"
     ]
    },
    {
     "name": "stdout",
     "output_type": "stream",
     "text": [
      "Got 117141747/131072000 with acc 89.37\n",
      "Dice score: 0.8185144066810608\n"
     ]
    },
    {
     "name": "stderr",
     "output_type": "stream",
     "text": [
      " 33%|███████████████████████▏                                              | 83/251 [30:50<59:56, 21.41s/it, loss=0.43]"
     ]
    },
    {
     "name": "stdout",
     "output_type": "stream",
     "text": [
      "Got 116235853/131072000 with acc 88.68\n",
      "Dice score: 0.8096110224723816\n"
     ]
    },
    {
     "name": "stderr",
     "output_type": "stream",
     "text": [
      " 33%|██████████████████████▍                                            | 84/251 [31:13<1:00:54, 21.88s/it, loss=0.427]"
     ]
    },
    {
     "name": "stdout",
     "output_type": "stream",
     "text": [
      "Got 115909670/131072000 with acc 88.43\n",
      "Dice score: 0.8076316714286804\n"
     ]
    },
    {
     "name": "stderr",
     "output_type": "stream",
     "text": [
      " 34%|███████████████████████                                             | 85/251 [31:35<1:00:51, 22.00s/it, loss=0.45]"
     ]
    },
    {
     "name": "stdout",
     "output_type": "stream",
     "text": [
      "Got 114778360/131072000 with acc 87.57\n",
      "Dice score: 0.7972574830055237\n"
     ]
    },
    {
     "name": "stderr",
     "output_type": "stream",
     "text": [
      " 34%|██████████████████████▉                                            | 86/251 [31:58<1:00:59, 22.18s/it, loss=0.415]"
     ]
    },
    {
     "name": "stdout",
     "output_type": "stream",
     "text": [
      "Got 114611163/131072000 with acc 87.44\n",
      "Dice score: 0.7950825095176697\n"
     ]
    },
    {
     "name": "stderr",
     "output_type": "stream",
     "text": [
      " 35%|███████████████████████▏                                           | 87/251 [32:20<1:00:17, 22.06s/it, loss=0.417]"
     ]
    },
    {
     "name": "stdout",
     "output_type": "stream",
     "text": [
      "Got 115228748/131072000 with acc 87.91\n",
      "Dice score: 0.8014149069786072\n"
     ]
    },
    {
     "name": "stderr",
     "output_type": "stream",
     "text": [
      " 35%|███████████████████████▍                                           | 88/251 [32:42<1:00:10, 22.15s/it, loss=0.455]"
     ]
    },
    {
     "name": "stdout",
     "output_type": "stream",
     "text": [
      "Got 117393035/131072000 with acc 89.56\n",
      "Dice score: 0.8240116238594055\n"
     ]
    },
    {
     "name": "stderr",
     "output_type": "stream",
     "text": [
      " 35%|███████████████████████▊                                           | 89/251 [33:04<1:00:00, 22.23s/it, loss=0.414]"
     ]
    },
    {
     "name": "stdout",
     "output_type": "stream",
     "text": [
      "Got 118955500/131072000 with acc 90.76\n",
      "Dice score: 0.8404688835144043\n"
     ]
    },
    {
     "name": "stderr",
     "output_type": "stream",
     "text": [
      " 36%|████████████████████████▋                                            | 90/251 [33:27<59:58, 22.35s/it, loss=0.406]"
     ]
    },
    {
     "name": "stdout",
     "output_type": "stream",
     "text": [
      "Got 120028901/131072000 with acc 91.57\n",
      "Dice score: 0.8500317335128784\n"
     ]
    },
    {
     "name": "stderr",
     "output_type": "stream",
     "text": [
      " 36%|█████████████████████████                                            | 91/251 [33:50<59:45, 22.41s/it, loss=0.387]"
     ]
    },
    {
     "name": "stdout",
     "output_type": "stream",
     "text": [
      "Got 120233087/131072000 with acc 91.73\n",
      "Dice score: 0.8516923189163208\n"
     ]
    },
    {
     "name": "stderr",
     "output_type": "stream",
     "text": [
      " 37%|█████████████████████████▎                                           | 92/251 [34:12<59:22, 22.41s/it, loss=0.409]"
     ]
    },
    {
     "name": "stdout",
     "output_type": "stream",
     "text": [
      "Got 120083045/131072000 with acc 91.62\n",
      "Dice score: 0.8506774306297302\n"
     ]
    },
    {
     "name": "stderr",
     "output_type": "stream",
     "text": [
      " 37%|█████████████████████████▌                                           | 93/251 [34:35<59:13, 22.49s/it, loss=0.382]"
     ]
    },
    {
     "name": "stdout",
     "output_type": "stream",
     "text": [
      "Got 119316971/131072000 with acc 91.03\n",
      "Dice score: 0.8437938094139099\n"
     ]
    },
    {
     "name": "stderr",
     "output_type": "stream",
     "text": [
      " 37%|█████████████████████████▊                                           | 94/251 [34:57<58:58, 22.54s/it, loss=0.422]"
     ]
    },
    {
     "name": "stdout",
     "output_type": "stream",
     "text": [
      "Got 117413773/131072000 with acc 89.58\n",
      "Dice score: 0.8257120251655579\n"
     ]
    },
    {
     "name": "stderr",
     "output_type": "stream",
     "text": [
      " 38%|██████████████████████████                                           | 95/251 [35:19<57:53, 22.27s/it, loss=0.419]"
     ]
    },
    {
     "name": "stdout",
     "output_type": "stream",
     "text": [
      "Got 114009681/131072000 with acc 86.98\n",
      "Dice score: 0.7934321165084839\n"
     ]
    },
    {
     "name": "stderr",
     "output_type": "stream",
     "text": [
      " 38%|██████████████████████████▍                                          | 96/251 [35:41<56:54, 22.03s/it, loss=0.429]"
     ]
    },
    {
     "name": "stdout",
     "output_type": "stream",
     "text": [
      "Got 112403494/131072000 with acc 85.76\n",
      "Dice score: 0.7786141633987427\n"
     ]
    },
    {
     "name": "stderr",
     "output_type": "stream",
     "text": [
      " 39%|██████████████████████████▋                                          | 97/251 [36:03<56:52, 22.16s/it, loss=0.421]"
     ]
    },
    {
     "name": "stdout",
     "output_type": "stream",
     "text": [
      "Got 112598062/131072000 with acc 85.91\n",
      "Dice score: 0.7800213098526001\n"
     ]
    },
    {
     "name": "stderr",
     "output_type": "stream",
     "text": [
      " 39%|██████████████████████████▉                                          | 98/251 [36:25<56:46, 22.26s/it, loss=0.409]"
     ]
    },
    {
     "name": "stdout",
     "output_type": "stream",
     "text": [
      "Got 114154623/131072000 with acc 87.09\n",
      "Dice score: 0.7934998273849487\n"
     ]
    },
    {
     "name": "stderr",
     "output_type": "stream",
     "text": [
      " 39%|███████████████████████████▏                                         | 99/251 [36:47<56:04, 22.14s/it, loss=0.399]"
     ]
    },
    {
     "name": "stdout",
     "output_type": "stream",
     "text": [
      "Got 117249403/131072000 with acc 89.45\n",
      "Dice score: 0.8225195407867432\n"
     ]
    },
    {
     "name": "stderr",
     "output_type": "stream",
     "text": [
      " 40%|███████████████████████████                                         | 100/251 [37:09<55:39, 22.12s/it, loss=0.408]"
     ]
    },
    {
     "name": "stdout",
     "output_type": "stream",
     "text": [
      "Got 119261089/131072000 with acc 90.99\n",
      "Dice score: 0.8432559967041016\n"
     ]
    },
    {
     "name": "stderr",
     "output_type": "stream",
     "text": [
      " 40%|███████████████████████████▎                                        | 101/251 [37:31<54:44, 21.89s/it, loss=0.414]"
     ]
    },
    {
     "name": "stdout",
     "output_type": "stream",
     "text": [
      "Got 120281066/131072000 with acc 91.77\n",
      "Dice score: 0.8535953164100647\n"
     ]
    },
    {
     "name": "stderr",
     "output_type": "stream",
     "text": [
      " 41%|███████████████████████████▋                                        | 102/251 [37:52<54:02, 21.76s/it, loss=0.387]"
     ]
    },
    {
     "name": "stdout",
     "output_type": "stream",
     "text": [
      "Got 120930702/131072000 with acc 92.26\n",
      "Dice score: 0.8581736087799072\n"
     ]
    },
    {
     "name": "stderr",
     "output_type": "stream",
     "text": [
      " 41%|███████████████████████████▉                                        | 103/251 [38:14<53:48, 21.81s/it, loss=0.386]"
     ]
    },
    {
     "name": "stdout",
     "output_type": "stream",
     "text": [
      "Got 121019665/131072000 with acc 92.33\n",
      "Dice score: 0.8579846024513245\n"
     ]
    },
    {
     "name": "stderr",
     "output_type": "stream",
     "text": [
      " 41%|████████████████████████████▏                                       | 104/251 [38:35<52:59, 21.63s/it, loss=0.398]"
     ]
    },
    {
     "name": "stdout",
     "output_type": "stream",
     "text": [
      "Got 120849298/131072000 with acc 92.20\n",
      "Dice score: 0.8574851155281067\n"
     ]
    },
    {
     "name": "stderr",
     "output_type": "stream",
     "text": [
      " 42%|████████████████████████████▍                                       | 105/251 [38:57<52:18, 21.50s/it, loss=0.412]"
     ]
    },
    {
     "name": "stdout",
     "output_type": "stream",
     "text": [
      "Got 120118544/131072000 with acc 91.64\n",
      "Dice score: 0.8529624342918396\n"
     ]
    },
    {
     "name": "stderr",
     "output_type": "stream",
     "text": [
      " 42%|████████████████████████████▋                                       | 106/251 [39:19<52:44, 21.83s/it, loss=0.412]"
     ]
    },
    {
     "name": "stdout",
     "output_type": "stream",
     "text": [
      "Got 118563580/131072000 with acc 90.46\n",
      "Dice score: 0.8383398056030273\n"
     ]
    },
    {
     "name": "stderr",
     "output_type": "stream",
     "text": [
      " 43%|████████████████████████████▉                                       | 107/251 [39:42<52:48, 22.01s/it, loss=0.388]"
     ]
    },
    {
     "name": "stdout",
     "output_type": "stream",
     "text": [
      "Got 117701185/131072000 with acc 89.80\n",
      "Dice score: 0.8299694061279297\n"
     ]
    },
    {
     "name": "stderr",
     "output_type": "stream",
     "text": [
      " 43%|█████████████████████████████▎                                      | 108/251 [40:04<52:45, 22.14s/it, loss=0.442]"
     ]
    },
    {
     "name": "stdout",
     "output_type": "stream",
     "text": [
      "Got 116545060/131072000 with acc 88.92\n",
      "Dice score: 0.8185163140296936\n"
     ]
    },
    {
     "name": "stderr",
     "output_type": "stream",
     "text": [
      " 43%|█████████████████████████████▌                                      | 109/251 [40:26<52:27, 22.16s/it, loss=0.378]"
     ]
    },
    {
     "name": "stdout",
     "output_type": "stream",
     "text": [
      "Got 115944966/131072000 with acc 88.46\n",
      "Dice score: 0.8124953508377075\n"
     ]
    },
    {
     "name": "stderr",
     "output_type": "stream",
     "text": [
      " 44%|█████████████████████████████▊                                      | 110/251 [40:49<52:20, 22.28s/it, loss=0.395]"
     ]
    },
    {
     "name": "stdout",
     "output_type": "stream",
     "text": [
      "Got 115752341/131072000 with acc 88.31\n",
      "Dice score: 0.8103484511375427\n"
     ]
    },
    {
     "name": "stderr",
     "output_type": "stream",
     "text": [
      " 44%|██████████████████████████████                                      | 111/251 [41:11<51:43, 22.17s/it, loss=0.386]"
     ]
    },
    {
     "name": "stdout",
     "output_type": "stream",
     "text": [
      "Got 116016501/131072000 with acc 88.51\n",
      "Dice score: 0.8126125335693359\n"
     ]
    },
    {
     "name": "stderr",
     "output_type": "stream",
     "text": [
      " 45%|██████████████████████████████▎                                     | 112/251 [41:32<50:41, 21.88s/it, loss=0.387]"
     ]
    },
    {
     "name": "stdout",
     "output_type": "stream",
     "text": [
      "Got 117986248/131072000 with acc 90.02\n",
      "Dice score: 0.8317477107048035\n"
     ]
    },
    {
     "name": "stderr",
     "output_type": "stream",
     "text": [
      " 45%|██████████████████████████████▌                                     | 113/251 [41:53<50:00, 21.74s/it, loss=0.359]"
     ]
    },
    {
     "name": "stdout",
     "output_type": "stream",
     "text": [
      "Got 119844550/131072000 with acc 91.43\n",
      "Dice score: 0.8502089977264404\n"
     ]
    },
    {
     "name": "stderr",
     "output_type": "stream",
     "text": [
      " 45%|██████████████████████████████▉                                     | 114/251 [42:15<49:37, 21.73s/it, loss=0.385]"
     ]
    },
    {
     "name": "stdout",
     "output_type": "stream",
     "text": [
      "Got 121004218/131072000 with acc 92.32\n",
      "Dice score: 0.8620721697807312\n"
     ]
    },
    {
     "name": "stderr",
     "output_type": "stream",
     "text": [
      " 46%|███████████████████████████████▏                                    | 115/251 [42:36<48:52, 21.56s/it, loss=0.356]"
     ]
    },
    {
     "name": "stdout",
     "output_type": "stream",
     "text": [
      "Got 121647986/131072000 with acc 92.81\n",
      "Dice score: 0.869289755821228\n"
     ]
    },
    {
     "name": "stderr",
     "output_type": "stream",
     "text": [
      " 46%|███████████████████████████████▍                                    | 116/251 [42:59<49:10, 21.85s/it, loss=0.344]"
     ]
    },
    {
     "name": "stdout",
     "output_type": "stream",
     "text": [
      "Got 121844970/131072000 with acc 92.96\n",
      "Dice score: 0.8712155818939209\n"
     ]
    },
    {
     "name": "stderr",
     "output_type": "stream",
     "text": [
      " 47%|███████████████████████████████▋                                    | 117/251 [43:20<48:24, 21.68s/it, loss=0.393]"
     ]
    },
    {
     "name": "stdout",
     "output_type": "stream",
     "text": [
      "Got 121822115/131072000 with acc 92.94\n",
      "Dice score: 0.8697732090950012\n"
     ]
    },
    {
     "name": "stderr",
     "output_type": "stream",
     "text": [
      " 47%|███████████████████████████████▉                                    | 118/251 [43:42<47:58, 21.65s/it, loss=0.401]"
     ]
    },
    {
     "name": "stdout",
     "output_type": "stream",
     "text": [
      "Got 121629574/131072000 with acc 92.80\n",
      "Dice score: 0.8685815334320068\n"
     ]
    },
    {
     "name": "stderr",
     "output_type": "stream",
     "text": [
      " 47%|████████████████████████████████▏                                   | 119/251 [44:04<47:59, 21.81s/it, loss=0.347]"
     ]
    },
    {
     "name": "stdout",
     "output_type": "stream",
     "text": [
      "Got 121293270/131072000 with acc 92.54\n",
      "Dice score: 0.8661245107650757\n"
     ]
    },
    {
     "name": "stderr",
     "output_type": "stream",
     "text": [
      " 48%|████████████████████████████████▌                                   | 120/251 [44:26<47:54, 21.94s/it, loss=0.384]"
     ]
    },
    {
     "name": "stdout",
     "output_type": "stream",
     "text": [
      "Got 120145769/131072000 with acc 91.66\n",
      "Dice score: 0.8553847670555115\n"
     ]
    },
    {
     "name": "stderr",
     "output_type": "stream",
     "text": [
      " 48%|████████████████████████████████▊                                   | 121/251 [44:48<47:49, 22.08s/it, loss=0.362]"
     ]
    },
    {
     "name": "stdout",
     "output_type": "stream",
     "text": [
      "Got 118599536/131072000 with acc 90.48\n",
      "Dice score: 0.8396369218826294\n"
     ]
    },
    {
     "name": "stderr",
     "output_type": "stream",
     "text": [
      " 49%|█████████████████████████████████                                   | 122/251 [45:11<47:35, 22.13s/it, loss=0.368]"
     ]
    },
    {
     "name": "stdout",
     "output_type": "stream",
     "text": [
      "Got 117444050/131072000 with acc 89.60\n",
      "Dice score: 0.8278703093528748\n"
     ]
    },
    {
     "name": "stderr",
     "output_type": "stream",
     "text": [
      " 49%|█████████████████████████████████▎                                  | 123/251 [45:32<46:45, 21.92s/it, loss=0.405]"
     ]
    },
    {
     "name": "stdout",
     "output_type": "stream",
     "text": [
      "Got 116269821/131072000 with acc 88.71\n",
      "Dice score: 0.8156750202178955\n"
     ]
    },
    {
     "name": "stderr",
     "output_type": "stream",
     "text": [
      " 49%|█████████████████████████████████▌                                  | 124/251 [45:54<46:40, 22.05s/it, loss=0.346]"
     ]
    },
    {
     "name": "stdout",
     "output_type": "stream",
     "text": [
      "Got 115538714/131072000 with acc 88.15\n",
      "Dice score: 0.8078551292419434\n"
     ]
    },
    {
     "name": "stderr",
     "output_type": "stream",
     "text": [
      " 50%|█████████████████████████████████▊                                  | 125/251 [46:16<46:11, 22.00s/it, loss=0.344]"
     ]
    },
    {
     "name": "stdout",
     "output_type": "stream",
     "text": [
      "Got 115783646/131072000 with acc 88.34\n",
      "Dice score: 0.8096547722816467\n"
     ]
    },
    {
     "name": "stderr",
     "output_type": "stream",
     "text": [
      " 50%|██████████████████████████████████▏                                 | 126/251 [46:38<45:29, 21.83s/it, loss=0.387]"
     ]
    },
    {
     "name": "stdout",
     "output_type": "stream",
     "text": [
      "Got 115888733/131072000 with acc 88.42\n",
      "Dice score: 0.8101229667663574\n"
     ]
    },
    {
     "name": "stderr",
     "output_type": "stream",
     "text": [
      " 51%|██████████████████████████████████▍                                 | 127/251 [46:59<44:47, 21.67s/it, loss=0.375]"
     ]
    },
    {
     "name": "stdout",
     "output_type": "stream",
     "text": [
      "Got 116765132/131072000 with acc 89.08\n",
      "Dice score: 0.8182575106620789\n"
     ]
    },
    {
     "name": "stderr",
     "output_type": "stream",
     "text": [
      " 51%|██████████████████████████████████▋                                 | 128/251 [47:21<44:18, 21.61s/it, loss=0.359]"
     ]
    },
    {
     "name": "stdout",
     "output_type": "stream",
     "text": [
      "Got 118252465/131072000 with acc 90.22\n",
      "Dice score: 0.8330402374267578\n"
     ]
    },
    {
     "name": "stderr",
     "output_type": "stream",
     "text": [
      " 51%|██████████████████████████████████▉                                 | 129/251 [47:42<43:54, 21.60s/it, loss=0.382]"
     ]
    },
    {
     "name": "stdout",
     "output_type": "stream",
     "text": [
      "Got 120065785/131072000 with acc 91.60\n",
      "Dice score: 0.852030336856842\n"
     ]
    },
    {
     "name": "stderr",
     "output_type": "stream",
     "text": [
      " 52%|███████████████████████████████████▏                                | 130/251 [48:05<44:05, 21.87s/it, loss=0.343]"
     ]
    },
    {
     "name": "stdout",
     "output_type": "stream",
     "text": [
      "Got 121167542/131072000 with acc 92.44\n",
      "Dice score: 0.8629152178764343\n"
     ]
    },
    {
     "name": "stderr",
     "output_type": "stream",
     "text": [
      " 52%|███████████████████████████████████▍                                | 131/251 [48:26<43:11, 21.60s/it, loss=0.358]"
     ]
    },
    {
     "name": "stdout",
     "output_type": "stream",
     "text": [
      "Got 121664653/131072000 with acc 92.82\n",
      "Dice score: 0.8678978085517883\n"
     ]
    },
    {
     "name": "stderr",
     "output_type": "stream",
     "text": [
      " 53%|███████████████████████████████████▊                                | 132/251 [48:47<42:42, 21.54s/it, loss=0.357]"
     ]
    },
    {
     "name": "stdout",
     "output_type": "stream",
     "text": [
      "Got 121900652/131072000 with acc 93.00\n",
      "Dice score: 0.870305597782135\n"
     ]
    },
    {
     "name": "stderr",
     "output_type": "stream",
     "text": [
      " 53%|████████████████████████████████████                                | 133/251 [49:08<42:10, 21.45s/it, loss=0.376]"
     ]
    },
    {
     "name": "stdout",
     "output_type": "stream",
     "text": [
      "Got 121730312/131072000 with acc 92.87\n",
      "Dice score: 0.8690596222877502\n"
     ]
    },
    {
     "name": "stderr",
     "output_type": "stream",
     "text": [
      " 53%|████████████████████████████████████▎                               | 134/251 [49:29<41:37, 21.35s/it, loss=0.355]"
     ]
    },
    {
     "name": "stdout",
     "output_type": "stream",
     "text": [
      "Got 121432249/131072000 with acc 92.65\n",
      "Dice score: 0.8668578863143921\n"
     ]
    },
    {
     "name": "stderr",
     "output_type": "stream",
     "text": [
      " 54%|████████████████████████████████████▌                               | 135/251 [49:51<41:19, 21.37s/it, loss=0.333]"
     ]
    },
    {
     "name": "stdout",
     "output_type": "stream",
     "text": [
      "Got 121237176/131072000 with acc 92.50\n",
      "Dice score: 0.8664431571960449\n"
     ]
    },
    {
     "name": "stderr",
     "output_type": "stream",
     "text": [
      " 54%|████████████████████████████████████▊                               | 136/251 [50:12<40:55, 21.35s/it, loss=0.354]"
     ]
    },
    {
     "name": "stdout",
     "output_type": "stream",
     "text": [
      "Got 120732839/131072000 with acc 92.11\n",
      "Dice score: 0.8623005747795105\n"
     ]
    },
    {
     "name": "stderr",
     "output_type": "stream",
     "text": [
      " 55%|█████████████████████████████████████                               | 137/251 [50:34<40:39, 21.40s/it, loss=0.357]"
     ]
    },
    {
     "name": "stdout",
     "output_type": "stream",
     "text": [
      "Got 119849576/131072000 with acc 91.44\n",
      "Dice score: 0.8527464270591736\n"
     ]
    },
    {
     "name": "stderr",
     "output_type": "stream",
     "text": [
      " 55%|█████████████████████████████████████▍                              | 138/251 [50:55<40:18, 21.40s/it, loss=0.347]"
     ]
    },
    {
     "name": "stdout",
     "output_type": "stream",
     "text": [
      "Got 119272830/131072000 with acc 91.00\n",
      "Dice score: 0.8472433686256409\n"
     ]
    },
    {
     "name": "stderr",
     "output_type": "stream",
     "text": [
      " 55%|█████████████████████████████████████▋                              | 139/251 [51:16<39:55, 21.39s/it, loss=0.333]"
     ]
    },
    {
     "name": "stdout",
     "output_type": "stream",
     "text": [
      "Got 119869520/131072000 with acc 91.45\n",
      "Dice score: 0.8541685938835144\n"
     ]
    },
    {
     "name": "stderr",
     "output_type": "stream",
     "text": [
      " 56%|█████████████████████████████████████▉                              | 140/251 [51:39<40:08, 21.70s/it, loss=0.338]"
     ]
    },
    {
     "name": "stdout",
     "output_type": "stream",
     "text": [
      "Got 119994476/131072000 with acc 91.55\n",
      "Dice score: 0.8550601005554199\n"
     ]
    },
    {
     "name": "stderr",
     "output_type": "stream",
     "text": [
      " 56%|██████████████████████████████████████▏                             | 141/251 [52:01<40:16, 21.97s/it, loss=0.324]"
     ]
    },
    {
     "name": "stdout",
     "output_type": "stream",
     "text": [
      "Got 120151573/131072000 with acc 91.67\n",
      "Dice score: 0.8567135334014893\n"
     ]
    },
    {
     "name": "stderr",
     "output_type": "stream",
     "text": [
      " 57%|██████████████████████████████████████▍                             | 142/251 [52:23<39:32, 21.76s/it, loss=0.338]"
     ]
    },
    {
     "name": "stdout",
     "output_type": "stream",
     "text": [
      "Got 119983339/131072000 with acc 91.54\n",
      "Dice score: 0.8551031947135925\n"
     ]
    },
    {
     "name": "stderr",
     "output_type": "stream",
     "text": [
      " 57%|██████████████████████████████████████▋                             | 143/251 [52:45<39:15, 21.81s/it, loss=0.306]"
     ]
    },
    {
     "name": "stdout",
     "output_type": "stream",
     "text": [
      "Got 120179688/131072000 with acc 91.69\n",
      "Dice score: 0.8565313220024109\n"
     ]
    },
    {
     "name": "stderr",
     "output_type": "stream",
     "text": [
      " 57%|███████████████████████████████████████                             | 144/251 [53:07<39:09, 21.96s/it, loss=0.329]"
     ]
    },
    {
     "name": "stdout",
     "output_type": "stream",
     "text": [
      "Got 120300164/131072000 with acc 91.78\n",
      "Dice score: 0.8576095104217529\n"
     ]
    },
    {
     "name": "stderr",
     "output_type": "stream",
     "text": [
      " 58%|███████████████████████████████████████▎                            | 145/251 [53:29<38:59, 22.07s/it, loss=0.313]"
     ]
    },
    {
     "name": "stdout",
     "output_type": "stream",
     "text": [
      "Got 120942757/131072000 with acc 92.27\n",
      "Dice score: 0.86566162109375\n"
     ]
    },
    {
     "name": "stderr",
     "output_type": "stream",
     "text": [
      " 58%|███████████████████████████████████████▌                            | 146/251 [53:51<38:24, 21.95s/it, loss=0.312]"
     ]
    },
    {
     "name": "stdout",
     "output_type": "stream",
     "text": [
      "Got 121199190/131072000 with acc 92.47\n",
      "Dice score: 0.868800938129425\n"
     ]
    },
    {
     "name": "stderr",
     "output_type": "stream",
     "text": [
      " 59%|███████████████████████████████████████▊                            | 147/251 [54:12<37:39, 21.73s/it, loss=0.321]"
     ]
    },
    {
     "name": "stdout",
     "output_type": "stream",
     "text": [
      "Got 121115673/131072000 with acc 92.40\n",
      "Dice score: 0.8672603964805603\n"
     ]
    },
    {
     "name": "stderr",
     "output_type": "stream",
     "text": [
      " 59%|████████████████████████████████████████                            | 148/251 [54:33<37:05, 21.61s/it, loss=0.309]"
     ]
    },
    {
     "name": "stdout",
     "output_type": "stream",
     "text": [
      "Got 120961039/131072000 with acc 92.29\n",
      "Dice score: 0.8653663396835327\n"
     ]
    },
    {
     "name": "stderr",
     "output_type": "stream",
     "text": [
      " 59%|████████████████████████████████████████▎                           | 149/251 [54:56<37:26, 22.02s/it, loss=0.404]"
     ]
    },
    {
     "name": "stdout",
     "output_type": "stream",
     "text": [
      "Got 120644441/131072000 with acc 92.04\n",
      "Dice score: 0.8626344799995422\n"
     ]
    },
    {
     "name": "stderr",
     "output_type": "stream",
     "text": [
      " 60%|████████████████████████████████████████▋                           | 150/251 [55:18<36:53, 21.92s/it, loss=0.326]"
     ]
    },
    {
     "name": "stdout",
     "output_type": "stream",
     "text": [
      "Got 120478296/131072000 with acc 91.92\n",
      "Dice score: 0.860645592212677\n"
     ]
    },
    {
     "name": "stderr",
     "output_type": "stream",
     "text": [
      " 60%|████████████████████████████████████████▉                           | 151/251 [55:40<36:22, 21.82s/it, loss=0.315]"
     ]
    },
    {
     "name": "stdout",
     "output_type": "stream",
     "text": [
      "Got 120743651/131072000 with acc 92.12\n",
      "Dice score: 0.8633453249931335\n"
     ]
    },
    {
     "name": "stderr",
     "output_type": "stream",
     "text": [
      " 61%|█████████████████████████████████████████▏                          | 152/251 [56:02<36:19, 22.02s/it, loss=0.365]"
     ]
    },
    {
     "name": "stdout",
     "output_type": "stream",
     "text": [
      "Got 120681851/131072000 with acc 92.07\n",
      "Dice score: 0.8631477355957031\n"
     ]
    },
    {
     "name": "stderr",
     "output_type": "stream",
     "text": [
      " 61%|█████████████████████████████████████████▍                          | 153/251 [56:25<36:19, 22.24s/it, loss=0.304]"
     ]
    },
    {
     "name": "stdout",
     "output_type": "stream",
     "text": [
      "Got 121045575/131072000 with acc 92.35\n",
      "Dice score: 0.8671897649765015\n"
     ]
    },
    {
     "name": "stderr",
     "output_type": "stream",
     "text": [
      " 61%|█████████████████████████████████████████▋                          | 154/251 [56:48<36:14, 22.42s/it, loss=0.311]"
     ]
    },
    {
     "name": "stdout",
     "output_type": "stream",
     "text": [
      "Got 120860090/131072000 with acc 92.21\n",
      "Dice score: 0.8647034764289856\n"
     ]
    },
    {
     "name": "stderr",
     "output_type": "stream",
     "text": [
      " 62%|█████████████████████████████████████████▉                          | 155/251 [57:11<36:30, 22.82s/it, loss=0.336]"
     ]
    },
    {
     "name": "stdout",
     "output_type": "stream",
     "text": [
      "Got 120794948/131072000 with acc 92.16\n",
      "Dice score: 0.8635664582252502\n"
     ]
    },
    {
     "name": "stderr",
     "output_type": "stream",
     "text": [
      " 62%|██████████████████████████████████████████▎                         | 156/251 [57:35<36:18, 22.93s/it, loss=0.346]"
     ]
    },
    {
     "name": "stdout",
     "output_type": "stream",
     "text": [
      "Got 121587945/131072000 with acc 92.76\n",
      "Dice score: 0.8718295693397522\n"
     ]
    },
    {
     "name": "stderr",
     "output_type": "stream",
     "text": [
      " 63%|███████████████████████████████████████████▏                         | 157/251 [57:58<36:09, 23.08s/it, loss=0.33]"
     ]
    },
    {
     "name": "stdout",
     "output_type": "stream",
     "text": [
      "Got 121782305/131072000 with acc 92.91\n",
      "Dice score: 0.8729543089866638\n"
     ]
    },
    {
     "name": "stderr",
     "output_type": "stream",
     "text": [
      " 63%|██████████████████████████████████████████▊                         | 158/251 [58:22<36:00, 23.24s/it, loss=0.303]"
     ]
    },
    {
     "name": "stdout",
     "output_type": "stream",
     "text": [
      "Got 121790884/131072000 with acc 92.92\n",
      "Dice score: 0.8725513219833374\n"
     ]
    },
    {
     "name": "stderr",
     "output_type": "stream",
     "text": [
      " 63%|███████████████████████████████████████████▋                         | 159/251 [58:46<36:09, 23.58s/it, loss=0.31]"
     ]
    },
    {
     "name": "stdout",
     "output_type": "stream",
     "text": [
      "Got 122094144/131072000 with acc 93.15\n",
      "Dice score: 0.8767577409744263\n"
     ]
    },
    {
     "name": "stderr",
     "output_type": "stream",
     "text": [
      " 64%|███████████████████████████████████████████▎                        | 160/251 [59:10<35:42, 23.54s/it, loss=0.319]"
     ]
    },
    {
     "name": "stdout",
     "output_type": "stream",
     "text": [
      "Got 122112271/131072000 with acc 93.16\n",
      "Dice score: 0.8769683241844177\n"
     ]
    },
    {
     "name": "stderr",
     "output_type": "stream",
     "text": [
      " 64%|████████████████████████████████████████████▎                        | 161/251 [59:33<35:13, 23.48s/it, loss=0.31]"
     ]
    },
    {
     "name": "stdout",
     "output_type": "stream",
     "text": [
      "Got 122298793/131072000 with acc 93.31\n",
      "Dice score: 0.8794505596160889\n"
     ]
    },
    {
     "name": "stderr",
     "output_type": "stream",
     "text": [
      " 65%|███████████████████████████████████████████▉                        | 162/251 [59:56<34:48, 23.47s/it, loss=0.357]"
     ]
    },
    {
     "name": "stdout",
     "output_type": "stream",
     "text": [
      "Got 121820419/131072000 with acc 92.94\n",
      "Dice score: 0.8748564720153809\n"
     ]
    },
    {
     "name": "stderr",
     "output_type": "stream",
     "text": [
      " 65%|██████████████████████████████████████████▊                       | 163/251 [1:00:20<34:29, 23.51s/it, loss=0.285]"
     ]
    },
    {
     "name": "stdout",
     "output_type": "stream",
     "text": [
      "Got 121346498/131072000 with acc 92.58\n",
      "Dice score: 0.8702071905136108\n"
     ]
    },
    {
     "name": "stderr",
     "output_type": "stream",
     "text": [
      " 65%|███████████████████████████████████████████                       | 164/251 [1:00:44<34:18, 23.67s/it, loss=0.303]"
     ]
    },
    {
     "name": "stdout",
     "output_type": "stream",
     "text": [
      "Got 120975463/131072000 with acc 92.30\n",
      "Dice score: 0.8670768141746521\n"
     ]
    },
    {
     "name": "stderr",
     "output_type": "stream",
     "text": [
      " 66%|███████████████████████████████████████████▍                      | 165/251 [1:01:07<33:50, 23.62s/it, loss=0.292]"
     ]
    },
    {
     "name": "stdout",
     "output_type": "stream",
     "text": [
      "Got 120275446/131072000 with acc 91.76\n",
      "Dice score: 0.8595307469367981\n"
     ]
    },
    {
     "name": "stderr",
     "output_type": "stream",
     "text": [
      " 66%|███████████████████████████████████████████▋                      | 166/251 [1:01:31<33:24, 23.58s/it, loss=0.318]"
     ]
    },
    {
     "name": "stdout",
     "output_type": "stream",
     "text": [
      "Got 120449405/131072000 with acc 91.90\n",
      "Dice score: 0.8604065775871277\n"
     ]
    },
    {
     "name": "stderr",
     "output_type": "stream",
     "text": [
      " 67%|███████████████████████████████████████████▉                      | 167/251 [1:01:54<32:50, 23.45s/it, loss=0.306]"
     ]
    },
    {
     "name": "stdout",
     "output_type": "stream",
     "text": [
      "Got 120714744/131072000 with acc 92.10\n",
      "Dice score: 0.8629438877105713\n"
     ]
    },
    {
     "name": "stderr",
     "output_type": "stream",
     "text": [
      " 67%|████████████████████████████████████████████▏                     | 168/251 [1:02:17<32:25, 23.43s/it, loss=0.344]"
     ]
    },
    {
     "name": "stdout",
     "output_type": "stream",
     "text": [
      "Got 121129873/131072000 with acc 92.41\n",
      "Dice score: 0.8680250644683838\n"
     ]
    },
    {
     "name": "stderr",
     "output_type": "stream",
     "text": [
      " 67%|████████████████████████████████████████████▍                     | 169/251 [1:02:40<31:45, 23.24s/it, loss=0.289]"
     ]
    },
    {
     "name": "stdout",
     "output_type": "stream",
     "text": [
      "Got 121572368/131072000 with acc 92.75\n",
      "Dice score: 0.8730977773666382\n"
     ]
    },
    {
     "name": "stderr",
     "output_type": "stream",
     "text": [
      " 68%|████████████████████████████████████████████▋                     | 170/251 [1:03:03<31:03, 23.00s/it, loss=0.282]"
     ]
    },
    {
     "name": "stdout",
     "output_type": "stream",
     "text": [
      "Got 121697815/131072000 with acc 92.85\n",
      "Dice score: 0.8732073903083801\n"
     ]
    },
    {
     "name": "stderr",
     "output_type": "stream",
     "text": [
      " 68%|████████████████████████████████████████████▉                     | 171/251 [1:03:26<30:49, 23.12s/it, loss=0.288]"
     ]
    },
    {
     "name": "stdout",
     "output_type": "stream",
     "text": [
      "Got 121905657/131072000 with acc 93.01\n",
      "Dice score: 0.8753519654273987\n"
     ]
    },
    {
     "name": "stderr",
     "output_type": "stream",
     "text": [
      " 69%|█████████████████████████████████████████████▏                    | 172/251 [1:03:49<30:25, 23.11s/it, loss=0.326]"
     ]
    },
    {
     "name": "stdout",
     "output_type": "stream",
     "text": [
      "Got 122171225/131072000 with acc 93.21\n",
      "Dice score: 0.8795942664146423\n"
     ]
    },
    {
     "name": "stderr",
     "output_type": "stream",
     "text": [
      " 69%|█████████████████████████████████████████████▍                    | 173/251 [1:04:12<30:07, 23.17s/it, loss=0.332]"
     ]
    },
    {
     "name": "stdout",
     "output_type": "stream",
     "text": [
      "Got 122353479/131072000 with acc 93.35\n",
      "Dice score: 0.8819052577018738\n"
     ]
    },
    {
     "name": "stderr",
     "output_type": "stream",
     "text": [
      " 69%|█████████████████████████████████████████████▊                    | 174/251 [1:04:36<29:52, 23.28s/it, loss=0.309]"
     ]
    },
    {
     "name": "stdout",
     "output_type": "stream",
     "text": [
      "Got 121797801/131072000 with acc 92.92\n",
      "Dice score: 0.8750461339950562\n"
     ]
    },
    {
     "name": "stderr",
     "output_type": "stream",
     "text": [
      " 70%|██████████████████████████████████████████████                    | 175/251 [1:04:59<29:27, 23.26s/it, loss=0.312]"
     ]
    },
    {
     "name": "stdout",
     "output_type": "stream",
     "text": [
      "Got 121360610/131072000 with acc 92.59\n",
      "Dice score: 0.8705933690071106\n"
     ]
    },
    {
     "name": "stderr",
     "output_type": "stream",
     "text": [
      " 70%|██████████████████████████████████████████████▎                   | 176/251 [1:05:22<28:53, 23.11s/it, loss=0.316]"
     ]
    },
    {
     "name": "stdout",
     "output_type": "stream",
     "text": [
      "Got 121807001/131072000 with acc 92.93\n",
      "Dice score: 0.8756158947944641\n"
     ]
    },
    {
     "name": "stderr",
     "output_type": "stream",
     "text": [
      " 71%|██████████████████████████████████████████████▌                   | 177/251 [1:05:45<28:20, 22.98s/it, loss=0.317]"
     ]
    },
    {
     "name": "stdout",
     "output_type": "stream",
     "text": [
      "Got 121898826/131072000 with acc 93.00\n",
      "Dice score: 0.8755254745483398\n"
     ]
    },
    {
     "name": "stderr",
     "output_type": "stream",
     "text": [
      " 71%|██████████████████████████████████████████████▊                   | 178/251 [1:06:07<27:39, 22.74s/it, loss=0.291]"
     ]
    },
    {
     "name": "stdout",
     "output_type": "stream",
     "text": [
      "Got 122198533/131072000 with acc 93.23\n",
      "Dice score: 0.8782343864440918\n"
     ]
    },
    {
     "name": "stderr",
     "output_type": "stream",
     "text": [
      " 71%|███████████████████████████████████████████████                   | 179/251 [1:06:29<27:01, 22.52s/it, loss=0.274]"
     ]
    },
    {
     "name": "stdout",
     "output_type": "stream",
     "text": [
      "Got 122922959/131072000 with acc 93.78\n",
      "Dice score: 0.8863746523857117\n"
     ]
    },
    {
     "name": "stderr",
     "output_type": "stream",
     "text": [
      " 72%|███████████████████████████████████████████████▎                  | 180/251 [1:06:51<26:34, 22.45s/it, loss=0.334]"
     ]
    },
    {
     "name": "stdout",
     "output_type": "stream",
     "text": [
      "Got 123261205/131072000 with acc 94.04\n",
      "Dice score: 0.8895001411437988\n"
     ]
    },
    {
     "name": "stderr",
     "output_type": "stream",
     "text": [
      " 72%|████████████████████████████████████████████████▎                  | 181/251 [1:07:13<26:03, 22.33s/it, loss=0.33]"
     ]
    },
    {
     "name": "stdout",
     "output_type": "stream",
     "text": [
      "Got 122998132/131072000 with acc 93.84\n",
      "Dice score: 0.8863933682441711\n"
     ]
    },
    {
     "name": "stderr",
     "output_type": "stream",
     "text": [
      " 73%|███████████████████████████████████████████████▊                  | 182/251 [1:07:35<25:30, 22.18s/it, loss=0.268]"
     ]
    },
    {
     "name": "stdout",
     "output_type": "stream",
     "text": [
      "Got 122537606/131072000 with acc 93.49\n",
      "Dice score: 0.8807851672172546\n"
     ]
    },
    {
     "name": "stderr",
     "output_type": "stream",
     "text": [
      " 73%|████████████████████████████████████████████████                  | 183/251 [1:07:57<25:11, 22.23s/it, loss=0.283]"
     ]
    },
    {
     "name": "stdout",
     "output_type": "stream",
     "text": [
      "Got 122563182/131072000 with acc 93.51\n",
      "Dice score: 0.8821683526039124\n"
     ]
    },
    {
     "name": "stderr",
     "output_type": "stream",
     "text": [
      " 73%|████████████████████████████████████████████████▍                 | 184/251 [1:08:20<24:50, 22.24s/it, loss=0.272]"
     ]
    },
    {
     "name": "stdout",
     "output_type": "stream",
     "text": [
      "Got 122276896/131072000 with acc 93.29\n",
      "Dice score: 0.8804123401641846\n"
     ]
    },
    {
     "name": "stderr",
     "output_type": "stream",
     "text": [
      " 74%|████████████████████████████████████████████████▋                 | 185/251 [1:08:42<24:22, 22.16s/it, loss=0.311]"
     ]
    },
    {
     "name": "stdout",
     "output_type": "stream",
     "text": [
      "Got 121720720/131072000 with acc 92.87\n",
      "Dice score: 0.8744019269943237\n"
     ]
    },
    {
     "name": "stderr",
     "output_type": "stream",
     "text": [
      " 74%|████████████████████████████████████████████████▉                 | 186/251 [1:09:05<24:18, 22.44s/it, loss=0.302]"
     ]
    },
    {
     "name": "stdout",
     "output_type": "stream",
     "text": [
      "Got 121395873/131072000 with acc 92.62\n",
      "Dice score: 0.8706487417221069\n"
     ]
    },
    {
     "name": "stderr",
     "output_type": "stream",
     "text": [
      " 75%|█████████████████████████████████████████████████▏                | 187/251 [1:09:27<23:49, 22.33s/it, loss=0.278]"
     ]
    },
    {
     "name": "stdout",
     "output_type": "stream",
     "text": [
      "Got 121803892/131072000 with acc 92.93\n",
      "Dice score: 0.8748114109039307\n"
     ]
    },
    {
     "name": "stderr",
     "output_type": "stream",
     "text": [
      " 75%|█████████████████████████████████████████████████▍                | 188/251 [1:09:50<23:33, 22.44s/it, loss=0.259]"
     ]
    },
    {
     "name": "stdout",
     "output_type": "stream",
     "text": [
      "Got 122301237/131072000 with acc 93.31\n",
      "Dice score: 0.8802167773246765\n"
     ]
    },
    {
     "name": "stderr",
     "output_type": "stream",
     "text": [
      " 75%|█████████████████████████████████████████████████▋                | 189/251 [1:10:13<23:22, 22.62s/it, loss=0.261]"
     ]
    },
    {
     "name": "stdout",
     "output_type": "stream",
     "text": [
      "Got 122634660/131072000 with acc 93.56\n",
      "Dice score: 0.8835271000862122\n"
     ]
    },
    {
     "name": "stderr",
     "output_type": "stream",
     "text": [
      " 76%|█████████████████████████████████████████████████▉                | 190/251 [1:10:35<22:49, 22.45s/it, loss=0.284]"
     ]
    },
    {
     "name": "stdout",
     "output_type": "stream",
     "text": [
      "Got 122840816/131072000 with acc 93.72\n",
      "Dice score: 0.8862386345863342\n"
     ]
    },
    {
     "name": "stderr",
     "output_type": "stream",
     "text": [
      " 76%|██████████████████████████████████████████████████▏               | 191/251 [1:10:57<22:24, 22.41s/it, loss=0.329]"
     ]
    },
    {
     "name": "stdout",
     "output_type": "stream",
     "text": [
      "Got 122921770/131072000 with acc 93.78\n",
      "Dice score: 0.8875980377197266\n"
     ]
    },
    {
     "name": "stderr",
     "output_type": "stream",
     "text": [
      " 76%|██████████████████████████████████████████████████▍               | 192/251 [1:11:20<22:10, 22.55s/it, loss=0.307]"
     ]
    },
    {
     "name": "stdout",
     "output_type": "stream",
     "text": [
      "Got 122867854/131072000 with acc 93.74\n",
      "Dice score: 0.8872268795967102\n"
     ]
    },
    {
     "name": "stderr",
     "output_type": "stream",
     "text": [
      " 77%|██████████████████████████████████████████████████▋               | 193/251 [1:11:42<21:42, 22.45s/it, loss=0.275]"
     ]
    },
    {
     "name": "stdout",
     "output_type": "stream",
     "text": [
      "Got 122488069/131072000 with acc 93.45\n",
      "Dice score: 0.883341908454895\n"
     ]
    },
    {
     "name": "stderr",
     "output_type": "stream",
     "text": [
      " 77%|███████████████████████████████████████████████████               | 194/251 [1:12:06<21:45, 22.91s/it, loss=0.263]"
     ]
    },
    {
     "name": "stdout",
     "output_type": "stream",
     "text": [
      "Got 122152246/131072000 with acc 93.19\n",
      "Dice score: 0.8798601627349854\n"
     ]
    },
    {
     "name": "stderr",
     "output_type": "stream",
     "text": [
      " 78%|████████████████████████████████████████████████████               | 195/251 [1:12:30<21:49, 23.38s/it, loss=0.36]"
     ]
    },
    {
     "name": "stdout",
     "output_type": "stream",
     "text": [
      "Got 121237045/131072000 with acc 92.50\n",
      "Dice score: 0.8702179789543152\n"
     ]
    },
    {
     "name": "stderr",
     "output_type": "stream",
     "text": [
      " 78%|███████████████████████████████████████████████████▌              | 196/251 [1:12:57<22:20, 24.38s/it, loss=0.276]"
     ]
    },
    {
     "name": "stdout",
     "output_type": "stream",
     "text": [
      "Got 120502213/131072000 with acc 91.94\n",
      "Dice score: 0.8622899651527405\n"
     ]
    },
    {
     "name": "stderr",
     "output_type": "stream",
     "text": [
      " 78%|███████████████████████████████████████████████████▊              | 197/251 [1:13:20<21:31, 23.91s/it, loss=0.291]"
     ]
    },
    {
     "name": "stdout",
     "output_type": "stream",
     "text": [
      "Got 119648848/131072000 with acc 91.28\n",
      "Dice score: 0.8529036641120911\n"
     ]
    },
    {
     "name": "stderr",
     "output_type": "stream",
     "text": [
      " 79%|████████████████████████████████████████████████████              | 198/251 [1:13:43<20:54, 23.67s/it, loss=0.248]"
     ]
    },
    {
     "name": "stdout",
     "output_type": "stream",
     "text": [
      "Got 119549915/131072000 with acc 91.21\n",
      "Dice score: 0.8518317341804504\n"
     ]
    },
    {
     "name": "stderr",
     "output_type": "stream",
     "text": [
      " 79%|████████████████████████████████████████████████████▎             | 199/251 [1:14:06<20:24, 23.54s/it, loss=0.293]"
     ]
    },
    {
     "name": "stdout",
     "output_type": "stream",
     "text": [
      "Got 120209071/131072000 with acc 91.71\n",
      "Dice score: 0.8590295910835266\n"
     ]
    },
    {
     "name": "stderr",
     "output_type": "stream",
     "text": [
      " 80%|████████████████████████████████████████████████████▌             | 200/251 [1:14:30<19:55, 23.44s/it, loss=0.284]"
     ]
    },
    {
     "name": "stdout",
     "output_type": "stream",
     "text": [
      "Got 120765575/131072000 with acc 92.14\n",
      "Dice score: 0.8650639653205872\n"
     ]
    },
    {
     "name": "stderr",
     "output_type": "stream",
     "text": [
      " 80%|█████████████████████████████████████████████████████▋             | 201/251 [1:14:52<19:24, 23.29s/it, loss=0.28]"
     ]
    },
    {
     "name": "stdout",
     "output_type": "stream",
     "text": [
      "Got 121198692/131072000 with acc 92.47\n",
      "Dice score: 0.8697503805160522\n"
     ]
    },
    {
     "name": "stderr",
     "output_type": "stream",
     "text": [
      " 80%|█████████████████████████████████████████████████████             | 202/251 [1:15:15<18:47, 23.00s/it, loss=0.271]"
     ]
    },
    {
     "name": "stdout",
     "output_type": "stream",
     "text": [
      "Got 121878176/131072000 with acc 92.99\n",
      "Dice score: 0.8774282336235046\n"
     ]
    },
    {
     "name": "stderr",
     "output_type": "stream",
     "text": [
      " 81%|█████████████████████████████████████████████████████▍            | 203/251 [1:15:38<18:20, 22.92s/it, loss=0.301]"
     ]
    },
    {
     "name": "stdout",
     "output_type": "stream",
     "text": [
      "Got 122340553/131072000 with acc 93.34\n",
      "Dice score: 0.8820610642433167\n"
     ]
    },
    {
     "name": "stderr",
     "output_type": "stream",
     "text": [
      " 81%|█████████████████████████████████████████████████████▋            | 204/251 [1:16:00<17:56, 22.91s/it, loss=0.262]"
     ]
    },
    {
     "name": "stdout",
     "output_type": "stream",
     "text": [
      "Got 122477489/131072000 with acc 93.44\n",
      "Dice score: 0.8828454613685608\n"
     ]
    },
    {
     "name": "stderr",
     "output_type": "stream",
     "text": [
      " 82%|█████████████████████████████████████████████████████▉            | 205/251 [1:16:23<17:33, 22.90s/it, loss=0.264]"
     ]
    },
    {
     "name": "stdout",
     "output_type": "stream",
     "text": [
      "Got 122692309/131072000 with acc 93.61\n",
      "Dice score: 0.8852083086967468\n"
     ]
    },
    {
     "name": "stderr",
     "output_type": "stream",
     "text": [
      " 82%|██████████████████████████████████████████████████████▏           | 206/251 [1:16:47<17:16, 23.02s/it, loss=0.266]"
     ]
    },
    {
     "name": "stdout",
     "output_type": "stream",
     "text": [
      "Got 122664491/131072000 with acc 93.59\n",
      "Dice score: 0.8851965665817261\n"
     ]
    },
    {
     "name": "stderr",
     "output_type": "stream",
     "text": [
      " 82%|██████████████████████████████████████████████████████▍           | 207/251 [1:17:09<16:49, 22.93s/it, loss=0.277]"
     ]
    },
    {
     "name": "stdout",
     "output_type": "stream",
     "text": [
      "Got 122337335/131072000 with acc 93.34\n",
      "Dice score: 0.8817566633224487\n"
     ]
    },
    {
     "name": "stderr",
     "output_type": "stream",
     "text": [
      " 83%|██████████████████████████████████████████████████████▋           | 208/251 [1:17:32<16:23, 22.88s/it, loss=0.234]"
     ]
    },
    {
     "name": "stdout",
     "output_type": "stream",
     "text": [
      "Got 121973916/131072000 with acc 93.06\n",
      "Dice score: 0.8776687979698181\n"
     ]
    },
    {
     "name": "stderr",
     "output_type": "stream",
     "text": [
      " 83%|██████████████████████████████████████████████████████▉           | 209/251 [1:17:55<15:57, 22.79s/it, loss=0.303]"
     ]
    },
    {
     "name": "stdout",
     "output_type": "stream",
     "text": [
      "Got 121892613/131072000 with acc 93.00\n",
      "Dice score: 0.8773516416549683\n"
     ]
    },
    {
     "name": "stderr",
     "output_type": "stream",
     "text": [
      " 84%|███████████████████████████████████████████████████████▏          | 210/251 [1:18:15<15:09, 22.19s/it, loss=0.243]"
     ]
    },
    {
     "name": "stdout",
     "output_type": "stream",
     "text": [
      "Got 121684086/131072000 with acc 92.84\n",
      "Dice score: 0.8754974007606506\n"
     ]
    },
    {
     "name": "stderr",
     "output_type": "stream",
     "text": [
      " 84%|███████████████████████████████████████████████████████▍          | 211/251 [1:18:38<14:54, 22.37s/it, loss=0.294]"
     ]
    },
    {
     "name": "stdout",
     "output_type": "stream",
     "text": [
      "Got 121419763/131072000 with acc 92.64\n",
      "Dice score: 0.8728170394897461\n"
     ]
    },
    {
     "name": "stderr",
     "output_type": "stream",
     "text": [
      " 84%|███████████████████████████████████████████████████████▋          | 212/251 [1:19:00<14:28, 22.27s/it, loss=0.273]"
     ]
    },
    {
     "name": "stdout",
     "output_type": "stream",
     "text": [
      "Got 121754354/131072000 with acc 92.89\n",
      "Dice score: 0.8761026859283447\n"
     ]
    },
    {
     "name": "stderr",
     "output_type": "stream",
     "text": [
      " 85%|████████████████████████████████████████████████████████          | 213/251 [1:19:22<14:01, 22.15s/it, loss=0.263]"
     ]
    },
    {
     "name": "stdout",
     "output_type": "stream",
     "text": [
      "Got 121785589/131072000 with acc 92.92\n",
      "Dice score: 0.8761646747589111\n"
     ]
    },
    {
     "name": "stderr",
     "output_type": "stream",
     "text": [
      " 85%|████████████████████████████████████████████████████████▎         | 214/251 [1:19:44<13:33, 21.98s/it, loss=0.265]"
     ]
    },
    {
     "name": "stdout",
     "output_type": "stream",
     "text": [
      "Got 121913332/131072000 with acc 93.01\n",
      "Dice score: 0.8773577809333801\n"
     ]
    },
    {
     "name": "stderr",
     "output_type": "stream",
     "text": [
      " 86%|████████████████████████████████████████████████████████▌         | 215/251 [1:20:08<13:31, 22.55s/it, loss=0.262]"
     ]
    },
    {
     "name": "stdout",
     "output_type": "stream",
     "text": [
      "Got 122152159/131072000 with acc 93.19\n",
      "Dice score: 0.8795621991157532\n"
     ]
    },
    {
     "name": "stderr",
     "output_type": "stream",
     "text": [
      " 86%|████████████████████████████████████████████████████████▊         | 216/251 [1:20:29<13:01, 22.32s/it, loss=0.264]"
     ]
    },
    {
     "name": "stdout",
     "output_type": "stream",
     "text": [
      "Got 122505146/131072000 with acc 93.46\n",
      "Dice score: 0.8837742209434509\n"
     ]
    },
    {
     "name": "stderr",
     "output_type": "stream",
     "text": [
      " 86%|█████████████████████████████████████████████████████████         | 217/251 [1:20:51<12:28, 22.01s/it, loss=0.289]"
     ]
    },
    {
     "name": "stdout",
     "output_type": "stream",
     "text": [
      "Got 123137779/131072000 with acc 93.95\n",
      "Dice score: 0.8902295231819153\n"
     ]
    },
    {
     "name": "stderr",
     "output_type": "stream",
     "text": [
      " 87%|█████████████████████████████████████████████████████████▎        | 218/251 [1:21:12<11:59, 21.81s/it, loss=0.271]"
     ]
    },
    {
     "name": "stdout",
     "output_type": "stream",
     "text": [
      "Got 123237213/131072000 with acc 94.02\n",
      "Dice score: 0.8908188343048096\n"
     ]
    },
    {
     "name": "stderr",
     "output_type": "stream",
     "text": [
      " 87%|█████████████████████████████████████████████████████████▌        | 219/251 [1:21:33<11:31, 21.61s/it, loss=0.258]"
     ]
    },
    {
     "name": "stdout",
     "output_type": "stream",
     "text": [
      "Got 123174054/131072000 with acc 93.97\n",
      "Dice score: 0.8897067904472351\n"
     ]
    },
    {
     "name": "stderr",
     "output_type": "stream",
     "text": [
      " 88%|█████████████████████████████████████████████████████████▊        | 220/251 [1:21:54<11:06, 21.49s/it, loss=0.251]"
     ]
    },
    {
     "name": "stdout",
     "output_type": "stream",
     "text": [
      "Got 123029913/131072000 with acc 93.86\n",
      "Dice score: 0.8894396424293518\n"
     ]
    },
    {
     "name": "stderr",
     "output_type": "stream",
     "text": [
      " 88%|██████████████████████████████████████████████████████████        | 221/251 [1:22:16<10:41, 21.39s/it, loss=0.264]"
     ]
    },
    {
     "name": "stdout",
     "output_type": "stream",
     "text": [
      "Got 122685455/131072000 with acc 93.60\n",
      "Dice score: 0.8864837884902954\n"
     ]
    },
    {
     "name": "stderr",
     "output_type": "stream",
     "text": [
      " 88%|██████████████████████████████████████████████████████████▎       | 222/251 [1:22:37<10:19, 21.35s/it, loss=0.262]"
     ]
    },
    {
     "name": "stdout",
     "output_type": "stream",
     "text": [
      "Got 122061426/131072000 with acc 93.13\n",
      "Dice score: 0.8796447515487671\n"
     ]
    },
    {
     "name": "stderr",
     "output_type": "stream",
     "text": [
      " 89%|██████████████████████████████████████████████████████████▋       | 223/251 [1:22:58<09:56, 21.29s/it, loss=0.229]"
     ]
    },
    {
     "name": "stdout",
     "output_type": "stream",
     "text": [
      "Got 121877966/131072000 with acc 92.99\n",
      "Dice score: 0.8775587677955627\n"
     ]
    },
    {
     "name": "stderr",
     "output_type": "stream",
     "text": [
      " 89%|██████████████████████████████████████████████████████████▉       | 224/251 [1:23:19<09:35, 21.32s/it, loss=0.246]"
     ]
    },
    {
     "name": "stdout",
     "output_type": "stream",
     "text": [
      "Got 121930530/131072000 with acc 93.03\n",
      "Dice score: 0.8785495758056641\n"
     ]
    },
    {
     "name": "stderr",
     "output_type": "stream",
     "text": [
      " 90%|███████████████████████████████████████████████████████████▏      | 225/251 [1:23:41<09:13, 21.27s/it, loss=0.244]"
     ]
    },
    {
     "name": "stdout",
     "output_type": "stream",
     "text": [
      "Got 122031781/131072000 with acc 93.10\n",
      "Dice score: 0.8800208568572998\n"
     ]
    },
    {
     "name": "stderr",
     "output_type": "stream",
     "text": [
      " 90%|███████████████████████████████████████████████████████████▍      | 226/251 [1:24:02<08:54, 21.37s/it, loss=0.236]"
     ]
    },
    {
     "name": "stdout",
     "output_type": "stream",
     "text": [
      "Got 121994331/131072000 with acc 93.07\n",
      "Dice score: 0.8796967267990112\n"
     ]
    },
    {
     "name": "stderr",
     "output_type": "stream",
     "text": [
      " 90%|███████████████████████████████████████████████████████████▋      | 227/251 [1:24:23<08:30, 21.29s/it, loss=0.253]"
     ]
    },
    {
     "name": "stdout",
     "output_type": "stream",
     "text": [
      "Got 122082426/131072000 with acc 93.14\n",
      "Dice score: 0.8807660937309265\n"
     ]
    },
    {
     "name": "stderr",
     "output_type": "stream",
     "text": [
      " 91%|███████████████████████████████████████████████████████████▉      | 228/251 [1:24:45<08:10, 21.35s/it, loss=0.298]"
     ]
    },
    {
     "name": "stdout",
     "output_type": "stream",
     "text": [
      "Got 122231345/131072000 with acc 93.26\n",
      "Dice score: 0.8823824524879456\n"
     ]
    },
    {
     "name": "stderr",
     "output_type": "stream",
     "text": [
      " 91%|████████████████████████████████████████████████████████████▏     | 229/251 [1:25:07<07:55, 21.61s/it, loss=0.244]"
     ]
    },
    {
     "name": "stdout",
     "output_type": "stream",
     "text": [
      "Got 122645722/131072000 with acc 93.57\n",
      "Dice score: 0.8861589431762695\n"
     ]
    },
    {
     "name": "stderr",
     "output_type": "stream",
     "text": [
      " 92%|████████████████████████████████████████████████████████████▍     | 230/251 [1:25:28<07:33, 21.58s/it, loss=0.233]"
     ]
    },
    {
     "name": "stdout",
     "output_type": "stream",
     "text": [
      "Got 123160510/131072000 with acc 93.96\n",
      "Dice score: 0.8916195034980774\n"
     ]
    },
    {
     "name": "stderr",
     "output_type": "stream",
     "text": [
      " 92%|████████████████████████████████████████████████████████████▋     | 231/251 [1:25:50<07:10, 21.52s/it, loss=0.252]"
     ]
    },
    {
     "name": "stdout",
     "output_type": "stream",
     "text": [
      "Got 123387231/131072000 with acc 94.14\n",
      "Dice score: 0.8942477107048035\n"
     ]
    },
    {
     "name": "stderr",
     "output_type": "stream",
     "text": [
      " 92%|█████████████████████████████████████████████████████████████     | 232/251 [1:26:11<06:47, 21.43s/it, loss=0.268]"
     ]
    },
    {
     "name": "stdout",
     "output_type": "stream",
     "text": [
      "Got 123606672/131072000 with acc 94.30\n",
      "Dice score: 0.8955458402633667\n"
     ]
    },
    {
     "name": "stderr",
     "output_type": "stream",
     "text": [
      " 93%|█████████████████████████████████████████████████████████████▎    | 233/251 [1:26:32<06:24, 21.38s/it, loss=0.267]"
     ]
    },
    {
     "name": "stdout",
     "output_type": "stream",
     "text": [
      "Got 123662197/131072000 with acc 94.35\n",
      "Dice score: 0.8952983617782593\n"
     ]
    },
    {
     "name": "stderr",
     "output_type": "stream",
     "text": [
      " 93%|█████████████████████████████████████████████████████████████▌    | 234/251 [1:26:53<06:02, 21.31s/it, loss=0.248]"
     ]
    },
    {
     "name": "stdout",
     "output_type": "stream",
     "text": [
      "Got 123760746/131072000 with acc 94.42\n",
      "Dice score: 0.8967137932777405\n"
     ]
    },
    {
     "name": "stderr",
     "output_type": "stream",
     "text": [
      " 94%|█████████████████████████████████████████████████████████████▊    | 235/251 [1:27:15<05:40, 21.25s/it, loss=0.229]"
     ]
    },
    {
     "name": "stdout",
     "output_type": "stream",
     "text": [
      "Got 123675442/131072000 with acc 94.36\n",
      "Dice score: 0.8964635729789734\n"
     ]
    },
    {
     "name": "stderr",
     "output_type": "stream",
     "text": [
      " 94%|██████████████████████████████████████████████████████████████    | 236/251 [1:27:36<05:18, 21.21s/it, loss=0.259]"
     ]
    },
    {
     "name": "stdout",
     "output_type": "stream",
     "text": [
      "Got 123237951/131072000 with acc 94.02\n",
      "Dice score: 0.8913108706474304\n"
     ]
    },
    {
     "name": "stderr",
     "output_type": "stream",
     "text": [
      " 94%|██████████████████████████████████████████████████████████████▎   | 237/251 [1:27:57<04:56, 21.20s/it, loss=0.225]"
     ]
    },
    {
     "name": "stdout",
     "output_type": "stream",
     "text": [
      "Got 122743565/131072000 with acc 93.65\n",
      "Dice score: 0.8863836526870728\n"
     ]
    },
    {
     "name": "stderr",
     "output_type": "stream",
     "text": [
      " 95%|██████████████████████████████████████████████████████████████▌   | 238/251 [1:28:20<04:43, 21.80s/it, loss=0.203]"
     ]
    },
    {
     "name": "stdout",
     "output_type": "stream",
     "text": [
      "Got 122515489/131072000 with acc 93.47\n",
      "Dice score: 0.8847999572753906\n"
     ]
    },
    {
     "name": "stderr",
     "output_type": "stream",
     "text": [
      " 95%|██████████████████████████████████████████████████████████████▊   | 239/251 [1:28:43<04:24, 22.06s/it, loss=0.266]"
     ]
    },
    {
     "name": "stdout",
     "output_type": "stream",
     "text": [
      "Got 122051115/131072000 with acc 93.12\n",
      "Dice score: 0.8801162242889404\n"
     ]
    },
    {
     "name": "stderr",
     "output_type": "stream",
     "text": [
      " 96%|███████████████████████████████████████████████████████████████   | 240/251 [1:29:05<04:02, 22.04s/it, loss=0.238]"
     ]
    },
    {
     "name": "stdout",
     "output_type": "stream",
     "text": [
      "Got 121814126/131072000 with acc 92.94\n",
      "Dice score: 0.877306342124939\n"
     ]
    },
    {
     "name": "stderr",
     "output_type": "stream",
     "text": [
      " 96%|███████████████████████████████████████████████████████████████▎  | 241/251 [1:29:28<03:43, 22.31s/it, loss=0.328]"
     ]
    },
    {
     "name": "stdout",
     "output_type": "stream",
     "text": [
      "Got 121497703/131072000 with acc 92.70\n",
      "Dice score: 0.8737286925315857\n"
     ]
    },
    {
     "name": "stderr",
     "output_type": "stream",
     "text": [
      " 96%|███████████████████████████████████████████████████████████████▋  | 242/251 [1:29:49<03:17, 21.94s/it, loss=0.241]"
     ]
    },
    {
     "name": "stdout",
     "output_type": "stream",
     "text": [
      "Got 121785894/131072000 with acc 92.92\n",
      "Dice score: 0.876837968826294\n"
     ]
    },
    {
     "name": "stderr",
     "output_type": "stream",
     "text": [
      " 97%|███████████████████████████████████████████████████████████████▉  | 243/251 [1:30:10<02:53, 21.74s/it, loss=0.261]"
     ]
    },
    {
     "name": "stdout",
     "output_type": "stream",
     "text": [
      "Got 122177869/131072000 with acc 93.21\n",
      "Dice score: 0.8809413909912109\n"
     ]
    },
    {
     "name": "stderr",
     "output_type": "stream",
     "text": [
      " 97%|████████████████████████████████████████████████████████████████▏ | 244/251 [1:30:33<02:34, 22.12s/it, loss=0.279]"
     ]
    },
    {
     "name": "stdout",
     "output_type": "stream",
     "text": [
      "Got 122506459/131072000 with acc 93.47\n",
      "Dice score: 0.8841260671615601\n"
     ]
    },
    {
     "name": "stderr",
     "output_type": "stream",
     "text": [
      " 98%|████████████████████████████████████████████████████████████████▍ | 245/251 [1:30:55<02:11, 21.98s/it, loss=0.257]"
     ]
    },
    {
     "name": "stdout",
     "output_type": "stream",
     "text": [
      "Got 122719890/131072000 with acc 93.63\n",
      "Dice score: 0.8855827450752258\n"
     ]
    },
    {
     "name": "stderr",
     "output_type": "stream",
     "text": [
      " 98%|████████████████████████████████████████████████████████████████▋ | 246/251 [1:31:16<01:48, 21.71s/it, loss=0.297]"
     ]
    },
    {
     "name": "stdout",
     "output_type": "stream",
     "text": [
      "Got 122784109/131072000 with acc 93.68\n",
      "Dice score: 0.8840784430503845\n"
     ]
    },
    {
     "name": "stderr",
     "output_type": "stream",
     "text": [
      " 98%|████████████████████████████████████████████████████████████████▉ | 247/251 [1:31:37<01:25, 21.49s/it, loss=0.233]"
     ]
    },
    {
     "name": "stdout",
     "output_type": "stream",
     "text": [
      "Got 122890192/131072000 with acc 93.76\n",
      "Dice score: 0.8846880793571472\n"
     ]
    },
    {
     "name": "stderr",
     "output_type": "stream",
     "text": [
      " 99%|█████████████████████████████████████████████████████████████████▏| 248/251 [1:32:03<01:09, 23.08s/it, loss=0.258]"
     ]
    },
    {
     "name": "stdout",
     "output_type": "stream",
     "text": [
      "Got 123286029/131072000 with acc 94.06\n",
      "Dice score: 0.8905869126319885\n"
     ]
    },
    {
     "name": "stderr",
     "output_type": "stream",
     "text": [
      " 99%|█████████████████████████████████████████████████████████████████▍| 249/251 [1:32:33<00:49, 24.97s/it, loss=0.255]"
     ]
    },
    {
     "name": "stdout",
     "output_type": "stream",
     "text": [
      "Got 123478216/131072000 with acc 94.21\n",
      "Dice score: 0.8935183882713318\n"
     ]
    },
    {
     "name": "stderr",
     "output_type": "stream",
     "text": [
      "100%|██████████████████████████████████████████████████████████████████▋| 250/251 [1:32:54<00:23, 23.88s/it, loss=0.23]"
     ]
    },
    {
     "name": "stdout",
     "output_type": "stream",
     "text": [
      "Got 123291025/131072000 with acc 94.06\n",
      "Dice score: 0.8917666077613831\n"
     ]
    },
    {
     "name": "stderr",
     "output_type": "stream",
     "text": [
      "100%|█████████████████████████████████████████████████████████████████▋| 250/251 [1:33:02<00:22, 22.33s/it, loss=0.247]\n"
     ]
    },
    {
     "ename": "KeyboardInterrupt",
     "evalue": "",
     "output_type": "error",
     "traceback": [
      "\u001b[1;31m---------------------------------------------------------------------------\u001b[0m",
      "\u001b[1;31mKeyboardInterrupt\u001b[0m                         Traceback (most recent call last)",
      "Input \u001b[1;32mIn [17]\u001b[0m, in \u001b[0;36m<cell line: 3>\u001b[1;34m()\u001b[0m\n\u001b[0;32m     23\u001b[0m     loop\u001b[38;5;241m.\u001b[39mset_postfix(loss\u001b[38;5;241m=\u001b[39mloss\u001b[38;5;241m.\u001b[39mitem())\n\u001b[0;32m     24\u001b[0m     \u001b[38;5;66;03m# checcking accuracy\u001b[39;00m\n\u001b[1;32m---> 25\u001b[0m     \u001b[43mcheck_acc\u001b[49m\u001b[43m(\u001b[49m\u001b[43mval_loader\u001b[49m\u001b[43m,\u001b[49m\u001b[43m \u001b[49m\u001b[43mmodel\u001b[49m\u001b[43m,\u001b[49m\u001b[43m \u001b[49m\u001b[43mdevice\u001b[49m\u001b[38;5;241;43m=\u001b[39;49m\u001b[43mdevice\u001b[49m\u001b[43m)\u001b[49m\n\u001b[0;32m     26\u001b[0m \u001b[38;5;28mprint\u001b[39m(\u001b[38;5;124mf\u001b[39m\u001b[38;5;124m'\u001b[39m\u001b[38;5;124mepoch \u001b[39m\u001b[38;5;132;01m{\u001b[39;00mepoch\u001b[38;5;132;01m}\u001b[39;00m\u001b[38;5;124m'\u001b[39m)\n",
      "Input \u001b[1;32mIn [15]\u001b[0m, in \u001b[0;36mcheck_acc\u001b[1;34m(loader, model, device)\u001b[0m\n\u001b[0;32m      5\u001b[0m model\u001b[38;5;241m.\u001b[39meval()\n\u001b[0;32m      7\u001b[0m \u001b[38;5;28;01mwith\u001b[39;00m torch\u001b[38;5;241m.\u001b[39mno_grad():\n\u001b[1;32m----> 8\u001b[0m     \u001b[38;5;28;01mfor\u001b[39;00m x, y \u001b[38;5;129;01min\u001b[39;00m loader:\n\u001b[0;32m      9\u001b[0m         x \u001b[38;5;241m=\u001b[39m x\u001b[38;5;241m.\u001b[39mto(device)\n\u001b[0;32m     10\u001b[0m         y \u001b[38;5;241m=\u001b[39m y\u001b[38;5;241m.\u001b[39mto(device)\n",
      "File \u001b[1;32m~\\miniconda3\\envs\\torch\\lib\\site-packages\\torch\\utils\\data\\dataloader.py:530\u001b[0m, in \u001b[0;36m_BaseDataLoaderIter.__next__\u001b[1;34m(self)\u001b[0m\n\u001b[0;32m    528\u001b[0m \u001b[38;5;28;01mif\u001b[39;00m \u001b[38;5;28mself\u001b[39m\u001b[38;5;241m.\u001b[39m_sampler_iter \u001b[38;5;129;01mis\u001b[39;00m \u001b[38;5;28;01mNone\u001b[39;00m:\n\u001b[0;32m    529\u001b[0m     \u001b[38;5;28mself\u001b[39m\u001b[38;5;241m.\u001b[39m_reset()\n\u001b[1;32m--> 530\u001b[0m data \u001b[38;5;241m=\u001b[39m \u001b[38;5;28;43mself\u001b[39;49m\u001b[38;5;241;43m.\u001b[39;49m\u001b[43m_next_data\u001b[49m\u001b[43m(\u001b[49m\u001b[43m)\u001b[49m\n\u001b[0;32m    531\u001b[0m \u001b[38;5;28mself\u001b[39m\u001b[38;5;241m.\u001b[39m_num_yielded \u001b[38;5;241m+\u001b[39m\u001b[38;5;241m=\u001b[39m \u001b[38;5;241m1\u001b[39m\n\u001b[0;32m    532\u001b[0m \u001b[38;5;28;01mif\u001b[39;00m \u001b[38;5;28mself\u001b[39m\u001b[38;5;241m.\u001b[39m_dataset_kind \u001b[38;5;241m==\u001b[39m _DatasetKind\u001b[38;5;241m.\u001b[39mIterable \u001b[38;5;129;01mand\u001b[39;00m \\\n\u001b[0;32m    533\u001b[0m         \u001b[38;5;28mself\u001b[39m\u001b[38;5;241m.\u001b[39m_IterableDataset_len_called \u001b[38;5;129;01mis\u001b[39;00m \u001b[38;5;129;01mnot\u001b[39;00m \u001b[38;5;28;01mNone\u001b[39;00m \u001b[38;5;129;01mand\u001b[39;00m \\\n\u001b[0;32m    534\u001b[0m         \u001b[38;5;28mself\u001b[39m\u001b[38;5;241m.\u001b[39m_num_yielded \u001b[38;5;241m>\u001b[39m \u001b[38;5;28mself\u001b[39m\u001b[38;5;241m.\u001b[39m_IterableDataset_len_called:\n",
      "File \u001b[1;32m~\\miniconda3\\envs\\torch\\lib\\site-packages\\torch\\utils\\data\\dataloader.py:570\u001b[0m, in \u001b[0;36m_SingleProcessDataLoaderIter._next_data\u001b[1;34m(self)\u001b[0m\n\u001b[0;32m    568\u001b[0m \u001b[38;5;28;01mdef\u001b[39;00m \u001b[38;5;21m_next_data\u001b[39m(\u001b[38;5;28mself\u001b[39m):\n\u001b[0;32m    569\u001b[0m     index \u001b[38;5;241m=\u001b[39m \u001b[38;5;28mself\u001b[39m\u001b[38;5;241m.\u001b[39m_next_index()  \u001b[38;5;66;03m# may raise StopIteration\u001b[39;00m\n\u001b[1;32m--> 570\u001b[0m     data \u001b[38;5;241m=\u001b[39m \u001b[38;5;28;43mself\u001b[39;49m\u001b[38;5;241;43m.\u001b[39;49m\u001b[43m_dataset_fetcher\u001b[49m\u001b[38;5;241;43m.\u001b[39;49m\u001b[43mfetch\u001b[49m\u001b[43m(\u001b[49m\u001b[43mindex\u001b[49m\u001b[43m)\u001b[49m  \u001b[38;5;66;03m# may raise StopIteration\u001b[39;00m\n\u001b[0;32m    571\u001b[0m     \u001b[38;5;28;01mif\u001b[39;00m \u001b[38;5;28mself\u001b[39m\u001b[38;5;241m.\u001b[39m_pin_memory:\n\u001b[0;32m    572\u001b[0m         data \u001b[38;5;241m=\u001b[39m _utils\u001b[38;5;241m.\u001b[39mpin_memory\u001b[38;5;241m.\u001b[39mpin_memory(data)\n",
      "File \u001b[1;32m~\\miniconda3\\envs\\torch\\lib\\site-packages\\torch\\utils\\data\\_utils\\fetch.py:49\u001b[0m, in \u001b[0;36m_MapDatasetFetcher.fetch\u001b[1;34m(self, possibly_batched_index)\u001b[0m\n\u001b[0;32m     47\u001b[0m \u001b[38;5;28;01mdef\u001b[39;00m \u001b[38;5;21mfetch\u001b[39m(\u001b[38;5;28mself\u001b[39m, possibly_batched_index):\n\u001b[0;32m     48\u001b[0m     \u001b[38;5;28;01mif\u001b[39;00m \u001b[38;5;28mself\u001b[39m\u001b[38;5;241m.\u001b[39mauto_collation:\n\u001b[1;32m---> 49\u001b[0m         data \u001b[38;5;241m=\u001b[39m [\u001b[38;5;28mself\u001b[39m\u001b[38;5;241m.\u001b[39mdataset[idx] \u001b[38;5;28;01mfor\u001b[39;00m idx \u001b[38;5;129;01min\u001b[39;00m possibly_batched_index]\n\u001b[0;32m     50\u001b[0m     \u001b[38;5;28;01melse\u001b[39;00m:\n\u001b[0;32m     51\u001b[0m         data \u001b[38;5;241m=\u001b[39m \u001b[38;5;28mself\u001b[39m\u001b[38;5;241m.\u001b[39mdataset[possibly_batched_index]\n",
      "File \u001b[1;32m~\\miniconda3\\envs\\torch\\lib\\site-packages\\torch\\utils\\data\\_utils\\fetch.py:49\u001b[0m, in \u001b[0;36m<listcomp>\u001b[1;34m(.0)\u001b[0m\n\u001b[0;32m     47\u001b[0m \u001b[38;5;28;01mdef\u001b[39;00m \u001b[38;5;21mfetch\u001b[39m(\u001b[38;5;28mself\u001b[39m, possibly_batched_index):\n\u001b[0;32m     48\u001b[0m     \u001b[38;5;28;01mif\u001b[39;00m \u001b[38;5;28mself\u001b[39m\u001b[38;5;241m.\u001b[39mauto_collation:\n\u001b[1;32m---> 49\u001b[0m         data \u001b[38;5;241m=\u001b[39m [\u001b[38;5;28;43mself\u001b[39;49m\u001b[38;5;241;43m.\u001b[39;49m\u001b[43mdataset\u001b[49m\u001b[43m[\u001b[49m\u001b[43midx\u001b[49m\u001b[43m]\u001b[49m \u001b[38;5;28;01mfor\u001b[39;00m idx \u001b[38;5;129;01min\u001b[39;00m possibly_batched_index]\n\u001b[0;32m     50\u001b[0m     \u001b[38;5;28;01melse\u001b[39;00m:\n\u001b[0;32m     51\u001b[0m         data \u001b[38;5;241m=\u001b[39m \u001b[38;5;28mself\u001b[39m\u001b[38;5;241m.\u001b[39mdataset[possibly_batched_index]\n",
      "Input \u001b[1;32mIn [6]\u001b[0m, in \u001b[0;36mISDataset.__getitem__\u001b[1;34m(self, index)\u001b[0m\n\u001b[0;32m     17\u001b[0m mask_path \u001b[38;5;241m=\u001b[39m os\u001b[38;5;241m.\u001b[39mpath\u001b[38;5;241m.\u001b[39mjoin(\u001b[38;5;28mself\u001b[39m\u001b[38;5;241m.\u001b[39mmask_dir, \u001b[38;5;28mself\u001b[39m\u001b[38;5;241m.\u001b[39mimg[index]\u001b[38;5;241m.\u001b[39mreplace(\u001b[38;5;124m'\u001b[39m\u001b[38;5;124m.jpg\u001b[39m\u001b[38;5;124m'\u001b[39m, \u001b[38;5;124m'\u001b[39m\u001b[38;5;124m_mask.png\u001b[39m\u001b[38;5;124m'\u001b[39m))\n\u001b[0;32m     18\u001b[0m img \u001b[38;5;241m=\u001b[39m np\u001b[38;5;241m.\u001b[39marray(Image\u001b[38;5;241m.\u001b[39mopen(img_path)\u001b[38;5;241m.\u001b[39mconvert(\u001b[38;5;124m'\u001b[39m\u001b[38;5;124mRGB\u001b[39m\u001b[38;5;124m'\u001b[39m))\n\u001b[1;32m---> 19\u001b[0m mask \u001b[38;5;241m=\u001b[39m np\u001b[38;5;241m.\u001b[39marray(\u001b[43mImage\u001b[49m\u001b[38;5;241;43m.\u001b[39;49m\u001b[43mopen\u001b[49m\u001b[43m(\u001b[49m\u001b[43mmask_path\u001b[49m\u001b[43m)\u001b[49m\u001b[38;5;241;43m.\u001b[39;49m\u001b[43mconvert\u001b[49m\u001b[43m(\u001b[49m\u001b[38;5;124;43m'\u001b[39;49m\u001b[38;5;124;43mL\u001b[39;49m\u001b[38;5;124;43m'\u001b[39;49m\u001b[43m)\u001b[49m)\n\u001b[0;32m     21\u001b[0m img \u001b[38;5;241m=\u001b[39m \u001b[38;5;28mself\u001b[39m\u001b[38;5;241m.\u001b[39mimg_transform(img)\n\u001b[0;32m     22\u001b[0m mask \u001b[38;5;241m=\u001b[39m \u001b[38;5;28mself\u001b[39m\u001b[38;5;241m.\u001b[39mmask_transform(mask)\n",
      "File \u001b[1;32m~\\miniconda3\\envs\\torch\\lib\\site-packages\\PIL\\Image.py:889\u001b[0m, in \u001b[0;36mImage.convert\u001b[1;34m(self, mode, matrix, dither, palette, colors)\u001b[0m\n\u001b[0;32m    847\u001b[0m \u001b[38;5;28;01mdef\u001b[39;00m \u001b[38;5;21mconvert\u001b[39m(\u001b[38;5;28mself\u001b[39m, mode\u001b[38;5;241m=\u001b[39m\u001b[38;5;28;01mNone\u001b[39;00m, matrix\u001b[38;5;241m=\u001b[39m\u001b[38;5;28;01mNone\u001b[39;00m, dither\u001b[38;5;241m=\u001b[39m\u001b[38;5;28;01mNone\u001b[39;00m, palette\u001b[38;5;241m=\u001b[39mWEB, colors\u001b[38;5;241m=\u001b[39m\u001b[38;5;241m256\u001b[39m):\n\u001b[0;32m    848\u001b[0m     \u001b[38;5;124;03m\"\"\"\u001b[39;00m\n\u001b[0;32m    849\u001b[0m \u001b[38;5;124;03m    Returns a converted copy of this image. For the \"P\" mode, this\u001b[39;00m\n\u001b[0;32m    850\u001b[0m \u001b[38;5;124;03m    method translates pixels through the palette.  If mode is\u001b[39;00m\n\u001b[1;32m   (...)\u001b[0m\n\u001b[0;32m    886\u001b[0m \u001b[38;5;124;03m    :returns: An :py:class:`~PIL.Image.Image` object.\u001b[39;00m\n\u001b[0;32m    887\u001b[0m \u001b[38;5;124;03m    \"\"\"\u001b[39;00m\n\u001b[1;32m--> 889\u001b[0m     \u001b[38;5;28;43mself\u001b[39;49m\u001b[38;5;241;43m.\u001b[39;49m\u001b[43mload\u001b[49m\u001b[43m(\u001b[49m\u001b[43m)\u001b[49m\n\u001b[0;32m    891\u001b[0m     has_transparency \u001b[38;5;241m=\u001b[39m \u001b[38;5;28mself\u001b[39m\u001b[38;5;241m.\u001b[39minfo\u001b[38;5;241m.\u001b[39mget(\u001b[38;5;124m\"\u001b[39m\u001b[38;5;124mtransparency\u001b[39m\u001b[38;5;124m\"\u001b[39m) \u001b[38;5;129;01mis\u001b[39;00m \u001b[38;5;129;01mnot\u001b[39;00m \u001b[38;5;28;01mNone\u001b[39;00m\n\u001b[0;32m    892\u001b[0m     \u001b[38;5;28;01mif\u001b[39;00m \u001b[38;5;129;01mnot\u001b[39;00m mode \u001b[38;5;129;01mand\u001b[39;00m \u001b[38;5;28mself\u001b[39m\u001b[38;5;241m.\u001b[39mmode \u001b[38;5;241m==\u001b[39m \u001b[38;5;124m\"\u001b[39m\u001b[38;5;124mP\u001b[39m\u001b[38;5;124m\"\u001b[39m:\n\u001b[0;32m    893\u001b[0m         \u001b[38;5;66;03m# determine default mode\u001b[39;00m\n",
      "File \u001b[1;32m~\\miniconda3\\envs\\torch\\lib\\site-packages\\PIL\\ImageFile.py:253\u001b[0m, in \u001b[0;36mImageFile.load\u001b[1;34m(self)\u001b[0m\n\u001b[0;32m    247\u001b[0m         \u001b[38;5;28;01mraise\u001b[39;00m \u001b[38;5;167;01mOSError\u001b[39;00m(\n\u001b[0;32m    248\u001b[0m             \u001b[38;5;124m\"\u001b[39m\u001b[38;5;124mimage file is truncated \u001b[39m\u001b[38;5;124m\"\u001b[39m\n\u001b[0;32m    249\u001b[0m             \u001b[38;5;124mf\u001b[39m\u001b[38;5;124m\"\u001b[39m\u001b[38;5;124m(\u001b[39m\u001b[38;5;132;01m{\u001b[39;00m\u001b[38;5;28mlen\u001b[39m(b)\u001b[38;5;132;01m}\u001b[39;00m\u001b[38;5;124m bytes not processed)\u001b[39m\u001b[38;5;124m\"\u001b[39m\n\u001b[0;32m    250\u001b[0m         )\n\u001b[0;32m    252\u001b[0m b \u001b[38;5;241m=\u001b[39m b \u001b[38;5;241m+\u001b[39m s\n\u001b[1;32m--> 253\u001b[0m n, err_code \u001b[38;5;241m=\u001b[39m \u001b[43mdecoder\u001b[49m\u001b[38;5;241;43m.\u001b[39;49m\u001b[43mdecode\u001b[49m\u001b[43m(\u001b[49m\u001b[43mb\u001b[49m\u001b[43m)\u001b[49m\n\u001b[0;32m    254\u001b[0m \u001b[38;5;28;01mif\u001b[39;00m n \u001b[38;5;241m<\u001b[39m \u001b[38;5;241m0\u001b[39m:\n\u001b[0;32m    255\u001b[0m     \u001b[38;5;28;01mbreak\u001b[39;00m\n",
      "\u001b[1;31mKeyboardInterrupt\u001b[0m: "
     ]
    }
   ],
   "source": [
    "epochs = 5\n",
    "\n",
    "for epoch in range(epochs):\n",
    "    # training\n",
    "    loop = tqdm(train_loader)\n",
    "    \n",
    "    for batch_idx, (data, targets) in enumerate(loop):\n",
    "        data = data.to(device)\n",
    "        target = targets.float().to(device)\n",
    "        \n",
    "        # forward\n",
    "        with torch.cuda.amp.autocast():\n",
    "            predictions = model(data)\n",
    "            loss = loss_fn(predictions, target)\n",
    "        \n",
    "        # backward\n",
    "        optimizer.zero_grad()\n",
    "        scaler.scale(loss).backward()\n",
    "        scaler.step(optimizer)\n",
    "        scaler.update()\n",
    "        \n",
    "        # update tqdm loop\n",
    "        loop.set_postfix(loss=loss.item())\n",
    "        # checcking accuracy\n",
    "        check_acc(val_loader, model, device=device)\n",
    "    print(f'epoch {epoch}')\n",
    "        "
   ]
  },
  {
   "cell_type": "code",
   "execution_count": null,
   "id": "d4cdd386",
   "metadata": {},
   "outputs": [],
   "source": []
  },
  {
   "cell_type": "code",
   "execution_count": null,
   "id": "b872b368",
   "metadata": {},
   "outputs": [],
   "source": []
  },
  {
   "cell_type": "code",
   "execution_count": 103,
   "id": "4e54b826",
   "metadata": {},
   "outputs": [
    {
     "name": "stdout",
     "output_type": "stream",
     "text": [
      "442\n",
      "target\n"
     ]
    },
    {
     "data": {
      "image/png": "[encoded data removed]",
      "text/plain": [
       "<Figure size 432x288 with 1 Axes>"
      ]
     },
     "metadata": {
      "needs_background": "light"
     },
     "output_type": "display_data"
    },
    {
     "name": "stdout",
     "output_type": "stream",
     "text": [
      "torch.Size([256, 256])\n",
      "predicted\n"
     ]
    },
    {
     "data": {
      "image/png": "[encoded data removed]",
      "text/plain": [
       "<Figure size 432x288 with 1 Axes>"
      ]
     },
     "metadata": {
      "needs_background": "light"
     },
     "output_type": "display_data"
    },
    {
     "name": "stdout",
     "output_type": "stream",
     "text": [
      "image\n"
     ]
    },
    {
     "data": {
      "image/png": "[encoded data removed]",
      "text/plain": [
       "<Figure size 432x288 with 1 Axes>"
      ]
     },
     "metadata": {
      "needs_background": "light"
     },
     "output_type": "display_data"
    }
   ],
   "source": [
    "a = 0\n",
    "b = np.random.randint(442, 443)\n",
    "print(b)\n",
    "for img, mask in val_ds:\n",
    "    a += 1\n",
    "    if a == b:\n",
    "        img1 = img.unsqueeze(0).to(device)\n",
    "        #rint(img1.shape)\n",
    "        mask_m = model(img1)\n",
    "        #rint(mask_m.shape)\n",
    "        print('target')\n",
    "        plt.imshow(mask.permute(1, 2, 0), cmap='gray')\n",
    "        plt.show()\n",
    "        mask_m = torch.squeeze(mask_m)\n",
    "        print(mask_m.shape)\n",
    "        mask_m = mask_m.unsqueeze(1).permute(0, 2, 1).cpu().detach().numpy()\n",
    "        print('predicted')\n",
    "        plt.imshow(mask_m, cmap='gray')\n",
    "        plt.show()\n",
    "        print('image')\n",
    "        plt.imshow(img.permute(1, 2, 0))\n",
    "        plt.show()\n",
    "        break\n"
   ]
  },
  {
   "cell_type": "code",
   "execution_count": 95,
   "id": "7d9e7d05",
   "metadata": {},
   "outputs": [
    {
     "name": "stdout",
     "output_type": "stream",
     "text": [
      "torch.Size([1, 3, 256, 256])\n"
     ]
    }
   ],
   "source": [
    "print(img1.shape)"
   ]
  },
  {
   "cell_type": "code",
   "execution_count": 110,
   "id": "956e6cc4",
   "metadata": {},
   "outputs": [],
   "source": [
    "torch.save(model.state_dict(), 'ENET_modified.pt')"
   ]
  },
  {
   "cell_type": "code",
   "execution_count": null,
   "id": "a41a14ef",
   "metadata": {},
   "outputs": [],
   "source": []
  },
  {
   "cell_type": "code",
   "execution_count": 111,
   "id": "2446f157",
   "metadata": {},
   "outputs": [
    {
     "data": {
      "text/plain": [
       "ENET(\n",
       "  (initial1): Conv2d(3, 13, kernel_size=(3, 3), stride=(2, 2), padding=(1, 1))\n",
       "  (initial2): MaxPool2d(kernel_size=2, stride=2, padding=0, dilation=1, ceil_mode=False)\n",
       "  (bn10_1): Sequential(\n",
       "    (0): Conv2d(16, 8, kernel_size=(2, 2), stride=(2, 2))\n",
       "    (1): BatchNorm2d(8, eps=1e-05, momentum=0.1, affine=True, track_running_stats=True)\n",
       "    (2): PReLU(num_parameters=1)\n",
       "    (3): Conv2d(8, 8, kernel_size=(3, 3), stride=(1, 1), padding=(1, 1))\n",
       "    (4): BatchNorm2d(8, eps=1e-05, momentum=0.1, affine=True, track_running_stats=True)\n",
       "    (5): PReLU(num_parameters=1)\n",
       "    (6): Conv2d(8, 48, kernel_size=(1, 1), stride=(1, 1))\n",
       "    (7): BatchNorm2d(48, eps=1e-05, momentum=0.1, affine=True, track_running_stats=True)\n",
       "  )\n",
       "  (bn10_2): Sequential(\n",
       "    (0): MaxPool2d(kernel_size=(2, 2), stride=(2, 2), padding=0, dilation=1, ceil_mode=False)\n",
       "  )\n",
       "  (conv1x1_10): Sequential(\n",
       "    (0): Conv2d(64, 64, kernel_size=(1, 1), stride=(1, 1))\n",
       "  )\n",
       "  (bn11): Sequential(\n",
       "    (0): Conv2d(64, 32, kernel_size=(1, 1), stride=(1, 1))\n",
       "    (1): BatchNorm2d(32, eps=1e-05, momentum=0.1, affine=True, track_running_stats=True)\n",
       "    (2): PReLU(num_parameters=1)\n",
       "    (3): Conv2d(32, 32, kernel_size=(3, 3), stride=(1, 1), padding=(1, 1))\n",
       "    (4): BatchNorm2d(32, eps=1e-05, momentum=0.1, affine=True, track_running_stats=True)\n",
       "    (5): PReLU(num_parameters=1)\n",
       "    (6): Conv2d(32, 64, kernel_size=(1, 1), stride=(1, 1))\n",
       "    (7): BatchNorm2d(64, eps=1e-05, momentum=0.1, affine=True, track_running_stats=True)\n",
       "  )\n",
       "  (conv1x1_11): Sequential(\n",
       "    (0): Conv2d(128, 64, kernel_size=(1, 1), stride=(1, 1))\n",
       "  )\n",
       "  (bn12): Sequential(\n",
       "    (0): Conv2d(64, 32, kernel_size=(1, 1), stride=(1, 1))\n",
       "    (1): BatchNorm2d(32, eps=1e-05, momentum=0.1, affine=True, track_running_stats=True)\n",
       "    (2): PReLU(num_parameters=1)\n",
       "    (3): Conv2d(32, 32, kernel_size=(3, 3), stride=(1, 1), padding=(1, 1))\n",
       "    (4): BatchNorm2d(32, eps=1e-05, momentum=0.1, affine=True, track_running_stats=True)\n",
       "    (5): PReLU(num_parameters=1)\n",
       "    (6): Conv2d(32, 64, kernel_size=(1, 1), stride=(1, 1))\n",
       "    (7): BatchNorm2d(64, eps=1e-05, momentum=0.1, affine=True, track_running_stats=True)\n",
       "  )\n",
       "  (conv1x1_12): Sequential(\n",
       "    (0): Conv2d(128, 64, kernel_size=(1, 1), stride=(1, 1))\n",
       "  )\n",
       "  (bn13): Sequential(\n",
       "    (0): Conv2d(64, 32, kernel_size=(1, 1), stride=(1, 1))\n",
       "    (1): BatchNorm2d(32, eps=1e-05, momentum=0.1, affine=True, track_running_stats=True)\n",
       "    (2): PReLU(num_parameters=1)\n",
       "    (3): Conv2d(32, 32, kernel_size=(3, 3), stride=(1, 1), padding=(1, 1))\n",
       "    (4): BatchNorm2d(32, eps=1e-05, momentum=0.1, affine=True, track_running_stats=True)\n",
       "    (5): PReLU(num_parameters=1)\n",
       "    (6): Conv2d(32, 64, kernel_size=(1, 1), stride=(1, 1))\n",
       "    (7): BatchNorm2d(64, eps=1e-05, momentum=0.1, affine=True, track_running_stats=True)\n",
       "  )\n",
       "  (conv1x1_13): Sequential(\n",
       "    (0): Conv2d(128, 64, kernel_size=(1, 1), stride=(1, 1))\n",
       "  )\n",
       "  (bn14): Sequential(\n",
       "    (0): Conv2d(64, 32, kernel_size=(1, 1), stride=(1, 1))\n",
       "    (1): BatchNorm2d(32, eps=1e-05, momentum=0.1, affine=True, track_running_stats=True)\n",
       "    (2): PReLU(num_parameters=1)\n",
       "    (3): Conv2d(32, 32, kernel_size=(3, 3), stride=(1, 1), padding=(1, 1))\n",
       "    (4): BatchNorm2d(32, eps=1e-05, momentum=0.1, affine=True, track_running_stats=True)\n",
       "    (5): PReLU(num_parameters=1)\n",
       "    (6): Conv2d(32, 64, kernel_size=(1, 1), stride=(1, 1))\n",
       "    (7): BatchNorm2d(64, eps=1e-05, momentum=0.1, affine=True, track_running_stats=True)\n",
       "  )\n",
       "  (conv1x1_14): Sequential(\n",
       "    (0): Conv2d(128, 64, kernel_size=(1, 1), stride=(1, 1))\n",
       "  )\n",
       "  (bn20_1): Sequential(\n",
       "    (0): Conv2d(64, 32, kernel_size=(2, 2), stride=(2, 2))\n",
       "    (1): BatchNorm2d(32, eps=1e-05, momentum=0.1, affine=True, track_running_stats=True)\n",
       "    (2): PReLU(num_parameters=1)\n",
       "    (3): Conv2d(32, 32, kernel_size=(3, 3), stride=(1, 1), padding=(1, 1))\n",
       "    (4): BatchNorm2d(32, eps=1e-05, momentum=0.1, affine=True, track_running_stats=True)\n",
       "    (5): PReLU(num_parameters=1)\n",
       "    (6): Conv2d(32, 64, kernel_size=(1, 1), stride=(1, 1))\n",
       "    (7): BatchNorm2d(64, eps=1e-05, momentum=0.1, affine=True, track_running_stats=True)\n",
       "  )\n",
       "  (bn20_2): Sequential(\n",
       "    (0): MaxPool2d(kernel_size=(2, 2), stride=(2, 2), padding=0, dilation=1, ceil_mode=False)\n",
       "  )\n",
       "  (conv1x1_20): Sequential(\n",
       "    (0): Conv2d(128, 128, kernel_size=(1, 1), stride=(1, 1))\n",
       "  )\n",
       "  (bn21): Sequential(\n",
       "    (0): Conv2d(128, 64, kernel_size=(1, 1), stride=(1, 1))\n",
       "    (1): BatchNorm2d(64, eps=1e-05, momentum=0.1, affine=True, track_running_stats=True)\n",
       "    (2): PReLU(num_parameters=1)\n",
       "    (3): Conv2d(64, 64, kernel_size=(3, 3), stride=(1, 1), padding=(1, 1))\n",
       "    (4): BatchNorm2d(64, eps=1e-05, momentum=0.1, affine=True, track_running_stats=True)\n",
       "    (5): PReLU(num_parameters=1)\n",
       "    (6): Conv2d(64, 128, kernel_size=(1, 1), stride=(1, 1))\n",
       "    (7): BatchNorm2d(128, eps=1e-05, momentum=0.1, affine=True, track_running_stats=True)\n",
       "  )\n",
       "  (conv1x1_21): Sequential(\n",
       "    (0): Conv2d(256, 128, kernel_size=(1, 1), stride=(1, 1))\n",
       "  )\n",
       "  (bn22): Sequential(\n",
       "    (0): Conv2d(128, 64, kernel_size=(1, 1), stride=(1, 1))\n",
       "    (1): BatchNorm2d(64, eps=1e-05, momentum=0.1, affine=True, track_running_stats=True)\n",
       "    (2): PReLU(num_parameters=1)\n",
       "    (3): Conv2d(64, 64, kernel_size=(3, 3), stride=(1, 1), padding=(2, 2), dilation=(2, 2))\n",
       "    (4): BatchNorm2d(64, eps=1e-05, momentum=0.1, affine=True, track_running_stats=True)\n",
       "    (5): PReLU(num_parameters=1)\n",
       "    (6): Conv2d(64, 128, kernel_size=(1, 1), stride=(1, 1))\n",
       "    (7): BatchNorm2d(128, eps=1e-05, momentum=0.1, affine=True, track_running_stats=True)\n",
       "  )\n",
       "  (conv1x1_22): Sequential(\n",
       "    (0): Conv2d(256, 128, kernel_size=(1, 1), stride=(1, 1))\n",
       "  )\n",
       "  (bn23): Sequential(\n",
       "    (0): Conv2d(128, 64, kernel_size=(1, 1), stride=(1, 1))\n",
       "    (1): BatchNorm2d(64, eps=1e-05, momentum=0.1, affine=True, track_running_stats=True)\n",
       "    (2): PReLU(num_parameters=1)\n",
       "    (3): Conv2d(64, 64, kernel_size=(1, 5), stride=(1, 1), padding=(0, 2), bias=False)\n",
       "    (4): BatchNorm2d(64, eps=1e-05, momentum=0.1, affine=True, track_running_stats=True)\n",
       "    (5): PReLU(num_parameters=1)\n",
       "    (6): Conv2d(64, 64, kernel_size=(5, 1), stride=(1, 1), padding=(2, 0), bias=False)\n",
       "    (7): BatchNorm2d(64, eps=1e-05, momentum=0.1, affine=True, track_running_stats=True)\n",
       "    (8): PReLU(num_parameters=1)\n",
       "    (9): Conv2d(64, 128, kernel_size=(1, 1), stride=(1, 1))\n",
       "    (10): BatchNorm2d(128, eps=1e-05, momentum=0.1, affine=True, track_running_stats=True)\n",
       "  )\n",
       "  (conv1x1_23): Sequential(\n",
       "    (0): Conv2d(256, 128, kernel_size=(1, 1), stride=(1, 1))\n",
       "  )\n",
       "  (bn24): Sequential(\n",
       "    (0): Conv2d(128, 64, kernel_size=(1, 1), stride=(1, 1))\n",
       "    (1): BatchNorm2d(64, eps=1e-05, momentum=0.1, affine=True, track_running_stats=True)\n",
       "    (2): PReLU(num_parameters=1)\n",
       "    (3): Conv2d(64, 64, kernel_size=(3, 3), stride=(1, 1), padding=(4, 4), dilation=(4, 4))\n",
       "    (4): BatchNorm2d(64, eps=1e-05, momentum=0.1, affine=True, track_running_stats=True)\n",
       "    (5): PReLU(num_parameters=1)\n",
       "    (6): Conv2d(64, 128, kernel_size=(1, 1), stride=(1, 1))\n",
       "    (7): BatchNorm2d(128, eps=1e-05, momentum=0.1, affine=True, track_running_stats=True)\n",
       "  )\n",
       "  (conv1x1_24): Sequential(\n",
       "    (0): Conv2d(256, 128, kernel_size=(1, 1), stride=(1, 1))\n",
       "  )\n",
       "  (bn25): Sequential(\n",
       "    (0): Conv2d(128, 64, kernel_size=(1, 1), stride=(1, 1))\n",
       "    (1): BatchNorm2d(64, eps=1e-05, momentum=0.1, affine=True, track_running_stats=True)\n",
       "    (2): PReLU(num_parameters=1)\n",
       "    (3): Conv2d(64, 64, kernel_size=(3, 3), stride=(1, 1), padding=(1, 1))\n",
       "    (4): BatchNorm2d(64, eps=1e-05, momentum=0.1, affine=True, track_running_stats=True)\n",
       "    (5): PReLU(num_parameters=1)\n",
       "    (6): Conv2d(64, 128, kernel_size=(1, 1), stride=(1, 1))\n",
       "    (7): BatchNorm2d(128, eps=1e-05, momentum=0.1, affine=True, track_running_stats=True)\n",
       "  )\n",
       "  (conv1x1_25): Sequential(\n",
       "    (0): Conv2d(256, 128, kernel_size=(1, 1), stride=(1, 1))\n",
       "  )\n",
       "  (bn26): Sequential(\n",
       "    (0): Conv2d(128, 64, kernel_size=(1, 1), stride=(1, 1))\n",
       "    (1): BatchNorm2d(64, eps=1e-05, momentum=0.1, affine=True, track_running_stats=True)\n",
       "    (2): PReLU(num_parameters=1)\n",
       "    (3): Conv2d(64, 64, kernel_size=(3, 3), stride=(1, 1), padding=(8, 8), dilation=(8, 8))\n",
       "    (4): BatchNorm2d(64, eps=1e-05, momentum=0.1, affine=True, track_running_stats=True)\n",
       "    (5): PReLU(num_parameters=1)\n",
       "    (6): Conv2d(64, 128, kernel_size=(1, 1), stride=(1, 1))\n",
       "    (7): BatchNorm2d(128, eps=1e-05, momentum=0.1, affine=True, track_running_stats=True)\n",
       "  )\n",
       "  (conv1x1_26): Sequential(\n",
       "    (0): Conv2d(256, 128, kernel_size=(1, 1), stride=(1, 1))\n",
       "  )\n",
       "  (bn27): Sequential(\n",
       "    (0): Conv2d(128, 64, kernel_size=(1, 1), stride=(1, 1))\n",
       "    (1): BatchNorm2d(64, eps=1e-05, momentum=0.1, affine=True, track_running_stats=True)\n",
       "    (2): PReLU(num_parameters=1)\n",
       "    (3): Conv2d(64, 64, kernel_size=(1, 5), stride=(1, 1), padding=(0, 2), bias=False)\n",
       "    (4): BatchNorm2d(64, eps=1e-05, momentum=0.1, affine=True, track_running_stats=True)\n",
       "    (5): PReLU(num_parameters=1)\n",
       "    (6): Conv2d(64, 64, kernel_size=(5, 1), stride=(1, 1), padding=(2, 0), bias=False)\n",
       "    (7): BatchNorm2d(64, eps=1e-05, momentum=0.1, affine=True, track_running_stats=True)\n",
       "    (8): PReLU(num_parameters=1)\n",
       "    (9): Conv2d(64, 128, kernel_size=(1, 1), stride=(1, 1))\n",
       "    (10): BatchNorm2d(128, eps=1e-05, momentum=0.1, affine=True, track_running_stats=True)\n",
       "  )\n",
       "  (conv1x1_27): Sequential(\n",
       "    (0): Conv2d(256, 128, kernel_size=(1, 1), stride=(1, 1))\n",
       "  )\n",
       "  (bn28): Sequential(\n",
       "    (0): Conv2d(128, 64, kernel_size=(1, 1), stride=(1, 1))\n",
       "    (1): BatchNorm2d(64, eps=1e-05, momentum=0.1, affine=True, track_running_stats=True)\n",
       "    (2): PReLU(num_parameters=1)\n",
       "    (3): Conv2d(64, 64, kernel_size=(3, 3), stride=(1, 1), padding=(8, 8), dilation=(8, 8))\n",
       "    (4): BatchNorm2d(64, eps=1e-05, momentum=0.1, affine=True, track_running_stats=True)\n",
       "    (5): PReLU(num_parameters=1)\n",
       "    (6): Conv2d(64, 128, kernel_size=(1, 1), stride=(1, 1))\n",
       "    (7): BatchNorm2d(128, eps=1e-05, momentum=0.1, affine=True, track_running_stats=True)\n",
       "  )\n",
       "  (conv1x1_28): Sequential(\n",
       "    (0): Conv2d(256, 128, kernel_size=(1, 1), stride=(1, 1))\n",
       "  )\n",
       "  (bn31): Sequential(\n",
       "    (0): Conv2d(128, 64, kernel_size=(1, 1), stride=(1, 1))\n",
       "    (1): BatchNorm2d(64, eps=1e-05, momentum=0.1, affine=True, track_running_stats=True)\n",
       "    (2): PReLU(num_parameters=1)\n",
       "    (3): Conv2d(64, 64, kernel_size=(3, 3), stride=(1, 1), padding=(1, 1))\n",
       "    (4): BatchNorm2d(64, eps=1e-05, momentum=0.1, affine=True, track_running_stats=True)\n",
       "    (5): PReLU(num_parameters=1)\n",
       "    (6): Conv2d(64, 128, kernel_size=(1, 1), stride=(1, 1))\n",
       "    (7): BatchNorm2d(128, eps=1e-05, momentum=0.1, affine=True, track_running_stats=True)\n",
       "  )\n",
       "  (conv1x1_31): Sequential(\n",
       "    (0): Conv2d(256, 128, kernel_size=(1, 1), stride=(1, 1))\n",
       "  )\n",
       "  (bn32): Sequential(\n",
       "    (0): Conv2d(128, 64, kernel_size=(1, 1), stride=(1, 1))\n",
       "    (1): BatchNorm2d(64, eps=1e-05, momentum=0.1, affine=True, track_running_stats=True)\n",
       "    (2): PReLU(num_parameters=1)\n",
       "    (3): Conv2d(64, 64, kernel_size=(3, 3), stride=(1, 1), padding=(2, 2), dilation=(2, 2))\n",
       "    (4): BatchNorm2d(64, eps=1e-05, momentum=0.1, affine=True, track_running_stats=True)\n",
       "    (5): PReLU(num_parameters=1)\n",
       "    (6): Conv2d(64, 128, kernel_size=(1, 1), stride=(1, 1))\n",
       "    (7): BatchNorm2d(128, eps=1e-05, momentum=0.1, affine=True, track_running_stats=True)\n",
       "  )\n",
       "  (conv1x1_32): Sequential(\n",
       "    (0): Conv2d(256, 128, kernel_size=(1, 1), stride=(1, 1))\n",
       "  )\n",
       "  (bn33): Sequential(\n",
       "    (0): Conv2d(128, 64, kernel_size=(1, 1), stride=(1, 1))\n",
       "    (1): BatchNorm2d(64, eps=1e-05, momentum=0.1, affine=True, track_running_stats=True)\n",
       "    (2): PReLU(num_parameters=1)\n",
       "    (3): Conv2d(64, 64, kernel_size=(1, 5), stride=(1, 1), padding=(0, 2), bias=False)\n",
       "    (4): BatchNorm2d(64, eps=1e-05, momentum=0.1, affine=True, track_running_stats=True)\n",
       "    (5): PReLU(num_parameters=1)\n",
       "    (6): Conv2d(64, 64, kernel_size=(5, 1), stride=(1, 1), padding=(2, 0), bias=False)\n",
       "    (7): BatchNorm2d(64, eps=1e-05, momentum=0.1, affine=True, track_running_stats=True)\n",
       "    (8): PReLU(num_parameters=1)\n",
       "    (9): Conv2d(64, 128, kernel_size=(1, 1), stride=(1, 1))\n",
       "    (10): BatchNorm2d(128, eps=1e-05, momentum=0.1, affine=True, track_running_stats=True)\n",
       "  )\n",
       "  (conv1x1_33): Sequential(\n",
       "    (0): Conv2d(256, 128, kernel_size=(1, 1), stride=(1, 1))\n",
       "  )\n",
       "  (bn34): Sequential(\n",
       "    (0): Conv2d(128, 64, kernel_size=(1, 1), stride=(1, 1))\n",
       "    (1): BatchNorm2d(64, eps=1e-05, momentum=0.1, affine=True, track_running_stats=True)\n",
       "    (2): PReLU(num_parameters=1)\n",
       "    (3): Conv2d(64, 64, kernel_size=(3, 3), stride=(1, 1), padding=(4, 4), dilation=(4, 4))\n",
       "    (4): BatchNorm2d(64, eps=1e-05, momentum=0.1, affine=True, track_running_stats=True)\n",
       "    (5): PReLU(num_parameters=1)\n",
       "    (6): Conv2d(64, 128, kernel_size=(1, 1), stride=(1, 1))\n",
       "    (7): BatchNorm2d(128, eps=1e-05, momentum=0.1, affine=True, track_running_stats=True)\n",
       "  )\n",
       "  (conv1x1_34): Sequential(\n",
       "    (0): Conv2d(256, 128, kernel_size=(1, 1), stride=(1, 1))\n",
       "  )\n",
       "  (bn35): Sequential(\n",
       "    (0): Conv2d(128, 64, kernel_size=(1, 1), stride=(1, 1))\n",
       "    (1): BatchNorm2d(64, eps=1e-05, momentum=0.1, affine=True, track_running_stats=True)\n",
       "    (2): PReLU(num_parameters=1)\n",
       "    (3): Conv2d(64, 64, kernel_size=(3, 3), stride=(1, 1), padding=(1, 1))\n",
       "    (4): BatchNorm2d(64, eps=1e-05, momentum=0.1, affine=True, track_running_stats=True)\n",
       "    (5): PReLU(num_parameters=1)\n",
       "    (6): Conv2d(64, 128, kernel_size=(1, 1), stride=(1, 1))\n",
       "    (7): BatchNorm2d(128, eps=1e-05, momentum=0.1, affine=True, track_running_stats=True)\n",
       "  )\n",
       "  (conv1x1_35): Sequential(\n",
       "    (0): Conv2d(256, 128, kernel_size=(1, 1), stride=(1, 1))\n",
       "  )\n",
       "  (bn36): Sequential(\n",
       "    (0): Conv2d(128, 64, kernel_size=(1, 1), stride=(1, 1))\n",
       "    (1): BatchNorm2d(64, eps=1e-05, momentum=0.1, affine=True, track_running_stats=True)\n",
       "    (2): PReLU(num_parameters=1)\n",
       "    (3): Conv2d(64, 64, kernel_size=(3, 3), stride=(1, 1), padding=(8, 8), dilation=(8, 8))\n",
       "    (4): BatchNorm2d(64, eps=1e-05, momentum=0.1, affine=True, track_running_stats=True)\n",
       "    (5): PReLU(num_parameters=1)\n",
       "    (6): Conv2d(64, 128, kernel_size=(1, 1), stride=(1, 1))\n",
       "    (7): BatchNorm2d(128, eps=1e-05, momentum=0.1, affine=True, track_running_stats=True)\n",
       "  )\n",
       "  (conv1x1_36): Sequential(\n",
       "    (0): Conv2d(256, 128, kernel_size=(1, 1), stride=(1, 1))\n",
       "  )\n",
       "  (bn37): Sequential(\n",
       "    (0): Conv2d(128, 64, kernel_size=(1, 1), stride=(1, 1))\n",
       "    (1): BatchNorm2d(64, eps=1e-05, momentum=0.1, affine=True, track_running_stats=True)\n",
       "    (2): PReLU(num_parameters=1)\n",
       "    (3): Conv2d(64, 64, kernel_size=(1, 5), stride=(1, 1), padding=(0, 2), bias=False)\n",
       "    (4): BatchNorm2d(64, eps=1e-05, momentum=0.1, affine=True, track_running_stats=True)\n",
       "    (5): PReLU(num_parameters=1)\n",
       "    (6): Conv2d(64, 64, kernel_size=(5, 1), stride=(1, 1), padding=(2, 0), bias=False)\n",
       "    (7): BatchNorm2d(64, eps=1e-05, momentum=0.1, affine=True, track_running_stats=True)\n",
       "    (8): PReLU(num_parameters=1)\n",
       "    (9): Conv2d(64, 128, kernel_size=(1, 1), stride=(1, 1))\n",
       "    (10): BatchNorm2d(128, eps=1e-05, momentum=0.1, affine=True, track_running_stats=True)\n",
       "  )\n",
       "  (conv1x1_37): Sequential(\n",
       "    (0): Conv2d(256, 128, kernel_size=(1, 1), stride=(1, 1))\n",
       "  )\n",
       "  (bn38): Sequential(\n",
       "    (0): Conv2d(128, 64, kernel_size=(1, 1), stride=(1, 1))\n",
       "    (1): BatchNorm2d(64, eps=1e-05, momentum=0.1, affine=True, track_running_stats=True)\n",
       "    (2): PReLU(num_parameters=1)\n",
       "    (3): Conv2d(64, 64, kernel_size=(3, 3), stride=(1, 1), padding=(8, 8), dilation=(8, 8))\n",
       "    (4): BatchNorm2d(64, eps=1e-05, momentum=0.1, affine=True, track_running_stats=True)\n",
       "    (5): PReLU(num_parameters=1)\n",
       "    (6): Conv2d(64, 128, kernel_size=(1, 1), stride=(1, 1))\n",
       "    (7): BatchNorm2d(128, eps=1e-05, momentum=0.1, affine=True, track_running_stats=True)\n",
       "  )\n",
       "  (conv1x1_38): Sequential(\n",
       "    (0): Conv2d(256, 128, kernel_size=(1, 1), stride=(1, 1))\n",
       "  )\n",
       "  (bn40_1): Sequential(\n",
       "    (0): ConvTranspose2d(128, 64, kernel_size=(2, 2), stride=(2, 2))\n",
       "    (1): BatchNorm2d(64, eps=1e-05, momentum=0.1, affine=True, track_running_stats=True)\n",
       "    (2): PReLU(num_parameters=1)\n",
       "    (3): Conv2d(64, 64, kernel_size=(3, 3), stride=(1, 1), padding=(1, 1))\n",
       "    (4): BatchNorm2d(64, eps=1e-05, momentum=0.1, affine=True, track_running_stats=True)\n",
       "    (5): PReLU(num_parameters=1)\n",
       "    (6): Conv2d(64, 64, kernel_size=(1, 1), stride=(1, 1))\n",
       "    (7): BatchNorm2d(64, eps=1e-05, momentum=0.1, affine=True, track_running_stats=True)\n",
       "  )\n",
       "  (conv1x1_40): Sequential(\n",
       "    (0): Conv2d(64, 64, kernel_size=(1, 1), stride=(1, 1))\n",
       "  )\n",
       "  (bn41): Sequential(\n",
       "    (0): Conv2d(64, 32, kernel_size=(1, 1), stride=(1, 1))\n",
       "    (1): BatchNorm2d(32, eps=1e-05, momentum=0.1, affine=True, track_running_stats=True)\n",
       "    (2): PReLU(num_parameters=1)\n",
       "    (3): Conv2d(32, 32, kernel_size=(3, 3), stride=(1, 1), padding=(1, 1))\n",
       "    (4): BatchNorm2d(32, eps=1e-05, momentum=0.1, affine=True, track_running_stats=True)\n",
       "    (5): PReLU(num_parameters=1)\n",
       "    (6): Conv2d(32, 64, kernel_size=(1, 1), stride=(1, 1))\n",
       "    (7): BatchNorm2d(64, eps=1e-05, momentum=0.1, affine=True, track_running_stats=True)\n",
       "  )\n",
       "  (conv1x1_41): Sequential(\n",
       "    (0): Conv2d(128, 64, kernel_size=(1, 1), stride=(1, 1))\n",
       "  )\n",
       "  (bn42): Sequential(\n",
       "    (0): Conv2d(64, 32, kernel_size=(1, 1), stride=(1, 1))\n",
       "    (1): BatchNorm2d(32, eps=1e-05, momentum=0.1, affine=True, track_running_stats=True)\n",
       "    (2): PReLU(num_parameters=1)\n",
       "    (3): Conv2d(32, 32, kernel_size=(3, 3), stride=(1, 1), padding=(1, 1))\n",
       "    (4): BatchNorm2d(32, eps=1e-05, momentum=0.1, affine=True, track_running_stats=True)\n",
       "    (5): PReLU(num_parameters=1)\n",
       "    (6): Conv2d(32, 64, kernel_size=(1, 1), stride=(1, 1))\n",
       "    (7): BatchNorm2d(64, eps=1e-05, momentum=0.1, affine=True, track_running_stats=True)\n",
       "  )\n",
       "  (conv1x1_42): Sequential(\n",
       "    (0): Conv2d(128, 64, kernel_size=(1, 1), stride=(1, 1))\n",
       "  )\n",
       "  (bn50_1): Sequential(\n",
       "    (0): ConvTranspose2d(64, 32, kernel_size=(2, 2), stride=(2, 2))\n",
       "    (1): BatchNorm2d(32, eps=1e-05, momentum=0.1, affine=True, track_running_stats=True)\n",
       "    (2): PReLU(num_parameters=1)\n",
       "    (3): Conv2d(32, 32, kernel_size=(3, 3), stride=(1, 1), padding=(1, 1))\n",
       "    (4): BatchNorm2d(32, eps=1e-05, momentum=0.1, affine=True, track_running_stats=True)\n",
       "    (5): PReLU(num_parameters=1)\n",
       "    (6): Conv2d(32, 16, kernel_size=(1, 1), stride=(1, 1))\n",
       "    (7): BatchNorm2d(16, eps=1e-05, momentum=0.1, affine=True, track_running_stats=True)\n",
       "  )\n",
       "  (conv1x1_50): Sequential(\n",
       "    (0): Conv2d(16, 16, kernel_size=(1, 1), stride=(1, 1))\n",
       "  )\n",
       "  (bn51): Sequential(\n",
       "    (0): Conv2d(16, 8, kernel_size=(1, 1), stride=(1, 1))\n",
       "    (1): BatchNorm2d(8, eps=1e-05, momentum=0.1, affine=True, track_running_stats=True)\n",
       "    (2): PReLU(num_parameters=1)\n",
       "    (3): Conv2d(8, 8, kernel_size=(3, 3), stride=(1, 1), padding=(1, 1))\n",
       "    (4): BatchNorm2d(8, eps=1e-05, momentum=0.1, affine=True, track_running_stats=True)\n",
       "    (5): PReLU(num_parameters=1)\n",
       "    (6): Conv2d(8, 16, kernel_size=(1, 1), stride=(1, 1))\n",
       "    (7): BatchNorm2d(16, eps=1e-05, momentum=0.1, affine=True, track_running_stats=True)\n",
       "  )\n",
       "  (conv1x1_51): Sequential(\n",
       "    (0): Conv2d(32, 16, kernel_size=(1, 1), stride=(1, 1))\n",
       "  )\n",
       "  (out): ConvTranspose2d(16, 1, kernel_size=(2, 2), stride=(2, 2))\n",
       ")"
      ]
     },
     "execution_count": 111,
     "metadata": {},
     "output_type": "execute_result"
    }
   ],
   "source": [
    "ENET_modified_model = ENET()\n",
    "ENET_modified_model.load_state_dict(torch.load('ENET_modified.pt', map_location=torch.device('cpu')))\n",
    "ENET_modified_model.eval()"
   ]
  },
  {
   "cell_type": "code",
   "execution_count": 127,
   "id": "21583388",
   "metadata": {},
   "outputs": [
    {
     "data": {
      "image/png": "[encoded data removed]",
      "text/plain": [
       "<Figure size 432x288 with 1 Axes>"
      ]
     },
     "metadata": {
      "needs_background": "light"
     },
     "output_type": "display_data"
    },
    {
     "name": "stdout",
     "output_type": "stream",
     "text": [
      "torch.Size([256, 256, 3])\n",
      "torch.Size([1, 1, 256, 256])\n",
      "(256, 256, 1)\n"
     ]
    },
    {
     "data": {
      "image/png": "[encoded data removed]",
      "text/plain": [
       "<Figure size 432x288 with 1 Axes>"
      ]
     },
     "metadata": {
      "needs_background": "light"
     },
     "output_type": "display_data"
    }
   ],
   "source": [
    "import os\n",
    "import cv2\n",
    "\n",
    "p1 = r\"C:/Users/utkar/Desktop/ML/pytorch/image segmentation/SkinCancerDataset/test/images/ISIC_0024747.jpg\"\n",
    "\n",
    "\n",
    "# 24747\n",
    "img = cv2.imread(p1)\n",
    "img = cv2.cvtColor(img, cv2.COLOR_BGR2RGB)\n",
    "img = cv2.resize(img, (256, 256))\n",
    "plt.imshow(img)\n",
    "plt.show()\n",
    "\n",
    "img = torch.tensor(img, dtype=torch.float32)\n",
    "#print(img.shape)\n",
    "img = img.unsqueeze(0).permute(0, 3, 1, 2)\n",
    "\n",
    "mask = ENET_modified_model(img)\n",
    "#print(mask.shape)\n",
    "mask = torch.squeeze(mask).unsqueeze(0).permute(1, 2, 0).cpu().detach().numpy()\n",
    "#print(mask.shape)\n",
    "\n",
    "plt.imshow(mask, cmap='gray')\n",
    "plt.show()\n",
    "#mask_m = torch.squeeze(mask_m)\n",
    "#mask_m = mask_m.unsqueeze(1).permute(0, 2, 1).cpu().detach().numpy()\n",
    "#print('predicted')\n",
    "#plt.imshow(mask_m, cmap='gray')\n",
    "#plt.show()\n",
    "#print('image')\n",
    "#plt.imshow(img.permute(1, 2, 0))\n",
    "#plt.show()\n"
   ]
  },
  {
   "cell_type": "code",
   "execution_count": null,
   "id": "03549925",
   "metadata": {},
   "outputs": [],
   "source": []
  }
 ],
 "metadata": {
  "kernelspec": {
   "display_name": "Python 3.8.5 (pytorch)",
   "language": "python",
   "name": "pytorch"
  },
  "language_info": {
   "codemirror_mode": {
    "name": "ipython",
    "version": 3
   },
   "file_extension": ".py",
   "mimetype": "text/x-python",
   "name": "python",
   "nbconvert_exporter": "python",
   "pygments_lexer": "ipython3",
   "version": "3.8.5"
  }
 },
 "nbformat": 4,
 "nbformat_minor": 5
}
